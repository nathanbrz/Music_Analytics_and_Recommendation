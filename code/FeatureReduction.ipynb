{
  "cells": [
    {
      "cell_type": "markdown",
      "metadata": {
        "id": "hGNz_B_OUEH9"
      },
      "source": [
        "# Introduction and Motivation\n",
        "\n",
        "In the era of digital media, music streaming platforms have transformed how we discover and enjoy music. Services like Spotify have millions of tracks available at our fingertips, making music recommendation systems essential for enhancing user experience. Recognizing the significance of these systems, our team chose to explore the “Spotify Tracks, Genre, Audio Features” dataset from Kaggle (https://www.kaggle.com/datasets/pepepython/spotify-huge-database-daily-charts-over-3-years/data) using PySpark to analyze trends and build a music recommendation model.\n",
        "\n",
        "Our motivation for selecting this dataset is rooted in a desire to engage with a more intriguing and relatable subject matter than the typical technical datasets we’ve encountered in previous classes. Music is a universal language, and understanding how recommendation systems work within this context is both exciting and relevant. Music recommendation models are increasingly important as the amount of data generated online continues to grow, impacting how users interact with streaming services.\n",
        "\n",
        "The primary objectives of our project are twofold:\n",
        "1. Data Analysis: We aim to understand trends within the music data by examining how different genres relate to specific audio feature metrics. For example, we want to investigate whether certain genres consistently exhibit higher danceability scores or how energy levels vary across genres.\n",
        "2. Model Building: Utilizing machine learning techniques, we plan to develop a music recommendation model. This model will leverage the insights gained from our data analysis to suggest tracks that align with user preferences based on audio features.\n",
        "\n",
        "Our project focuses on mainstream music, as the dataset predominantly features popular tracks. While we have considered algorithms like K-Nearest Neighbors for recommendation, we will determine the most suitable machine learning methods as we progress, ensuring they align with our dataset characteristics and project goals."
      ]
    },
    {
      "cell_type": "code",
      "source": [
        "from google.colab import drive\n",
        "drive.mount('/content/drive')"
      ],
      "metadata": {
        "id": "aoaN-f9UY6hH",
        "outputId": "a9112734-de81-4ed6-b4b8-eab05ca2e925",
        "colab": {
          "base_uri": "https://localhost:8080/"
        }
      },
      "execution_count": 1,
      "outputs": [
        {
          "output_type": "stream",
          "name": "stdout",
          "text": [
            "Mounted at /content/drive\n"
          ]
        }
      ]
    },
    {
      "cell_type": "markdown",
      "metadata": {
        "id": "mVdBcbVBUEH_"
      },
      "source": [
        "# Data Collection"
      ]
    },
    {
      "cell_type": "code",
      "execution_count": 111,
      "metadata": {
        "id": "JoOJX9OMUEIA",
        "outputId": "4e68173d-626a-4459-adb5-a2a6cc7e317d",
        "colab": {
          "base_uri": "https://localhost:8080/"
        }
      },
      "outputs": [
        {
          "output_type": "stream",
          "name": "stdout",
          "text": [
            "An existing SparkSession is detected.\n",
            "+-----------+--------------------+------------------+---------------+--------------------+------------+-----------------+----------------+--------+--------------------+------------+------------+---------------+------------------+------------------+---+--------+----+-----------+-------------------+----------------+----------+-------+-------+-----------+--------------+---------+------------------+-------------------+--------------+-------------+-------+-----------+------+------+--------+---------+----------------+----+----+-------+-----+-----+----+-----+-----+-----+---+---+--------+---+------+---------+----+----+------------+---------+----------+--------+-------+----+-----+----+-----+------------+-------+----+----+-------+--------+-----+--------+--------+-------+----------+-------------------+------------+-------------------+-------------------+------------------+-------------+-------------------+------------------+-------------------+-----------+------------------+-------------+-----------------+-----------------+-------------------+--------------+-----------------+--------------+--------------+---------------+---------------+-----+--------------+-------------+--------------+---------+---------+------+-------+----+----+----+---------+----+------------------+-----------------+------------------+---------+---------+-------+-------+------+------+-----+--------+----------+-------+-------+-------+------+-------+------+---------+-------+-----+--------+------+-----------+-----------+------+----+-----------+------+--------+---------+-----+------+-----------+------+------+---+---+--------+-----------+-----------+--------------------+\n",
            "|   Country0|                 Uri|        Popularity|          Title|              Artist|Album/Single|            Genre|Artist_followers|Explicit|              Album9|Release_date|Track_number|Tracks_in_album|      danceability|            energy|key|loudness|mode|speechiness|          acoustics|instrumentalness|liveliness|valence|  tempo|duration_ms|time_signature|Genre_new|Days_since_release|Released_after_2017|Explicit_false|Explicit_true|album31|compilation|single|bolero|boy band|country36|dance/electronic|else|funk|hip hop|house|indie|jazz|k-pop|latin|metal|opm|pop|r&b/soul|rap|reggae|reggaeton|rock|trap|syuzhet_norm|bing_norm|afinn_norm|nrc_norm|syuzhet|bing|afinn| nrc|anger|anticipation|disgust|fear| joy|sadness|surprise|trust|negative|positive|n_words|anger_norm|  anticipation_norm|disgust_norm|          fear_norm|           joy_norm|      sadness_norm|surprise_norm|         trust_norm|     negative_norm|      positive_norm|anger_norm2|anticipation_norm2|disgust_norm2|       fear_norm2|        joy_norm2|      sadness_norm2|surprise_norm2|      trust_norm2|negative_norm2|positive_norm2|negative_bog_jr|positive_bog_jr|Bayes|Negative_Bayes|Neutral_Bayes|Positive_Bayes|LDA_Topic|Celebrate|Desire|Explore| Fun|Hope|Love|Nostalgia|Thug|bing_norm_negative|bing_norm_neutral|bing_norm_positive|Argentina|Australia|Austria|Belgium|Brazil|Canada|Chile|Colombia|Costa Rica|Denmark|Ecuador|Finland|France|Germany|Global|Indonesia|Ireland|Italy|Malaysia|Mexico|Netherlands|New Zealand|Norway|Peru|Philippines|Poland|Portugal|Singapore|Spain|Sweden|Switzerland|Taiwan|Turkey| UK|USA|Popu_max|Top10_dummy|Top50_dummy|             Cluster|\n",
            "+-----------+--------------------+------------------+---------------+--------------------+------------+-----------------+----------------+--------+--------------------+------------+------------+---------------+------------------+------------------+---+--------+----+-----------+-------------------+----------------+----------+-------+-------+-----------+--------------+---------+------------------+-------------------+--------------+-------------+-------+-----------+------+------+--------+---------+----------------+----+----+-------+-----+-----+----+-----+-----+-----+---+---+--------+---+------+---------+----+----+------------+---------+----------+--------+-------+----+-----+----+-----+------------+-------+----+----+-------+--------+-----+--------+--------+-------+----------+-------------------+------------+-------------------+-------------------+------------------+-------------+-------------------+------------------+-------------------+-----------+------------------+-------------+-----------------+-----------------+-------------------+--------------+-----------------+--------------+--------------+---------------+---------------+-----+--------------+-------------+--------------+---------+---------+------+-------+----+----+----+---------+----+------------------+-----------------+------------------+---------+---------+-------+-------+------+------+-----+--------+----------+-------+-------+-------+------+-------+------+---------+-------+-----+--------+------+-----------+-----------+------+----+-----------+------+--------+---------+-----+------+-----------+------+------+---+---+--------+-----------+-----------+--------------------+\n",
            "|     Global|https://open.spot...|          31833.95|     adan y eva|        Paulo Londra|      single|argentine hip hop|      11427104.0|   False|          Adan y Eva|  2018-11-05|           1|              1|             0.767|0.7090000000000001|  1|   -4.47|   1|      0.336|0.32299999999999995|             0.0|    0.0676|   0.72|171.993|     258639|             4|  hip hop|             740.0|                1.0|           1.0|            0|      0|          0|     1|     0|       0|        0|               0|   0|   0|      1|    0|    0|   0|    0|    0|    0|  0|  0|       0|  0|     0|        0|   0|   0|        NULL|     NULL|      NULL|    NULL|   NULL|NULL| NULL|NULL| NULL|        NULL|   NULL|NULL|NULL|   NULL|    NULL| NULL|    NULL|    NULL|   NULL|      NULL|               NULL|        NULL|               NULL|               NULL|              NULL|         NULL|               NULL|              NULL|               NULL|       NULL|              NULL|         NULL|             NULL|             NULL|               NULL|          NULL|             NULL|          NULL|          NULL|           NULL|           NULL| NULL|          NULL|         NULL|          NULL|     NULL|     NULL|  NULL|   NULL|NULL|NULL|NULL|     NULL|NULL|               0.0|                0|                 0|        0|        0|      0|      0|     0|     0|    0|       0|         0|      0|      0|      0|     0|      0|     1|        0|      0|    0|       0|     0|          0|          0|     0|   0|          0|     0|       0|        0|    0|     0|          0|     0|     0|  0|  0|      10|        1.0|        1.0|              global|\n",
            "|        USA|https://open.spot...|               8.0|     adan y eva|        Paulo Londra|      single|argentine hip hop|      11427104.0|   False|          Adan y Eva|  2018-11-05|           1|              1|             0.767|0.7090000000000001|  1|   -4.47|   1|      0.336|0.32299999999999995|             0.0|    0.0676|   0.72|171.993|     258639|             4|  hip hop|             740.0|                1.0|           1.0|            0|      0|          0|     1|     0|       0|        0|               0|   0|   0|      1|    0|    0|   0|    0|    0|    0|  0|  0|       0|  0|     0|        0|   0|   0|        NULL|     NULL|      NULL|    NULL|   NULL|NULL| NULL|NULL| NULL|        NULL|   NULL|NULL|NULL|   NULL|    NULL| NULL|    NULL|    NULL|   NULL|      NULL|               NULL|        NULL|               NULL|               NULL|              NULL|         NULL|               NULL|              NULL|               NULL|       NULL|              NULL|         NULL|             NULL|             NULL|               NULL|          NULL|             NULL|          NULL|          NULL|           NULL|           NULL| NULL|          NULL|         NULL|          NULL|     NULL|     NULL|  NULL|   NULL|NULL|NULL|NULL|     NULL|NULL|               0.0|                0|                 0|        0|        0|      0|      0|     0|     0|    0|       0|         0|      0|      0|      0|     0|      0|     0|        0|      0|    0|       0|     0|          0|          0|     0|   0|          0|     0|       0|        0|    0|     0|          0|     0|     0|  0|  1|     191|        0.0|        0.0|english speaking ...|\n",
            "|  Argentina|https://open.spot...|           76924.4|     adan y eva|        Paulo Londra|      single|argentine hip hop|      11427104.0|   False|          Adan y Eva|  2018-11-05|           1|              1|             0.767|0.7090000000000001|  1|   -4.47|   1|      0.336|0.32299999999999995|             0.0|    0.0676|   0.72|171.993|     258639|             4|  hip hop|             740.0|                1.0|           1.0|            0|      0|          0|     1|     0|       0|        0|               0|   0|   0|      1|    0|    0|   0|    0|    0|    0|  0|  0|       0|  0|     0|        0|   0|   0|        NULL|     NULL|      NULL|    NULL|   NULL|NULL| NULL|NULL| NULL|        NULL|   NULL|NULL|NULL|   NULL|    NULL| NULL|    NULL|    NULL|   NULL|      NULL|               NULL|        NULL|               NULL|               NULL|              NULL|         NULL|               NULL|              NULL|               NULL|       NULL|              NULL|         NULL|             NULL|             NULL|               NULL|          NULL|             NULL|          NULL|          NULL|           NULL|           NULL| NULL|          NULL|         NULL|          NULL|     NULL|     NULL|  NULL|   NULL|NULL|NULL|NULL|     NULL|NULL|               0.0|                0|                 0|        1|        0|      0|      0|     0|     0|    0|       0|         0|      0|      0|      0|     0|      0|     0|        0|      0|    0|       0|     0|          0|          0|     0|   0|          0|     0|       0|        0|    0|     0|          0|     0|     0|  0|  0|       1|        1.0|        1.0|    spanish speaking|\n",
            "|    Belgium|https://open.spot...| 849.6000000000001|     adan y eva|        Paulo Londra|      single|argentine hip hop|      11427104.0|   False|          Adan y Eva|  2018-11-05|           1|              1|             0.767|0.7090000000000001|  1|   -4.47|   1|      0.336|0.32299999999999995|             0.0|    0.0676|   0.72|171.993|     258639|             4|  hip hop|             740.0|                1.0|           1.0|            0|      0|          0|     1|     0|       0|        0|               0|   0|   0|      1|    0|    0|   0|    0|    0|    0|  0|  0|       0|  0|     0|        0|   0|   0|        NULL|     NULL|      NULL|    NULL|   NULL|NULL| NULL|NULL| NULL|        NULL|   NULL|NULL|NULL|   NULL|    NULL| NULL|    NULL|    NULL|   NULL|      NULL|               NULL|        NULL|               NULL|               NULL|              NULL|         NULL|               NULL|              NULL|               NULL|       NULL|              NULL|         NULL|             NULL|             NULL|               NULL|          NULL|             NULL|          NULL|          NULL|           NULL|           NULL| NULL|          NULL|         NULL|          NULL|     NULL|     NULL|  NULL|   NULL|NULL|NULL|NULL|     NULL|NULL|               0.0|                0|                 0|        0|        0|      0|      1|     0|     0|    0|       0|         0|      0|      0|      0|     0|      0|     0|        0|      0|    0|       0|     0|          0|          0|     0|   0|          0|     0|       0|        0|    0|     0|          0|     0|     0|  0|  0|     126|        0.0|        0.0|english speaking ...|\n",
            "|Switzerland|https://open.spot...|           20739.1|     adan y eva|        Paulo Londra|      single|argentine hip hop|      11427104.0|   False|          Adan y Eva|  2018-11-05|           1|              1|             0.767|0.7090000000000001|  1|   -4.47|   1|      0.336|0.32299999999999995|             0.0|    0.0676|   0.72|171.993|     258639|             4|  hip hop|             740.0|                1.0|           1.0|            0|      0|          0|     1|     0|       0|        0|               0|   0|   0|      1|    0|    0|   0|    0|    0|    0|  0|  0|       0|  0|     0|        0|   0|   0|        NULL|     NULL|      NULL|    NULL|   NULL|NULL| NULL|NULL| NULL|        NULL|   NULL|NULL|NULL|   NULL|    NULL| NULL|    NULL|    NULL|   NULL|      NULL|               NULL|        NULL|               NULL|               NULL|              NULL|         NULL|               NULL|              NULL|               NULL|       NULL|              NULL|         NULL|             NULL|             NULL|               NULL|          NULL|             NULL|          NULL|          NULL|           NULL|           NULL| NULL|          NULL|         NULL|          NULL|     NULL|     NULL|  NULL|   NULL|NULL|NULL|NULL|     NULL|NULL|               0.0|                0|                 0|        0|        0|      0|      0|     0|     0|    0|       0|         0|      0|      0|      0|     0|      0|     0|        0|      0|    0|       0|     0|          0|          0|     0|   0|          0|     0|       0|        0|    0|     0|          1|     0|     0|  0|  0|      21|        0.0|        1.0|english speaking ...|\n",
            "|      Chile|https://open.spot...| 60264.19999999997|     adan y eva|        Paulo Londra|      single|argentine hip hop|      11427104.0|   False|          Adan y Eva|  2018-11-05|           1|              1|             0.767|0.7090000000000001|  1|   -4.47|   1|      0.336|0.32299999999999995|             0.0|    0.0676|   0.72|171.993|     258639|             4|  hip hop|             740.0|                1.0|           1.0|            0|      0|          0|     1|     0|       0|        0|               0|   0|   0|      1|    0|    0|   0|    0|    0|    0|  0|  0|       0|  0|     0|        0|   0|   0|        NULL|     NULL|      NULL|    NULL|   NULL|NULL| NULL|NULL| NULL|        NULL|   NULL|NULL|NULL|   NULL|    NULL| NULL|    NULL|    NULL|   NULL|      NULL|               NULL|        NULL|               NULL|               NULL|              NULL|         NULL|               NULL|              NULL|               NULL|       NULL|              NULL|         NULL|             NULL|             NULL|               NULL|          NULL|             NULL|          NULL|          NULL|           NULL|           NULL| NULL|          NULL|         NULL|          NULL|     NULL|     NULL|  NULL|   NULL|NULL|NULL|NULL|     NULL|NULL|               0.0|                0|                 0|        0|        0|      0|      0|     0|     0|    1|       0|         0|      0|      0|      0|     0|      0|     0|        0|      0|    0|       0|     0|          0|          0|     0|   0|          0|     0|       0|        0|    0|     0|          0|     0|     0|  0|  0|       1|        1.0|        1.0|    spanish speaking|\n",
            "|   Colombia|https://open.spot...| 60131.15000000014|     adan y eva|        Paulo Londra|      single|argentine hip hop|      11427104.0|   False|          Adan y Eva|  2018-11-05|           1|              1|             0.767|0.7090000000000001|  1|   -4.47|   1|      0.336|0.32299999999999995|             0.0|    0.0676|   0.72|171.993|     258639|             4|  hip hop|             740.0|                1.0|           1.0|            0|      0|          0|     1|     0|       0|        0|               0|   0|   0|      1|    0|    0|   0|    0|    0|    0|  0|  0|       0|  0|     0|        0|   0|   0|        NULL|     NULL|      NULL|    NULL|   NULL|NULL| NULL|NULL| NULL|        NULL|   NULL|NULL|NULL|   NULL|    NULL| NULL|    NULL|    NULL|   NULL|      NULL|               NULL|        NULL|               NULL|               NULL|              NULL|         NULL|               NULL|              NULL|               NULL|       NULL|              NULL|         NULL|             NULL|             NULL|               NULL|          NULL|             NULL|          NULL|          NULL|           NULL|           NULL| NULL|          NULL|         NULL|          NULL|     NULL|     NULL|  NULL|   NULL|NULL|NULL|NULL|     NULL|NULL|               0.0|                0|                 0|        0|        0|      0|      0|     0|     0|    0|       1|         0|      0|      0|      0|     0|      0|     0|        0|      0|    0|       0|     0|          0|          0|     0|   0|          0|     0|       0|        0|    0|     0|          0|     0|     0|  0|  0|       2|        1.0|        1.0|    spanish speaking|\n",
            "| Costa Rica|https://open.spot...| 64081.30000000009|     adan y eva|        Paulo Londra|      single|argentine hip hop|      11427104.0|   False|          Adan y Eva|  2018-11-05|           1|              1|             0.767|0.7090000000000001|  1|   -4.47|   1|      0.336|0.32299999999999995|             0.0|    0.0676|   0.72|171.993|     258639|             4|  hip hop|             740.0|                1.0|           1.0|            0|      0|          0|     1|     0|       0|        0|               0|   0|   0|      1|    0|    0|   0|    0|    0|    0|  0|  0|       0|  0|     0|        0|   0|   0|        NULL|     NULL|      NULL|    NULL|   NULL|NULL| NULL|NULL| NULL|        NULL|   NULL|NULL|NULL|   NULL|    NULL| NULL|    NULL|    NULL|   NULL|      NULL|               NULL|        NULL|               NULL|               NULL|              NULL|         NULL|               NULL|              NULL|               NULL|       NULL|              NULL|         NULL|             NULL|             NULL|               NULL|          NULL|             NULL|          NULL|          NULL|           NULL|           NULL| NULL|          NULL|         NULL|          NULL|     NULL|     NULL|  NULL|   NULL|NULL|NULL|NULL|     NULL|NULL|               0.0|                0|                 0|        0|        0|      0|      0|     0|     0|    0|       0|         1|      0|      0|      0|     0|      0|     0|        0|      0|    0|       0|     0|          0|          0|     0|   0|          0|     0|       0|        0|    0|     0|          0|     0|     0|  0|  0|       1|        1.0|        1.0|    spanish speaking|\n",
            "|    Germany|https://open.spot...|             208.0|     adan y eva|        Paulo Londra|      single|argentine hip hop|      11427104.0|   False|          Adan y Eva|  2018-11-05|           1|              1|             0.767|0.7090000000000001|  1|   -4.47|   1|      0.336|0.32299999999999995|             0.0|    0.0676|   0.72|171.993|     258639|             4|  hip hop|             740.0|                1.0|           1.0|            0|      0|          0|     1|     0|       0|        0|               0|   0|   0|      1|    0|    0|   0|    0|    0|    0|  0|  0|       0|  0|     0|        0|   0|   0|        NULL|     NULL|      NULL|    NULL|   NULL|NULL| NULL|NULL| NULL|        NULL|   NULL|NULL|NULL|   NULL|    NULL| NULL|    NULL|    NULL|   NULL|      NULL|               NULL|        NULL|               NULL|               NULL|              NULL|         NULL|               NULL|              NULL|               NULL|       NULL|              NULL|         NULL|             NULL|             NULL|               NULL|          NULL|             NULL|          NULL|          NULL|           NULL|           NULL| NULL|          NULL|         NULL|          NULL|     NULL|     NULL|  NULL|   NULL|NULL|NULL|NULL|     NULL|NULL|               0.0|                0|                 0|        0|        0|      0|      0|     0|     0|    0|       0|         0|      0|      0|      0|     0|      1|     0|        0|      0|    0|       0|     0|          0|          0|     0|   0|          0|     0|       0|        0|    0|     0|          0|     0|     0|  0|  0|     180|        0.0|        0.0|english speaking ...|\n",
            "|    Ecuador|https://open.spot...|           75636.9|     adan y eva|        Paulo Londra|      single|argentine hip hop|      11427104.0|   False|          Adan y Eva|  2018-11-05|           1|              1|             0.767|0.7090000000000001|  1|   -4.47|   1|      0.336|0.32299999999999995|             0.0|    0.0676|   0.72|171.993|     258639|             4|  hip hop|             740.0|                1.0|           1.0|            0|      0|          0|     1|     0|       0|        0|               0|   0|   0|      1|    0|    0|   0|    0|    0|    0|  0|  0|       0|  0|     0|        0|   0|   0|        NULL|     NULL|      NULL|    NULL|   NULL|NULL| NULL|NULL| NULL|        NULL|   NULL|NULL|NULL|   NULL|    NULL| NULL|    NULL|    NULL|   NULL|      NULL|               NULL|        NULL|               NULL|               NULL|              NULL|         NULL|               NULL|              NULL|               NULL|       NULL|              NULL|         NULL|             NULL|             NULL|               NULL|          NULL|             NULL|          NULL|          NULL|           NULL|           NULL| NULL|          NULL|         NULL|          NULL|     NULL|     NULL|  NULL|   NULL|NULL|NULL|NULL|     NULL|NULL|               0.0|                0|                 0|        0|        0|      0|      0|     0|     0|    0|       0|         0|      0|      1|      0|     0|      0|     0|        0|      0|    0|       0|     0|          0|          0|     0|   0|          0|     0|       0|        0|    0|     0|          0|     0|     0|  0|  0|       1|        1.0|        1.0|    spanish speaking|\n",
            "|      Spain|https://open.spot...| 69318.34999999998|     adan y eva|        Paulo Londra|      single|argentine hip hop|      11427104.0|   False|          Adan y Eva|  2018-11-05|           1|              1|             0.767|0.7090000000000001|  1|   -4.47|   1|      0.336|0.32299999999999995|             0.0|    0.0676|   0.72|171.993|     258639|             4|  hip hop|             740.0|                1.0|           1.0|            0|      0|          0|     1|     0|       0|        0|               0|   0|   0|      1|    0|    0|   0|    0|    0|    0|  0|  0|       0|  0|     0|        0|   0|   0|        NULL|     NULL|      NULL|    NULL|   NULL|NULL| NULL|NULL| NULL|        NULL|   NULL|NULL|NULL|   NULL|    NULL| NULL|    NULL|    NULL|   NULL|      NULL|               NULL|        NULL|               NULL|               NULL|              NULL|         NULL|               NULL|              NULL|               NULL|       NULL|              NULL|         NULL|             NULL|             NULL|               NULL|          NULL|             NULL|          NULL|          NULL|           NULL|           NULL| NULL|          NULL|         NULL|          NULL|     NULL|     NULL|  NULL|   NULL|NULL|NULL|NULL|     NULL|NULL|               0.0|                0|                 0|        0|        0|      0|      0|     0|     0|    0|       0|         0|      0|      0|      0|     0|      0|     0|        0|      0|    0|       0|     0|          0|          0|     0|   0|          0|     0|       0|        0|    1|     0|          0|     0|     0|  0|  0|       1|        1.0|        1.0|    spanish speaking|\n",
            "|      Italy|https://open.spot...|25361.250000000004|     adan y eva|        Paulo Londra|      single|argentine hip hop|      11427104.0|   False|          Adan y Eva|  2018-11-05|           1|              1|             0.767|0.7090000000000001|  1|   -4.47|   1|      0.336|0.32299999999999995|             0.0|    0.0676|   0.72|171.993|     258639|             4|  hip hop|             740.0|                1.0|           1.0|            0|      0|          0|     1|     0|       0|        0|               0|   0|   0|      1|    0|    0|   0|    0|    0|    0|  0|  0|       0|  0|     0|        0|   0|   0|        NULL|     NULL|      NULL|    NULL|   NULL|NULL| NULL|NULL| NULL|        NULL|   NULL|NULL|NULL|   NULL|    NULL| NULL|    NULL|    NULL|   NULL|      NULL|               NULL|        NULL|               NULL|               NULL|              NULL|         NULL|               NULL|              NULL|               NULL|       NULL|              NULL|         NULL|             NULL|             NULL|               NULL|          NULL|             NULL|          NULL|          NULL|           NULL|           NULL| NULL|          NULL|         NULL|          NULL|     NULL|     NULL|  NULL|   NULL|NULL|NULL|NULL|     NULL|NULL|               0.0|                0|                 0|        0|        0|      0|      0|     0|     0|    0|       0|         0|      0|      0|      0|     0|      0|     0|        0|      0|    1|       0|     0|          0|          0|     0|   0|          0|     0|       0|        0|    0|     0|          0|     0|     0|  0|  0|      11|        0.0|        1.0|southern europe a...|\n",
            "|     Mexico|https://open.spot...| 56380.40000000006|     adan y eva|        Paulo Londra|      single|argentine hip hop|      11427104.0|   False|          Adan y Eva|  2018-11-05|           1|              1|             0.767|0.7090000000000001|  1|   -4.47|   1|      0.336|0.32299999999999995|             0.0|    0.0676|   0.72|171.993|     258639|             4|  hip hop|             740.0|                1.0|           1.0|            0|      0|          0|     1|     0|       0|        0|               0|   0|   0|      1|    0|    0|   0|    0|    0|    0|  0|  0|       0|  0|     0|        0|   0|   0|        NULL|     NULL|      NULL|    NULL|   NULL|NULL| NULL|NULL| NULL|        NULL|   NULL|NULL|NULL|   NULL|    NULL| NULL|    NULL|    NULL|   NULL|      NULL|               NULL|        NULL|               NULL|               NULL|              NULL|         NULL|               NULL|              NULL|               NULL|       NULL|              NULL|         NULL|             NULL|             NULL|               NULL|          NULL|             NULL|          NULL|          NULL|           NULL|           NULL| NULL|          NULL|         NULL|          NULL|     NULL|     NULL|  NULL|   NULL|NULL|NULL|NULL|     NULL|NULL|               0.0|                0|                 0|        0|        0|      0|      0|     0|     0|    0|       0|         0|      0|      0|      0|     0|      0|     0|        0|      0|    0|       0|     1|          0|          0|     0|   0|          0|     0|       0|        0|    0|     0|          0|     0|     0|  0|  0|       2|        1.0|        1.0|    spanish speaking|\n",
            "|       Peru|https://open.spot...| 68141.79999999992|     adan y eva|        Paulo Londra|      single|argentine hip hop|      11427104.0|   False|          Adan y Eva|  2018-11-05|           1|              1|             0.767|0.7090000000000001|  1|   -4.47|   1|      0.336|0.32299999999999995|             0.0|    0.0676|   0.72|171.993|     258639|             4|  hip hop|             740.0|                1.0|           1.0|            0|      0|          0|     1|     0|       0|        0|               0|   0|   0|      1|    0|    0|   0|    0|    0|    0|  0|  0|       0|  0|     0|        0|   0|   0|        NULL|     NULL|      NULL|    NULL|   NULL|NULL| NULL|NULL| NULL|        NULL|   NULL|NULL|NULL|   NULL|    NULL| NULL|    NULL|    NULL|   NULL|      NULL|               NULL|        NULL|               NULL|               NULL|              NULL|         NULL|               NULL|              NULL|               NULL|       NULL|              NULL|         NULL|             NULL|             NULL|               NULL|          NULL|             NULL|          NULL|          NULL|           NULL|           NULL| NULL|          NULL|         NULL|          NULL|     NULL|     NULL|  NULL|   NULL|NULL|NULL|NULL|     NULL|NULL|               0.0|                0|                 0|        0|        0|      0|      0|     0|     0|    0|       0|         0|      0|      0|      0|     0|      0|     0|        0|      0|    0|       0|     0|          0|          0|     0|   1|          0|     0|       0|        0|    0|     0|          0|     0|     0|  0|  0|       1|        1.0|        1.0|    spanish speaking|\n",
            "|   Portugal|https://open.spot...|11281.650000000005|     adan y eva|        Paulo Londra|      single|argentine hip hop|      11427104.0|   False|          Adan y Eva|  2018-11-05|           1|              1|             0.767|0.7090000000000001|  1|   -4.47|   1|      0.336|0.32299999999999995|             0.0|    0.0676|   0.72|171.993|     258639|             4|  hip hop|             740.0|                1.0|           1.0|            0|      0|          0|     1|     0|       0|        0|               0|   0|   0|      1|    0|    0|   0|    0|    0|    0|  0|  0|       0|  0|     0|        0|   0|   0|        NULL|     NULL|      NULL|    NULL|   NULL|NULL| NULL|NULL| NULL|        NULL|   NULL|NULL|NULL|   NULL|    NULL| NULL|    NULL|    NULL|   NULL|      NULL|               NULL|        NULL|               NULL|               NULL|              NULL|         NULL|               NULL|              NULL|               NULL|       NULL|              NULL|         NULL|             NULL|             NULL|               NULL|          NULL|             NULL|          NULL|          NULL|           NULL|           NULL| NULL|          NULL|         NULL|          NULL|     NULL|     NULL|  NULL|   NULL|NULL|NULL|NULL|     NULL|NULL|               0.0|                0|                 0|        0|        0|      0|      0|     0|     0|    0|       0|         0|      0|      0|      0|     0|      0|     0|        0|      0|    0|       0|     0|          0|          0|     0|   0|          0|     0|       1|        0|    0|     0|          0|     0|     0|  0|  0|      60|        0.0|        0.0|southern europe a...|\n",
            "|     Taiwan|https://open.spot...|               8.8|     adan y eva|        Paulo Londra|      single|argentine hip hop|      11427104.0|   False|          Adan y Eva|  2018-11-05|           1|              1|             0.767|0.7090000000000001|  1|   -4.47|   1|      0.336|0.32299999999999995|             0.0|    0.0676|   0.72|171.993|     258639|             4|  hip hop|             740.0|                1.0|           1.0|            0|      0|          0|     1|     0|       0|        0|               0|   0|   0|      1|    0|    0|   0|    0|    0|    0|  0|  0|       0|  0|     0|        0|   0|   0|        NULL|     NULL|      NULL|    NULL|   NULL|NULL| NULL|NULL| NULL|        NULL|   NULL|NULL|NULL|   NULL|    NULL| NULL|    NULL|    NULL|   NULL|      NULL|               NULL|        NULL|               NULL|               NULL|              NULL|         NULL|               NULL|              NULL|               NULL|       NULL|              NULL|         NULL|             NULL|             NULL|               NULL|          NULL|             NULL|          NULL|          NULL|           NULL|           NULL| NULL|          NULL|         NULL|          NULL|     NULL|     NULL|  NULL|   NULL|NULL|NULL|NULL|     NULL|NULL|               0.0|                0|                 0|        0|        0|      0|      0|     0|     0|    0|       0|         0|      0|      0|      0|     0|      0|     0|        0|      0|    0|       0|     0|          0|          0|     0|   0|          0|     0|       0|        0|    0|     0|          0|     1|     0|  0|  0|     190|        0.0|        0.0|english speaking ...|\n",
            "|     Global|https://open.spot...|             418.0|it wont kill ya|The Chainsmokers ...|       album|        dance pop|      16931568.0|   False|Memories...Do Not...|  2017-04-07|           7|             12|0.5720000000000001|              0.53|  6|  -8.521|   0|     0.0654|             0.0647|        0.000169|     0.127|   0.12|170.138|     217613|             4|      pop|            1314.0|                1.0|           1.0|            0|      1|          0|     0|     0|       0|        0|               0|   0|   0|      0|    0|    0|   0|    0|    0|    0|  0|  1|       0|  0|     0|        0|   0|   0|        -1.0|     -1.0|      -1.0|    -1.0|   -2.0|-1.0| -7.0|-3.0|  0.0|         1.0|    0.0| 1.0| 1.0|    2.0|     0.0|  1.0|     4.0|     1.0|  274.0|       0.0|0.00364963503649635|         0.0|0.00364963503649635|0.00364963503649635|0.0072992700729927|          0.0|0.00364963503649635|0.0145985401459854|0.00364963503649635|        0.0| 0.166666666666667|          0.0|0.166666666666667|0.166666666666667|0.33333333333333304|           0.0|0.166666666666667|           0.8|           0.2|            0.0|            0.0| -1.0|           1.0|          0.0|           0.0|   Desire|      0.0|   1.0|    0.0| 0.0| 0.0| 0.0|      0.0| 0.0|               1.0|                0|                 0|        0|        0|      0|      0|     0|     0|    0|       0|         0|      0|      0|      0|     0|      0|     1|        0|      0|    0|       0|     0|          0|          0|     0|   0|          0|     0|       0|        0|    0|     0|          0|     0|     0|  0|  0|      72|        0.0|        0.0|              global|\n",
            "|        USA|https://open.spot...| 581.1999999999998|it wont kill ya|The Chainsmokers ...|       album|        dance pop|      16931568.0|   False|Memories...Do Not...|  2017-04-07|           7|             12|0.5720000000000001|              0.53|  6|  -8.521|   0|     0.0654|             0.0647|        0.000169|     0.127|   0.12|170.138|     217613|             4|      pop|            1314.0|                1.0|           1.0|            0|      1|          0|     0|     0|       0|        0|               0|   0|   0|      0|    0|    0|   0|    0|    0|    0|  0|  1|       0|  0|     0|        0|   0|   0|        -1.0|     -1.0|      -1.0|    -1.0|   -2.0|-1.0| -7.0|-3.0|  0.0|         1.0|    0.0| 1.0| 1.0|    2.0|     0.0|  1.0|     4.0|     1.0|  274.0|       0.0|0.00364963503649635|         0.0|0.00364963503649635|0.00364963503649635|0.0072992700729927|          0.0|0.00364963503649635|0.0145985401459854|0.00364963503649635|        0.0| 0.166666666666667|          0.0|0.166666666666667|0.166666666666667|0.33333333333333304|           0.0|0.166666666666667|           0.8|           0.2|            0.0|            0.0| -1.0|           1.0|          0.0|           0.0|   Desire|      0.0|   1.0|    0.0| 0.0| 0.0| 0.0|      0.0| 0.0|               1.0|                0|                 0|        0|        0|      0|      0|     0|     0|    0|       0|         0|      0|      0|      0|     0|      0|     0|        0|      0|    0|       0|     0|          0|          0|     0|   0|          0|     0|       0|        0|    0|     0|          0|     0|     0|  0|  1|      55|        0.0|        0.0|english speaking ...|\n",
            "|         UK|https://open.spot...|             120.8|it wont kill ya|The Chainsmokers ...|       album|        dance pop|      16931568.0|   False|Memories...Do Not...|  2017-04-07|           7|             12|0.5720000000000001|              0.53|  6|  -8.521|   0|     0.0654|             0.0647|        0.000169|     0.127|   0.12|170.138|     217613|             4|      pop|            1314.0|                1.0|           1.0|            0|      1|          0|     0|     0|       0|        0|               0|   0|   0|      0|    0|    0|   0|    0|    0|    0|  0|  1|       0|  0|     0|        0|   0|   0|        -1.0|     -1.0|      -1.0|    -1.0|   -2.0|-1.0| -7.0|-3.0|  0.0|         1.0|    0.0| 1.0| 1.0|    2.0|     0.0|  1.0|     4.0|     1.0|  274.0|       0.0|0.00364963503649635|         0.0|0.00364963503649635|0.00364963503649635|0.0072992700729927|          0.0|0.00364963503649635|0.0145985401459854|0.00364963503649635|        0.0| 0.166666666666667|          0.0|0.166666666666667|0.166666666666667|0.33333333333333304|           0.0|0.166666666666667|           0.8|           0.2|            0.0|            0.0| -1.0|           1.0|          0.0|           0.0|   Desire|      0.0|   1.0|    0.0| 0.0| 0.0| 0.0|      0.0| 0.0|               1.0|                0|                 0|        0|        0|      0|      0|     0|     0|    0|       0|         0|      0|      0|      0|     0|      0|     0|        0|      0|    0|       0|     0|          0|          0|     0|   0|          0|     0|       0|        0|    0|     0|          0|     0|     0|  1|  0|     109|        0.0|        0.0|english speaking ...|\n",
            "|    Austria|https://open.spot...|             404.0|it wont kill ya|The Chainsmokers ...|       album|        dance pop|      16931568.0|   False|Memories...Do Not...|  2017-04-07|           7|             12|0.5720000000000001|              0.53|  6|  -8.521|   0|     0.0654|             0.0647|        0.000169|     0.127|   0.12|170.138|     217613|             4|      pop|            1314.0|                1.0|           1.0|            0|      1|          0|     0|     0|       0|        0|               0|   0|   0|      0|    0|    0|   0|    0|    0|    0|  0|  1|       0|  0|     0|        0|   0|   0|        -1.0|     -1.0|      -1.0|    -1.0|   -2.0|-1.0| -7.0|-3.0|  0.0|         1.0|    0.0| 1.0| 1.0|    2.0|     0.0|  1.0|     4.0|     1.0|  274.0|       0.0|0.00364963503649635|         0.0|0.00364963503649635|0.00364963503649635|0.0072992700729927|          0.0|0.00364963503649635|0.0145985401459854|0.00364963503649635|        0.0| 0.166666666666667|          0.0|0.166666666666667|0.166666666666667|0.33333333333333304|           0.0|0.166666666666667|           0.8|           0.2|            0.0|            0.0| -1.0|           1.0|          0.0|           0.0|   Desire|      0.0|   1.0|    0.0| 0.0| 0.0| 0.0|      0.0| 0.0|               1.0|                0|                 0|        0|        0|      1|      0|     0|     0|    0|       0|         0|      0|      0|      0|     0|      0|     0|        0|      0|    0|       0|     0|          0|          0|     0|   0|          0|     0|       0|        0|    0|     0|          0|     0|     0|  0|  0|      62|        0.0|        0.0|english speaking ...|\n",
            "+-----------+--------------------+------------------+---------------+--------------------+------------+-----------------+----------------+--------+--------------------+------------+------------+---------------+------------------+------------------+---+--------+----+-----------+-------------------+----------------+----------+-------+-------+-----------+--------------+---------+------------------+-------------------+--------------+-------------+-------+-----------+------+------+--------+---------+----------------+----+----+-------+-----+-----+----+-----+-----+-----+---+---+--------+---+------+---------+----+----+------------+---------+----------+--------+-------+----+-----+----+-----+------------+-------+----+----+-------+--------+-----+--------+--------+-------+----------+-------------------+------------+-------------------+-------------------+------------------+-------------+-------------------+------------------+-------------------+-----------+------------------+-------------+-----------------+-----------------+-------------------+--------------+-----------------+--------------+--------------+---------------+---------------+-----+--------------+-------------+--------------+---------+---------+------+-------+----+----+----+---------+----+------------------+-----------------+------------------+---------+---------+-------+-------+------+------+-----+--------+----------+-------+-------+-------+------+-------+------+---------+-------+-----+--------+------+-----------+-----------+------+----+-----------+------+--------+---------+-----+------+-----------+------+------+---+---+--------+-----------+-----------+--------------------+\n",
            "only showing top 20 rows\n",
            "\n"
          ]
        }
      ],
      "source": [
        "from pyspark.sql import SparkSession\n",
        "\n",
        "\n",
        "if SparkSession._instantiatedSession is not None:\n",
        "    print(\"An existing SparkSession is detected.\")\n",
        "    SparkSession._instantiatedSession.stop()\n",
        "\n",
        "\n",
        "# Initialize a Spark session\n",
        "# Start a new Spark session\n",
        "spark = SparkSession.builder \\\n",
        "    .appName(\"MusicDataAnalysisProject\") \\\n",
        "    .config(\"spark.driver.memory\", \"4g\") \\\n",
        "    .config(\"spark.driver.bindAddress\", \"127.0.0.1\") \\\n",
        "    .getOrCreate()\n",
        "\n",
        "\n",
        "spark.sparkContext.setLogLevel(\"ERROR\")\n",
        "\n",
        "# Path to your CSV file\n",
        "csv_path = \"drive/MyDrive/612_files/Final database.csv\"\n",
        "\n",
        "music_df = spark.read.option(\"header\", \"true\").csv(csv_path, inferSchema=True)\n",
        "music_df = music_df.withColumnRenamed(\"Country\", \"Country0\")\n",
        "\n",
        "# Show the first few rows to verify\n",
        "music_df.show()\n"
      ]
    },
    {
      "cell_type": "markdown",
      "metadata": {
        "id": "MowgGHL6UEIB"
      },
      "source": [
        "# Data Inspection and Validation"
      ]
    },
    {
      "cell_type": "markdown",
      "metadata": {
        "id": "xTEeZJPQUEIB"
      },
      "source": [
        "Numerical columns are String in the schema, so we'll convert them to numeric types later on (Data Transformation)."
      ]
    },
    {
      "cell_type": "code",
      "execution_count": 112,
      "metadata": {
        "id": "6FjRmS46UEIC",
        "outputId": "756083f2-6685-4b4b-ec06-f15a7f3d777a",
        "colab": {
          "base_uri": "https://localhost:8080/"
        }
      },
      "outputs": [
        {
          "output_type": "stream",
          "name": "stdout",
          "text": [
            "root\n",
            " |-- Country0: string (nullable = true)\n",
            " |-- Uri: string (nullable = true)\n",
            " |-- Popularity: double (nullable = true)\n",
            " |-- Title: string (nullable = true)\n",
            " |-- Artist: string (nullable = true)\n",
            " |-- Album/Single: string (nullable = true)\n",
            " |-- Genre: string (nullable = true)\n",
            " |-- Artist_followers: string (nullable = true)\n",
            " |-- Explicit: string (nullable = true)\n",
            " |-- Album9: string (nullable = true)\n",
            " |-- Release_date: string (nullable = true)\n",
            " |-- Track_number: string (nullable = true)\n",
            " |-- Tracks_in_album: string (nullable = true)\n",
            " |-- danceability: string (nullable = true)\n",
            " |-- energy: string (nullable = true)\n",
            " |-- key: string (nullable = true)\n",
            " |-- loudness: string (nullable = true)\n",
            " |-- mode: string (nullable = true)\n",
            " |-- speechiness: string (nullable = true)\n",
            " |-- acoustics: string (nullable = true)\n",
            " |-- instrumentalness: string (nullable = true)\n",
            " |-- liveliness: string (nullable = true)\n",
            " |-- valence: string (nullable = true)\n",
            " |-- tempo: string (nullable = true)\n",
            " |-- duration_ms: string (nullable = true)\n",
            " |-- time_signature: string (nullable = true)\n",
            " |-- Genre_new: string (nullable = true)\n",
            " |-- Days_since_release: string (nullable = true)\n",
            " |-- Released_after_2017: double (nullable = true)\n",
            " |-- Explicit_false: double (nullable = true)\n",
            " |-- Explicit_true: integer (nullable = true)\n",
            " |-- album31: integer (nullable = true)\n",
            " |-- compilation: integer (nullable = true)\n",
            " |-- single: integer (nullable = true)\n",
            " |-- bolero: integer (nullable = true)\n",
            " |-- boy band: integer (nullable = true)\n",
            " |-- country36: integer (nullable = true)\n",
            " |-- dance/electronic: integer (nullable = true)\n",
            " |-- else: integer (nullable = true)\n",
            " |-- funk: integer (nullable = true)\n",
            " |-- hip hop: integer (nullable = true)\n",
            " |-- house: integer (nullable = true)\n",
            " |-- indie: integer (nullable = true)\n",
            " |-- jazz: integer (nullable = true)\n",
            " |-- k-pop: integer (nullable = true)\n",
            " |-- latin: integer (nullable = true)\n",
            " |-- metal: integer (nullable = true)\n",
            " |-- opm: integer (nullable = true)\n",
            " |-- pop: integer (nullable = true)\n",
            " |-- r&b/soul: integer (nullable = true)\n",
            " |-- rap: integer (nullable = true)\n",
            " |-- reggae: integer (nullable = true)\n",
            " |-- reggaeton: integer (nullable = true)\n",
            " |-- rock: integer (nullable = true)\n",
            " |-- trap: integer (nullable = true)\n",
            " |-- syuzhet_norm: double (nullable = true)\n",
            " |-- bing_norm: double (nullable = true)\n",
            " |-- afinn_norm: double (nullable = true)\n",
            " |-- nrc_norm: double (nullable = true)\n",
            " |-- syuzhet: double (nullable = true)\n",
            " |-- bing: double (nullable = true)\n",
            " |-- afinn: double (nullable = true)\n",
            " |-- nrc: double (nullable = true)\n",
            " |-- anger: double (nullable = true)\n",
            " |-- anticipation: double (nullable = true)\n",
            " |-- disgust: double (nullable = true)\n",
            " |-- fear: double (nullable = true)\n",
            " |-- joy: double (nullable = true)\n",
            " |-- sadness: double (nullable = true)\n",
            " |-- surprise: double (nullable = true)\n",
            " |-- trust: double (nullable = true)\n",
            " |-- negative: double (nullable = true)\n",
            " |-- positive: double (nullable = true)\n",
            " |-- n_words: double (nullable = true)\n",
            " |-- anger_norm: double (nullable = true)\n",
            " |-- anticipation_norm: double (nullable = true)\n",
            " |-- disgust_norm: double (nullable = true)\n",
            " |-- fear_norm: double (nullable = true)\n",
            " |-- joy_norm: double (nullable = true)\n",
            " |-- sadness_norm: double (nullable = true)\n",
            " |-- surprise_norm: double (nullable = true)\n",
            " |-- trust_norm: double (nullable = true)\n",
            " |-- negative_norm: double (nullable = true)\n",
            " |-- positive_norm: double (nullable = true)\n",
            " |-- anger_norm2: double (nullable = true)\n",
            " |-- anticipation_norm2: double (nullable = true)\n",
            " |-- disgust_norm2: double (nullable = true)\n",
            " |-- fear_norm2: double (nullable = true)\n",
            " |-- joy_norm2: double (nullable = true)\n",
            " |-- sadness_norm2: double (nullable = true)\n",
            " |-- surprise_norm2: double (nullable = true)\n",
            " |-- trust_norm2: double (nullable = true)\n",
            " |-- negative_norm2: double (nullable = true)\n",
            " |-- positive_norm2: double (nullable = true)\n",
            " |-- negative_bog_jr: double (nullable = true)\n",
            " |-- positive_bog_jr: double (nullable = true)\n",
            " |-- Bayes: double (nullable = true)\n",
            " |-- Negative_Bayes: double (nullable = true)\n",
            " |-- Neutral_Bayes: double (nullable = true)\n",
            " |-- Positive_Bayes: double (nullable = true)\n",
            " |-- LDA_Topic: string (nullable = true)\n",
            " |-- Celebrate: string (nullable = true)\n",
            " |-- Desire: double (nullable = true)\n",
            " |-- Explore: double (nullable = true)\n",
            " |-- Fun: double (nullable = true)\n",
            " |-- Hope: double (nullable = true)\n",
            " |-- Love: double (nullable = true)\n",
            " |-- Nostalgia: double (nullable = true)\n",
            " |-- Thug: double (nullable = true)\n",
            " |-- bing_norm_negative: double (nullable = true)\n",
            " |-- bing_norm_neutral: integer (nullable = true)\n",
            " |-- bing_norm_positive: integer (nullable = true)\n",
            " |-- Argentina: integer (nullable = true)\n",
            " |-- Australia: integer (nullable = true)\n",
            " |-- Austria: integer (nullable = true)\n",
            " |-- Belgium: integer (nullable = true)\n",
            " |-- Brazil: integer (nullable = true)\n",
            " |-- Canada: integer (nullable = true)\n",
            " |-- Chile: integer (nullable = true)\n",
            " |-- Colombia: integer (nullable = true)\n",
            " |-- Costa Rica: integer (nullable = true)\n",
            " |-- Denmark: integer (nullable = true)\n",
            " |-- Ecuador: integer (nullable = true)\n",
            " |-- Finland: integer (nullable = true)\n",
            " |-- France: integer (nullable = true)\n",
            " |-- Germany: integer (nullable = true)\n",
            " |-- Global: integer (nullable = true)\n",
            " |-- Indonesia: integer (nullable = true)\n",
            " |-- Ireland: integer (nullable = true)\n",
            " |-- Italy: integer (nullable = true)\n",
            " |-- Malaysia: integer (nullable = true)\n",
            " |-- Mexico: integer (nullable = true)\n",
            " |-- Netherlands: integer (nullable = true)\n",
            " |-- New Zealand: integer (nullable = true)\n",
            " |-- Norway: integer (nullable = true)\n",
            " |-- Peru: integer (nullable = true)\n",
            " |-- Philippines: integer (nullable = true)\n",
            " |-- Poland: integer (nullable = true)\n",
            " |-- Portugal: integer (nullable = true)\n",
            " |-- Singapore: integer (nullable = true)\n",
            " |-- Spain: integer (nullable = true)\n",
            " |-- Sweden: integer (nullable = true)\n",
            " |-- Switzerland: integer (nullable = true)\n",
            " |-- Taiwan: integer (nullable = true)\n",
            " |-- Turkey: integer (nullable = true)\n",
            " |-- UK: integer (nullable = true)\n",
            " |-- USA: integer (nullable = true)\n",
            " |-- Popu_max: integer (nullable = true)\n",
            " |-- Top10_dummy: double (nullable = true)\n",
            " |-- Top50_dummy: double (nullable = true)\n",
            " |-- Cluster: string (nullable = true)\n",
            "\n"
          ]
        }
      ],
      "source": [
        "# Print the schema of the DataFrame\n",
        "music_df.printSchema()"
      ]
    },
    {
      "cell_type": "markdown",
      "metadata": {
        "id": "AVE-LnguUEIC"
      },
      "source": [
        "Check for null and duplicates in the dataset. Also, check the distribution of popularity scores because later we will categoprize the data by low, medium, and high popularity levels."
      ]
    },
    {
      "cell_type": "code",
      "execution_count": 113,
      "metadata": {
        "id": "tujPpjUAUEIC",
        "outputId": "78102c14-2ca3-4a4a-a5bc-e5d8e72672dd",
        "colab": {
          "base_uri": "https://localhost:8080/"
        }
      },
      "outputs": [
        {
          "output_type": "stream",
          "name": "stdout",
          "text": [
            "+--------+---+----------+-----+------+------------+-----+----------------+--------+------+------------+------------+---------------+------------+------+---+--------+----+-----------+---------+----------------+----------+-------+-----+-----------+--------------+---------+------------------+-------------------+--------------+-------------+-------+-----------+------+------+--------+---------+----------------+----+----+-------+-----+-----+----+-----+-----+-----+---+---+--------+---+------+---------+----+----+------------+---------+----------+--------+-------+-----+-----+-----+-----+------------+-------+-----+-----+-------+--------+-----+--------+--------+-------+----------+-----------------+------------+---------+--------+------------+-------------+----------+-------------+-------------+-----------+------------------+-------------+----------+---------+-------------+--------------+-----------+--------------+--------------+---------------+---------------+-----+--------------+-------------+--------------+---------+---------+------+-------+-----+-----+-----+---------+-----+------------------+-----------------+------------------+---------+---------+-------+-------+------+------+-----+--------+----------+-------+-------+-------+------+-------+------+---------+-------+-----+--------+------+-----------+-----------+------+----+-----------+------+--------+---------+-----+------+-----------+------+------+---+---+--------+-----------+-----------+-------+\n",
            "|Country0|Uri|Popularity|Title|Artist|Album/Single|Genre|Artist_followers|Explicit|Album9|Release_date|Track_number|Tracks_in_album|danceability|energy|key|loudness|mode|speechiness|acoustics|instrumentalness|liveliness|valence|tempo|duration_ms|time_signature|Genre_new|Days_since_release|Released_after_2017|Explicit_false|Explicit_true|album31|compilation|single|bolero|boy band|country36|dance/electronic|else|funk|hip hop|house|indie|jazz|k-pop|latin|metal|opm|pop|r&b/soul|rap|reggae|reggaeton|rock|trap|syuzhet_norm|bing_norm|afinn_norm|nrc_norm|syuzhet| bing|afinn|  nrc|anger|anticipation|disgust| fear|  joy|sadness|surprise|trust|negative|positive|n_words|anger_norm|anticipation_norm|disgust_norm|fear_norm|joy_norm|sadness_norm|surprise_norm|trust_norm|negative_norm|positive_norm|anger_norm2|anticipation_norm2|disgust_norm2|fear_norm2|joy_norm2|sadness_norm2|surprise_norm2|trust_norm2|negative_norm2|positive_norm2|negative_bog_jr|positive_bog_jr|Bayes|Negative_Bayes|Neutral_Bayes|Positive_Bayes|LDA_Topic|Celebrate|Desire|Explore|  Fun| Hope| Love|Nostalgia| Thug|bing_norm_negative|bing_norm_neutral|bing_norm_positive|Argentina|Australia|Austria|Belgium|Brazil|Canada|Chile|Colombia|Costa Rica|Denmark|Ecuador|Finland|France|Germany|Global|Indonesia|Ireland|Italy|Malaysia|Mexico|Netherlands|New Zealand|Norway|Peru|Philippines|Poland|Portugal|Singapore|Spain|Sweden|Switzerland|Taiwan|Turkey| UK|USA|Popu_max|Top10_dummy|Top50_dummy|Cluster|\n",
            "+--------+---+----------+-----+------+------------+-----+----------------+--------+------+------------+------------+---------------+------------+------+---+--------+----+-----------+---------+----------------+----------+-------+-----+-----------+--------------+---------+------------------+-------------------+--------------+-------------+-------+-----------+------+------+--------+---------+----------------+----+----+-------+-----+-----+----+-----+-----+-----+---+---+--------+---+------+---------+----+----+------------+---------+----------+--------+-------+-----+-----+-----+-----+------------+-------+-----+-----+-------+--------+-----+--------+--------+-------+----------+-----------------+------------+---------+--------+------------+-------------+----------+-------------+-------------+-----------+------------------+-------------+----------+---------+-------------+--------------+-----------+--------------+--------------+---------------+---------------+-----+--------------+-------------+--------------+---------+---------+------+-------+-----+-----+-----+---------+-----+------------------+-----------------+------------------+---------+---------+-------+-------+------+------+-----+--------+----------+-------+-------+-------+------+-------+------+---------+-------+-----+--------+------+-----------+-----------+------+----+-----------+------+--------+---------+-----+------+-----------+------+------+---+---+--------+-----------+-----------+-------+\n",
            "|       0|  0|         0|    0|     0|           0|    0|              41|       0|     0|           0|           0|              0|           0|     0|  0|       0|   0|          0|        0|               0|         0|      0|    0|          0|             0|        0|              3222|               3222|             0|            0|      0|          0|     0|     0|       0|        0|               0|   0|   0|      0|    0|    0|   0|    0|    0|    0|  0|  0|       0|  0|     0|        0|   0|   0|       98759|    98767|     98767|   98767|  98767|98767|98767|98767|98767|       98767|  98767|98767|98767|  98767|   98767|98767|   98767|   98767|  98767|     98767|            98767|       98767|    98767|   98767|       98767|        98767|     98767|        98767|        98767|      99241|             99241|        99241|     99241|    99241|        99241|         99241|      99241|         99184|         99184|          98767|          98767|98767|         98767|        98767|         98767|    98767|    98767| 98767|  98767|98767|98767|98767|    98767|98767|                 8|                0|                 0|        0|        0|      0|      0|     0|     0|    0|       0|         0|      0|      0|      0|     0|      0|     0|        0|      0|    0|       0|     0|          0|          0|     0|   0|          0|     0|       0|        0|    0|     0|          0|     0|     0|  0|  0|       0|          0|          0|      0|\n",
            "+--------+---+----------+-----+------+------------+-----+----------------+--------+------+------------+------------+---------------+------------+------+---+--------+----+-----------+---------+----------------+----------+-------+-----+-----------+--------------+---------+------------------+-------------------+--------------+-------------+-------+-----------+------+------+--------+---------+----------------+----+----+-------+-----+-----+----+-----+-----+-----+---+---+--------+---+------+---------+----+----+------------+---------+----------+--------+-------+-----+-----+-----+-----+------------+-------+-----+-----+-------+--------+-----+--------+--------+-------+----------+-----------------+------------+---------+--------+------------+-------------+----------+-------------+-------------+-----------+------------------+-------------+----------+---------+-------------+--------------+-----------+--------------+--------------+---------------+---------------+-----+--------------+-------------+--------------+---------+---------+------+-------+-----+-----+-----+---------+-----+------------------+-----------------+------------------+---------+---------+-------+-------+------+------+-----+--------+----------+-------+-------+-------+------+-------+------+---------+-------+-----+--------+------+-----------+-----------+------+----+-----------+------+--------+---------+-----+------+-----------+------+------+---+---+--------+-----------+-----------+-------+\n",
            "\n",
            "Number of duplicate rows: 0\n",
            "+-------+------------------+\n",
            "|summary|        Popularity|\n",
            "+-------+------------------+\n",
            "|  count|            170633|\n",
            "|   mean| 5417.616264145932|\n",
            "| stddev|13115.854525897767|\n",
            "|    min|               0.8|\n",
            "|    max|233766.89999999988|\n",
            "+-------+------------------+\n",
            "\n"
          ]
        }
      ],
      "source": [
        "from pyspark.sql.functions import col, sum, count, when\n",
        "# Count null values in each column\n",
        "null_counts = music_df.select([count(when(col(c).isNull(), c)).alias(c) for c in music_df.columns])\n",
        "null_counts.show()\n",
        "\n",
        "# Check for duplicates\n",
        "duplicate_count = music_df.count() - music_df.dropDuplicates().count()\n",
        "print(f\"Number of duplicate rows: {duplicate_count}\")\n",
        "\n",
        "# Check popularity range for validity (e.g., ensure no extreme outliers)\n",
        "music_df.select(\"Popularity\").describe().show()\n"
      ]
    },
    {
      "cell_type": "markdown",
      "metadata": {
        "id": "GHym3CV9UEID"
      },
      "source": [
        "# Data Transformation"
      ]
    },
    {
      "cell_type": "code",
      "execution_count": 114,
      "metadata": {
        "id": "MqkU3w6hUEIE",
        "outputId": "a9ce0059-9741-4ee8-dcb0-d305e1a0440c",
        "colab": {
          "base_uri": "https://localhost:8080/"
        }
      },
      "outputs": [
        {
          "output_type": "stream",
          "name": "stdout",
          "text": [
            "root\n",
            " |-- Country0: string (nullable = true)\n",
            " |-- Uri: string (nullable = true)\n",
            " |-- Popularity: double (nullable = false)\n",
            " |-- Title: string (nullable = true)\n",
            " |-- Artist: string (nullable = true)\n",
            " |-- Album/Single: string (nullable = true)\n",
            " |-- Genre: string (nullable = true)\n",
            " |-- Artist_followers: double (nullable = false)\n",
            " |-- Explicit: string (nullable = true)\n",
            " |-- Album9: string (nullable = true)\n",
            " |-- Release_date: string (nullable = true)\n",
            " |-- Track_number: integer (nullable = true)\n",
            " |-- Tracks_in_album: integer (nullable = true)\n",
            " |-- danceability: double (nullable = false)\n",
            " |-- energy: double (nullable = false)\n",
            " |-- key: double (nullable = false)\n",
            " |-- loudness: double (nullable = false)\n",
            " |-- mode: double (nullable = false)\n",
            " |-- speechiness: double (nullable = false)\n",
            " |-- acoustics: double (nullable = false)\n",
            " |-- instrumentalness: double (nullable = false)\n",
            " |-- liveliness: double (nullable = false)\n",
            " |-- valence: double (nullable = false)\n",
            " |-- tempo: double (nullable = false)\n",
            " |-- duration_ms: double (nullable = false)\n",
            " |-- time_signature: integer (nullable = true)\n",
            " |-- Genre_new: string (nullable = true)\n",
            " |-- Days_since_release: double (nullable = false)\n",
            " |-- Released_after_2017: double (nullable = false)\n",
            " |-- Explicit_false: double (nullable = false)\n",
            " |-- Explicit_true: integer (nullable = true)\n",
            " |-- album31: integer (nullable = true)\n",
            " |-- compilation: integer (nullable = true)\n",
            " |-- single: integer (nullable = true)\n",
            " |-- bolero: integer (nullable = true)\n",
            " |-- boy band: integer (nullable = true)\n",
            " |-- country36: integer (nullable = true)\n",
            " |-- dance/electronic: integer (nullable = true)\n",
            " |-- else: integer (nullable = true)\n",
            " |-- funk: integer (nullable = true)\n",
            " |-- hip hop: integer (nullable = true)\n",
            " |-- house: integer (nullable = true)\n",
            " |-- indie: integer (nullable = true)\n",
            " |-- jazz: integer (nullable = true)\n",
            " |-- k-pop: integer (nullable = true)\n",
            " |-- latin: integer (nullable = true)\n",
            " |-- metal: integer (nullable = true)\n",
            " |-- opm: integer (nullable = true)\n",
            " |-- pop: integer (nullable = true)\n",
            " |-- r&b/soul: integer (nullable = true)\n",
            " |-- rap: integer (nullable = true)\n",
            " |-- reggae: integer (nullable = true)\n",
            " |-- reggaeton: integer (nullable = true)\n",
            " |-- rock: integer (nullable = true)\n",
            " |-- trap: integer (nullable = true)\n",
            " |-- syuzhet_norm: double (nullable = false)\n",
            " |-- bing_norm: double (nullable = false)\n",
            " |-- afinn_norm: double (nullable = false)\n",
            " |-- nrc_norm: double (nullable = false)\n",
            " |-- syuzhet: double (nullable = false)\n",
            " |-- bing: double (nullable = false)\n",
            " |-- afinn: double (nullable = false)\n",
            " |-- nrc: double (nullable = false)\n",
            " |-- anger: double (nullable = false)\n",
            " |-- anticipation: double (nullable = false)\n",
            " |-- disgust: double (nullable = false)\n",
            " |-- fear: double (nullable = false)\n",
            " |-- joy: double (nullable = false)\n",
            " |-- sadness: double (nullable = false)\n",
            " |-- surprise: double (nullable = false)\n",
            " |-- trust: double (nullable = false)\n",
            " |-- negative: double (nullable = false)\n",
            " |-- positive: double (nullable = false)\n",
            " |-- n_words: double (nullable = false)\n",
            " |-- anger_norm: double (nullable = false)\n",
            " |-- anticipation_norm: double (nullable = false)\n",
            " |-- disgust_norm: double (nullable = false)\n",
            " |-- fear_norm: double (nullable = false)\n",
            " |-- joy_norm: double (nullable = false)\n",
            " |-- sadness_norm: double (nullable = false)\n",
            " |-- surprise_norm: double (nullable = false)\n",
            " |-- trust_norm: double (nullable = false)\n",
            " |-- negative_norm: double (nullable = false)\n",
            " |-- positive_norm: double (nullable = false)\n",
            " |-- anger_norm2: double (nullable = false)\n",
            " |-- anticipation_norm2: double (nullable = false)\n",
            " |-- disgust_norm2: double (nullable = false)\n",
            " |-- fear_norm2: double (nullable = false)\n",
            " |-- joy_norm2: double (nullable = false)\n",
            " |-- sadness_norm2: double (nullable = false)\n",
            " |-- surprise_norm2: double (nullable = false)\n",
            " |-- trust_norm2: double (nullable = false)\n",
            " |-- negative_norm2: double (nullable = false)\n",
            " |-- positive_norm2: double (nullable = false)\n",
            " |-- negative_bog_jr: double (nullable = false)\n",
            " |-- positive_bog_jr: double (nullable = false)\n",
            " |-- Bayes: double (nullable = false)\n",
            " |-- Negative_Bayes: double (nullable = false)\n",
            " |-- Neutral_Bayes: double (nullable = false)\n",
            " |-- Positive_Bayes: double (nullable = false)\n",
            " |-- LDA_Topic: string (nullable = true)\n",
            " |-- Celebrate: string (nullable = true)\n",
            " |-- Desire: double (nullable = false)\n",
            " |-- Explore: double (nullable = false)\n",
            " |-- Fun: double (nullable = false)\n",
            " |-- Hope: double (nullable = false)\n",
            " |-- Love: double (nullable = false)\n",
            " |-- Nostalgia: double (nullable = false)\n",
            " |-- Thug: double (nullable = false)\n",
            " |-- bing_norm_negative: double (nullable = false)\n",
            " |-- bing_norm_neutral: integer (nullable = true)\n",
            " |-- bing_norm_positive: integer (nullable = true)\n",
            " |-- Argentina: integer (nullable = true)\n",
            " |-- Australia: integer (nullable = true)\n",
            " |-- Austria: integer (nullable = true)\n",
            " |-- Belgium: integer (nullable = true)\n",
            " |-- Brazil: integer (nullable = true)\n",
            " |-- Canada: integer (nullable = true)\n",
            " |-- Chile: integer (nullable = true)\n",
            " |-- Colombia: integer (nullable = true)\n",
            " |-- Costa Rica: integer (nullable = true)\n",
            " |-- Denmark: integer (nullable = true)\n",
            " |-- Ecuador: integer (nullable = true)\n",
            " |-- Finland: integer (nullable = true)\n",
            " |-- France: integer (nullable = true)\n",
            " |-- Germany: integer (nullable = true)\n",
            " |-- Global: integer (nullable = true)\n",
            " |-- Indonesia: integer (nullable = true)\n",
            " |-- Ireland: integer (nullable = true)\n",
            " |-- Italy: integer (nullable = true)\n",
            " |-- Malaysia: integer (nullable = true)\n",
            " |-- Mexico: integer (nullable = true)\n",
            " |-- Netherlands: integer (nullable = true)\n",
            " |-- New Zealand: integer (nullable = true)\n",
            " |-- Norway: integer (nullable = true)\n",
            " |-- Peru: integer (nullable = true)\n",
            " |-- Philippines: integer (nullable = true)\n",
            " |-- Poland: integer (nullable = true)\n",
            " |-- Portugal: integer (nullable = true)\n",
            " |-- Singapore: integer (nullable = true)\n",
            " |-- Spain: integer (nullable = true)\n",
            " |-- Sweden: integer (nullable = true)\n",
            " |-- Switzerland: integer (nullable = true)\n",
            " |-- Taiwan: integer (nullable = true)\n",
            " |-- Turkey: integer (nullable = true)\n",
            " |-- UK: integer (nullable = true)\n",
            " |-- USA: integer (nullable = true)\n",
            " |-- Popu_max: integer (nullable = true)\n",
            " |-- Top10_dummy: double (nullable = false)\n",
            " |-- Top50_dummy: double (nullable = false)\n",
            " |-- Cluster: string (nullable = true)\n",
            "\n"
          ]
        }
      ],
      "source": [
        "from pyspark.sql.functions import col\n",
        "\n",
        "# List of columns to cast to integer or double as appropriate\n",
        "int_columns = [\"Track_number\", \"Tracks_in_album\", \"time_signature\", \"Argentina\", \"Australia\", \"Austria\",\n",
        "               \"Belgium\", \"Brazil\", \"Canada\", \"Chile\", \"Colombia\", \"Costa Rica\", \"Denmark\", \"Ecuador\",\n",
        "               \"Finland\", \"France\", \"Germany\", \"Global\", \"Indonesia\", \"Ireland\", \"Italy\", \"Malaysia\",\n",
        "               \"Mexico\", \"Netherlands\", \"New Zealand\", \"Norway\", \"Peru\", \"Philippines\", \"Poland\",\n",
        "               \"Portugal\", \"Singapore\", \"Spain\", \"Sweden\", \"Switzerland\", \"Taiwan\", \"Turkey\", \"UK\", \"USA\"]\n",
        "\n",
        "double_columns = [\"Popularity\", \"Artist_followers\", \"danceability\", \"energy\", \"key\", \"loudness\",\n",
        "                  \"mode\", \"speechiness\", \"acoustics\", \"instrumentalness\", \"liveliness\", \"valence\",\n",
        "                  \"tempo\", \"duration_ms\", \"Days_since_release\", \"syuzhet_norm\", \"bing_norm\", \"afinn_norm\",\n",
        "                  \"nrc_norm\", \"syuzhet\", \"bing\", \"afinn\", \"nrc\", \"anger\", \"anticipation\", \"disgust\", \"fear\",\n",
        "                  \"joy\", \"sadness\", \"surprise\", \"trust\", \"negative\", \"positive\", \"n_words\", \"anger_norm\",\n",
        "                  \"anticipation_norm\", \"disgust_norm\", \"fear_norm\", \"joy_norm\", \"sadness_norm\", \"surprise_norm\",\n",
        "                  \"trust_norm\", \"negative_norm\", \"positive_norm\", \"anger_norm2\", \"anticipation_norm2\",\n",
        "                  \"disgust_norm2\", \"fear_norm2\", \"joy_norm2\", \"sadness_norm2\", \"surprise_norm2\", \"trust_norm2\",\n",
        "                  \"negative_norm2\", \"positive_norm2\", \"negative_bog_jr\", \"positive_bog_jr\", \"Bayes\",\n",
        "                  \"Negative_Bayes\", \"Neutral_Bayes\", \"Positive_Bayes\", \"Desire\", \"Explore\", \"Fun\",\n",
        "                  \"Hope\", \"Love\", \"Nostalgia\", \"Thug\", \"bing_norm_negative\"]\n",
        "\n",
        "transformed_df = music_df\n",
        "\n",
        "# Cast columns to integer\n",
        "for column in int_columns:\n",
        "    transformed_df = transformed_df.withColumn(column, col(column).cast(\"int\"))\n",
        "\n",
        "# Cast columns to double\n",
        "for column in double_columns:\n",
        "    transformed_df = transformed_df.withColumn(column, col(column).cast(\"double\"))\n",
        "\n",
        "# Fill Null values (REPLACE WITH BETTER FILLING METHOD HERE)\n",
        "transformed_df = transformed_df.fillna(0)\n",
        "\n",
        "# Verify the updated schema\n",
        "transformed_df.printSchema()\n"
      ]
    },
    {
      "cell_type": "code",
      "execution_count": 115,
      "metadata": {
        "id": "ZpoYHCvpUEIE"
      },
      "outputs": [],
      "source": [
        "# Define popularity categories for later\n",
        "transformed_df = transformed_df.withColumn(\n",
        "    \"PopularityCategory\",\n",
        "    when(transformed_df.Popularity < 5000, \"Low\")\n",
        "    .when((transformed_df.Popularity >= 5000) & (transformed_df.Popularity < 18000), \"Medium\")\n",
        "    .otherwise(\"High\")\n",
        ")"
      ]
    },
    {
      "cell_type": "markdown",
      "metadata": {
        "id": "Yz-6ECl2UEID"
      },
      "source": [
        "# Data Filtering"
      ]
    },
    {
      "cell_type": "code",
      "execution_count": 116,
      "metadata": {
        "id": "YryslrlWUEID",
        "outputId": "c51004a6-42d8-403f-e3fe-6c43271b34c1",
        "colab": {
          "base_uri": "https://localhost:8080/"
        }
      },
      "outputs": [
        {
          "output_type": "stream",
          "name": "stdout",
          "text": [
            "Number of rows: 15113\n"
          ]
        }
      ],
      "source": [
        "# Further refine by North America\n",
        "filtered_df = transformed_df.filter((music_df.Country0 == \"USA\") | (music_df.Country0 == \"Canada\") | (music_df.Country0 == \"Mexico\"))\n",
        "\n",
        "print(f\"Number of rows: {filtered_df.count()}\")\n"
      ]
    },
    {
      "cell_type": "markdown",
      "source": [
        "# Feature Seleciton"
      ],
      "metadata": {
        "id": "ZagmEoGOhERO"
      }
    },
    {
      "cell_type": "code",
      "source": [
        "# Using filter methods to perform feature reduction\n",
        "from pyspark.sql.functions import corr\n",
        "from pyspark.sql.types import StringType\n",
        "import math\n",
        "correlations = []\n",
        "\n",
        "for column in filtered_df.columns:\n",
        "  if column != 'PopularityCategory' and column != 'Popularity' and not isinstance(filtered_df.schema[column].dataType, StringType):\n",
        "    correlation = filtered_df.select(corr(column, 'Popularity')).collect()[0][0]\n",
        "    if correlation != None and not math.isnan(correlation):\n",
        "     correlations.append((column, abs(correlation)))\n",
        "\n",
        "correlations.sort(key=lambda x: x[1], reverse=True)\n",
        "# Take only the top 40 results\n",
        "correlations = correlations[:40]\n",
        "print(correlations)"
      ],
      "metadata": {
        "id": "JNOrMK3khNWr",
        "outputId": "7352e025-ec18-48cb-bec6-700a390e2da1",
        "colab": {
          "base_uri": "https://localhost:8080/"
        }
      },
      "execution_count": 122,
      "outputs": [
        {
          "output_type": "stream",
          "name": "stdout",
          "text": [
            "[('Top50_dummy', 0.4346431592670897), ('Popu_max', 0.4340389702408112), ('latin', 0.15300185707867855), ('Mexico', 0.1527521861578449), ('Artist_followers', 0.11137668540120713), ('danceability', 0.09937458018679889), ('USA', 0.08694518459194184), ('loudness', 0.08289056786066452), ('hip hop', 0.081238495360119), ('Track_number', 0.07619440454606241), ('single', 0.07152882386888473), ('valence', 0.07038985083763921), ('Tracks_in_album', 0.06620718654602113), ('album31', 0.065794229677695), ('Explore', 0.05704048392975408), ('Top10_dummy', 0.055777983690837266), ('Released_after_2017', 0.04954463542320316), ('anger_norm', 0.04935757335234637), ('negative_norm', 0.04629730720985017), ('Explicit_true', 0.04590524850461089), ('Explicit_false', 0.044767982751107945), ('positive_norm', 0.04358691767821842), ('fear_norm', 0.04340278886681954), ('trust_norm', 0.04287677048413806), ('anticipation_norm', 0.042529791221222434), ('sadness_norm', 0.04240922408778379), ('k-pop', 0.04167491599878745), ('reggaeton', 0.040155444438705785), ('metal', 0.03891496193910552), ('surprise_norm', 0.03859363141633445), ('Days_since_release', 0.03835807349304242), ('liveliness', 0.03759412410310115), ('joy_norm', 0.036866554282692976), ('rap', 0.03669019596665716), ('else', 0.036486121901355084), ('Canada', 0.03493526188652822), ('rock', 0.03468379785100139), ('speechiness', 0.034255891028514), ('pop', 0.032048909376590065), ('time_signature', 0.03202759266753402)]\n"
          ]
        }
      ]
    },
    {
      "cell_type": "code",
      "source": [
        "# Convert popularity category we made prior to an indexed label\n",
        "from pyspark.ml.feature import StringIndexer\n",
        "\n",
        "filtered_df = filtered_df.drop(\"Popularity\")\n",
        "\n",
        "indexer = StringIndexer(inputCol=\"PopularityCategory\", outputCol=\"label\")\n",
        "model1_df = indexer.fit(filtered_df).transform(filtered_df)\n",
        "\n",
        "# Filter out the remaining non-numeric columns\n",
        "feature_columns = [col for col, dtype in filtered_df.dtypes if dtype != 'string']"
      ],
      "metadata": {
        "id": "WQx0xYmnsrnN"
      },
      "execution_count": 64,
      "outputs": []
    },
    {
      "cell_type": "code",
      "source": [
        "# Assemble features\n",
        "from pyspark.ml.feature import VectorAssembler\n",
        "\n",
        "assembler = VectorAssembler(inputCols=feature_columns, outputCol=\"features\", handleInvalid = \"keep\")\n",
        "model1_df = assembler.transform(model1_df).select(\"features\", \"label\")\n",
        "model1_df.select(\"features\").show(truncate=False)"
      ],
      "metadata": {
        "id": "dNOT_-JAtUK8",
        "outputId": "2b5699ce-fddd-4206-8e2c-cb7b302b1c73",
        "colab": {
          "base_uri": "https://localhost:8080/"
        }
      },
      "execution_count": 65,
      "outputs": [
        {
          "output_type": "stream",
          "name": "stdout",
          "text": [
            "+------------------------------------------------------------------------------------------------------------------------------------------------------------------------------------------------------------------------------------------------------------------------------------------------------------------------------------------------------------------------------------------------------------------------------------------------------------------------------------------------------------------------------------------------------------------------------------------------------------------------------------------------------------------+\n",
            "|features                                                                                                                                                                                                                                                                                                                                                                                                                                                                                                                                                                                                                                                          |\n",
            "+------------------------------------------------------------------------------------------------------------------------------------------------------------------------------------------------------------------------------------------------------------------------------------------------------------------------------------------------------------------------------------------------------------------------------------------------------------------------------------------------------------------------------------------------------------------------------------------------------------------------------------------------------------------+\n",
            "|(137,[0,1,2,3,4,5,6,7,8,9,11,12,13,14,15,16,17,18,22,29,113,134,135,136],[1.1427104E7,1.0,1.0,0.767,0.7090000000000001,1.0,-4.47,1.0,0.336,0.32299999999999995,0.0676,0.72,171.993,258639.0,4.0,740.0,1.0,1.0,1.0,1.0,1.0,10.0,1.0,1.0])                                                                                                                                                                                                                                                                                                                                                                                                                          |\n",
            "|(137,[0,1,2,3,4,5,6,7,8,9,11,12,13,14,15,16,17,18,22,29,133,134],[1.1427104E7,1.0,1.0,0.767,0.7090000000000001,1.0,-4.47,1.0,0.336,0.32299999999999995,0.0676,0.72,171.993,258639.0,4.0,740.0,1.0,1.0,1.0,1.0,1.0,191.0])                                                                                                                                                                                                                                                                                                                                                                                                                                         |\n",
            "|(137,[0,1,2,3,4,5,6,7,8,9,11,12,13,14,15,16,17,18,22,29,99,134,135,136],[1.1427104E7,1.0,1.0,0.767,0.7090000000000001,1.0,-4.47,1.0,0.336,0.32299999999999995,0.0676,0.72,171.993,258639.0,4.0,740.0,1.0,1.0,1.0,1.0,1.0,1.0,1.0,1.0])                                                                                                                                                                                                                                                                                                                                                                                                                            |\n",
            "|(137,[0,1,2,3,4,5,6,7,8,9,11,12,13,14,15,16,17,18,22,29,102,134],[1.1427104E7,1.0,1.0,0.767,0.7090000000000001,1.0,-4.47,1.0,0.336,0.32299999999999995,0.0676,0.72,171.993,258639.0,4.0,740.0,1.0,1.0,1.0,1.0,1.0,126.0])                                                                                                                                                                                                                                                                                                                                                                                                                                         |\n",
            "|(137,[0,1,2,3,4,5,6,7,8,9,11,12,13,14,15,16,17,18,22,29,129,134,136],[1.1427104E7,1.0,1.0,0.767,0.7090000000000001,1.0,-4.47,1.0,0.336,0.32299999999999995,0.0676,0.72,171.993,258639.0,4.0,740.0,1.0,1.0,1.0,1.0,1.0,21.0,1.0])                                                                                                                                                                                                                                                                                                                                                                                                                                  |\n",
            "|(137,[0,1,2,3,4,5,6,7,8,9,11,12,13,14,15,16,17,18,22,29,105,134,135,136],[1.1427104E7,1.0,1.0,0.767,0.7090000000000001,1.0,-4.47,1.0,0.336,0.32299999999999995,0.0676,0.72,171.993,258639.0,4.0,740.0,1.0,1.0,1.0,1.0,1.0,1.0,1.0,1.0])                                                                                                                                                                                                                                                                                                                                                                                                                           |\n",
            "|(137,[0,1,2,3,4,5,6,7,8,9,11,12,13,14,15,16,17,18,22,29,106,134,135,136],[1.1427104E7,1.0,1.0,0.767,0.7090000000000001,1.0,-4.47,1.0,0.336,0.32299999999999995,0.0676,0.72,171.993,258639.0,4.0,740.0,1.0,1.0,1.0,1.0,1.0,2.0,1.0,1.0])                                                                                                                                                                                                                                                                                                                                                                                                                           |\n",
            "|(137,[0,1,2,3,4,5,6,7,8,9,11,12,13,14,15,16,17,18,22,29,107,134,135,136],[1.1427104E7,1.0,1.0,0.767,0.7090000000000001,1.0,-4.47,1.0,0.336,0.32299999999999995,0.0676,0.72,171.993,258639.0,4.0,740.0,1.0,1.0,1.0,1.0,1.0,1.0,1.0,1.0])                                                                                                                                                                                                                                                                                                                                                                                                                           |\n",
            "|(137,[0,1,2,3,4,5,6,7,8,9,11,12,13,14,15,16,17,18,22,29,112,134],[1.1427104E7,1.0,1.0,0.767,0.7090000000000001,1.0,-4.47,1.0,0.336,0.32299999999999995,0.0676,0.72,171.993,258639.0,4.0,740.0,1.0,1.0,1.0,1.0,1.0,180.0])                                                                                                                                                                                                                                                                                                                                                                                                                                         |\n",
            "|(137,[0,1,2,3,4,5,6,7,8,9,11,12,13,14,15,16,17,18,22,29,109,134,135,136],[1.1427104E7,1.0,1.0,0.767,0.7090000000000001,1.0,-4.47,1.0,0.336,0.32299999999999995,0.0676,0.72,171.993,258639.0,4.0,740.0,1.0,1.0,1.0,1.0,1.0,1.0,1.0,1.0])                                                                                                                                                                                                                                                                                                                                                                                                                           |\n",
            "|(137,[0,1,2,3,4,5,6,7,8,9,11,12,13,14,15,16,17,18,22,29,127,134,135,136],[1.1427104E7,1.0,1.0,0.767,0.7090000000000001,1.0,-4.47,1.0,0.336,0.32299999999999995,0.0676,0.72,171.993,258639.0,4.0,740.0,1.0,1.0,1.0,1.0,1.0,1.0,1.0,1.0])                                                                                                                                                                                                                                                                                                                                                                                                                           |\n",
            "|(137,[0,1,2,3,4,5,6,7,8,9,11,12,13,14,15,16,17,18,22,29,116,134,136],[1.1427104E7,1.0,1.0,0.767,0.7090000000000001,1.0,-4.47,1.0,0.336,0.32299999999999995,0.0676,0.72,171.993,258639.0,4.0,740.0,1.0,1.0,1.0,1.0,1.0,11.0,1.0])                                                                                                                                                                                                                                                                                                                                                                                                                                  |\n",
            "|(137,[0,1,2,3,4,5,6,7,8,9,11,12,13,14,15,16,17,18,22,29,118,134,135,136],[1.1427104E7,1.0,1.0,0.767,0.7090000000000001,1.0,-4.47,1.0,0.336,0.32299999999999995,0.0676,0.72,171.993,258639.0,4.0,740.0,1.0,1.0,1.0,1.0,1.0,2.0,1.0,1.0])                                                                                                                                                                                                                                                                                                                                                                                                                           |\n",
            "|(137,[0,1,2,3,4,5,6,7,8,9,11,12,13,14,15,16,17,18,22,29,122,134,135,136],[1.1427104E7,1.0,1.0,0.767,0.7090000000000001,1.0,-4.47,1.0,0.336,0.32299999999999995,0.0676,0.72,171.993,258639.0,4.0,740.0,1.0,1.0,1.0,1.0,1.0,1.0,1.0,1.0])                                                                                                                                                                                                                                                                                                                                                                                                                           |\n",
            "|(137,[0,1,2,3,4,5,6,7,8,9,11,12,13,14,15,16,17,18,22,29,125,134],[1.1427104E7,1.0,1.0,0.767,0.7090000000000001,1.0,-4.47,1.0,0.336,0.32299999999999995,0.0676,0.72,171.993,258639.0,4.0,740.0,1.0,1.0,1.0,1.0,1.0,60.0])                                                                                                                                                                                                                                                                                                                                                                                                                                          |\n",
            "|(137,[0,1,2,3,4,5,6,7,8,9,11,12,13,14,15,16,17,18,22,29,130,134],[1.1427104E7,1.0,1.0,0.767,0.7090000000000001,1.0,-4.47,1.0,0.336,0.32299999999999995,0.0676,0.72,171.993,258639.0,4.0,740.0,1.0,1.0,1.0,1.0,1.0,190.0])                                                                                                                                                                                                                                                                                                                                                                                                                                         |\n",
            "|(137,[0,1,2,3,4,5,6,8,9,10,11,12,13,14,15,16,17,18,20,37,44,45,46,47,48,49,50,51,53,55,56,57,59,60,61,62,64,66,67,68,70,71,72,74,76,77,78,80,81,82,85,86,89,96,113,134],[1.6931568E7,7.0,12.0,0.5720000000000001,0.53,6.0,-8.521,0.0654,0.0647,1.69E-4,0.127,0.12,170.138,217613.0,4.0,1314.0,1.0,1.0,1.0,1.0,-1.0,-1.0,-1.0,-1.0,-2.0,-1.0,-7.0,-3.0,1.0,1.0,1.0,2.0,1.0,4.0,1.0,274.0,0.00364963503649635,0.00364963503649635,0.00364963503649635,0.0072992700729927,0.00364963503649635,0.0145985401459854,0.00364963503649635,0.166666666666667,0.166666666666667,0.166666666666667,0.33333333333333304,0.166666666666667,0.8,0.2,-1.0,1.0,1.0,1.0,1.0,72.0]) |\n",
            "|(137,[0,1,2,3,4,5,6,8,9,10,11,12,13,14,15,16,17,18,20,37,44,45,46,47,48,49,50,51,53,55,56,57,59,60,61,62,64,66,67,68,70,71,72,74,76,77,78,80,81,82,85,86,89,96,133,134],[1.6931568E7,7.0,12.0,0.5720000000000001,0.53,6.0,-8.521,0.0654,0.0647,1.69E-4,0.127,0.12,170.138,217613.0,4.0,1314.0,1.0,1.0,1.0,1.0,-1.0,-1.0,-1.0,-1.0,-2.0,-1.0,-7.0,-3.0,1.0,1.0,1.0,2.0,1.0,4.0,1.0,274.0,0.00364963503649635,0.00364963503649635,0.00364963503649635,0.0072992700729927,0.00364963503649635,0.0145985401459854,0.00364963503649635,0.166666666666667,0.166666666666667,0.166666666666667,0.33333333333333304,0.166666666666667,0.8,0.2,-1.0,1.0,1.0,1.0,1.0,55.0]) |\n",
            "|(137,[0,1,2,3,4,5,6,8,9,10,11,12,13,14,15,16,17,18,20,37,44,45,46,47,48,49,50,51,53,55,56,57,59,60,61,62,64,66,67,68,70,71,72,74,76,77,78,80,81,82,85,86,89,96,132,134],[1.6931568E7,7.0,12.0,0.5720000000000001,0.53,6.0,-8.521,0.0654,0.0647,1.69E-4,0.127,0.12,170.138,217613.0,4.0,1314.0,1.0,1.0,1.0,1.0,-1.0,-1.0,-1.0,-1.0,-2.0,-1.0,-7.0,-3.0,1.0,1.0,1.0,2.0,1.0,4.0,1.0,274.0,0.00364963503649635,0.00364963503649635,0.00364963503649635,0.0072992700729927,0.00364963503649635,0.0145985401459854,0.00364963503649635,0.166666666666667,0.166666666666667,0.166666666666667,0.33333333333333304,0.166666666666667,0.8,0.2,-1.0,1.0,1.0,1.0,1.0,109.0])|\n",
            "|(137,[0,1,2,3,4,5,6,8,9,10,11,12,13,14,15,16,17,18,20,37,44,45,46,47,48,49,50,51,53,55,56,57,59,60,61,62,64,66,67,68,70,71,72,74,76,77,78,80,81,82,85,86,89,96,101,134],[1.6931568E7,7.0,12.0,0.5720000000000001,0.53,6.0,-8.521,0.0654,0.0647,1.69E-4,0.127,0.12,170.138,217613.0,4.0,1314.0,1.0,1.0,1.0,1.0,-1.0,-1.0,-1.0,-1.0,-2.0,-1.0,-7.0,-3.0,1.0,1.0,1.0,2.0,1.0,4.0,1.0,274.0,0.00364963503649635,0.00364963503649635,0.00364963503649635,0.0072992700729927,0.00364963503649635,0.0145985401459854,0.00364963503649635,0.166666666666667,0.166666666666667,0.166666666666667,0.33333333333333304,0.166666666666667,0.8,0.2,-1.0,1.0,1.0,1.0,1.0,62.0]) |\n",
            "+------------------------------------------------------------------------------------------------------------------------------------------------------------------------------------------------------------------------------------------------------------------------------------------------------------------------------------------------------------------------------------------------------------------------------------------------------------------------------------------------------------------------------------------------------------------------------------------------------------------------------------------------------------------+\n",
            "only showing top 20 rows\n",
            "\n"
          ]
        }
      ]
    },
    {
      "cell_type": "code",
      "source": [
        "from pyspark.ml.classification import RandomForestClassifier\n",
        "from pyspark.ml.evaluation import MulticlassClassificationEvaluator\n",
        "\n",
        "rf_tester = RandomForestClassifier(featuresCol=\"features\", labelCol=\"label\")\n",
        "rf_wrapper_model = rf_tester.fit(model1_df)\n",
        "\n",
        "importance = rf_wrapper_model.featureImportances\n",
        "feature_importance = sorted(zip(importance, feature_columns), key=lambda x: x[0], reverse=True)\n",
        "# take only the top 40 results\n",
        "feature_importance = feature_importance[:40]\n",
        "print(feature_importance)\n"
      ],
      "metadata": {
        "id": "xM_lrmiuxx4N",
        "outputId": "3e81110d-3bc4-4ee5-9ead-26784fbfa7aa",
        "colab": {
          "base_uri": "https://localhost:8080/"
        }
      },
      "execution_count": 66,
      "outputs": [
        {
          "output_type": "stream",
          "name": "stdout",
          "text": [
            "[(0.3179169947541516, 'Top50_dummy'), (0.27548682994406687, 'Top10_dummy'), (0.23806578665253345, 'Popu_max'), (0.03904206994881784, 'Tracks_in_album'), (0.03353870982798258, 'Days_since_release'), (0.008514261686112214, 'metal'), (0.008388226379688895, 'latin'), (0.008144821108742232, 'Track_number'), (0.00616771658064309, 'danceability'), (0.00559774139963169, 'loudness'), (0.005381645535034464, 'single'), (0.004798939416514374, 'album31'), (0.004793718540906223, 'Artist_followers'), (0.0038489916913674134, 'Explicit_true'), (0.0038390211336067357, 'instrumentalness'), (0.002975111747403256, 'speechiness'), (0.0027353631880354923, 'energy'), (0.0026459868526021147, 'Explicit_false'), (0.00253809992421598, 'duration_ms'), (0.0021594765853787208, 'else'), (0.0021084674688736016, 'hip hop'), (0.0016257825716336567, 'n_words'), (0.0014651757422487863, 'tempo'), (0.0012311972839006249, 'positive_bog_jr'), (0.0012090689894723224, 'negative_norm2'), (0.0011375489441969634, 'pop'), (0.0008988398038573353, 'anticipation_norm2'), (0.0008507719267606958, 'joy_norm'), (0.0007431825350680688, 'opm'), (0.0006068746314918792, 'valence'), (0.0005076211937502394, 'anger_norm2'), (0.0004979269946725703, 'bing_norm'), (0.00048045404981200126, 'nrc'), (0.0004759344535215122, 'anger_norm'), (0.0004738194859999858, 'Taiwan'), (0.000462314663338609, 'positive_norm'), (0.000430817356547148, 'trust_norm2'), (0.000407041067456049, 'Argentina'), (0.0003793333427085225, 'anticipation_norm'), (0.0003690258800811001, 'Switzerland')]\n"
          ]
        }
      ]
    },
    {
      "cell_type": "code",
      "source": [
        "# Combining results - features that don't appear in either feature_importance or correlations will be removed\n",
        "\n",
        "filtered_fnames = [tup[0] for tup in correlations]\n",
        "\n",
        "#filtered_df = filtered_df.select(filtered_fnames)\n",
        "#filtered_df.show()\n"
      ],
      "metadata": {
        "id": "8_Ra40qDS7tz"
      },
      "execution_count": 123,
      "outputs": []
    },
    {
      "cell_type": "markdown",
      "metadata": {
        "id": "LUERRniqUEIE"
      },
      "source": [
        "# Model 1 (Popularity Predictor)"
      ]
    },
    {
      "cell_type": "code",
      "execution_count": 132,
      "metadata": {
        "id": "PmtMzYyZUEIF",
        "outputId": "17a542c8-0fb2-406a-8f29-eac8f76970b9",
        "colab": {
          "base_uri": "https://localhost:8080/"
        }
      },
      "outputs": [
        {
          "output_type": "stream",
          "name": "stdout",
          "text": [
            "+-------------------------------------------------------------------------------------------------------------------------------------------------------------------------------------------------------------------------------------------------------------------------------------------------------------------------------------------------------------------------------+\n",
            "|features                                                                                                                                                                                                                                                                                                                                                                       |\n",
            "+-------------------------------------------------------------------------------------------------------------------------------------------------------------------------------------------------------------------------------------------------------------------------------------------------------------------------------------------------------------------------------+\n",
            "|(40,[1,4,5,6,7,9,11,12,13,16,18,20,21,22,23,24,25,30,31,32,37,38,39],[55.0,1.6931568E7,0.5720000000000001,1.0,-8.521,7.0,0.12,12.0,1.0,1.0,0.0145985401459854,1.0,0.00364963503649635,0.00364963503649635,0.00364963503649635,0.00364963503649635,0.0072992700729927,1314.0,0.127,0.00364963503649635,0.0654,1.0,4.0])                                                         |\n",
            "|(40,[1,4,5,7,9,11,12,13,16,18,20,21,22,23,24,25,30,31,32,35,37,38,39],[59.0,1.6931568E7,0.5720000000000001,-8.521,7.0,0.12,12.0,1.0,1.0,0.0145985401459854,1.0,0.00364963503649635,0.00364963503649635,0.00364963503649635,0.00364963503649635,0.0072992700729927,1314.0,0.127,0.00364963503649635,1.0,0.0654,1.0,4.0])                                                        |\n",
            "|(40,[1,4,5,6,7,9,11,12,13,16,17,18,20,21,23,24,25,28,29,30,31,37,39],[123.0,1.7132813E7,0.593,1.0,-6.325,3.0,0.473,10.0,1.0,1.0,0.00393700787401575,0.0118110236220472,1.0,0.0118110236220472,0.00393700787401575,0.00393700787401575,0.0078740157480315,1.0,0.00393700787401575,1272.0,0.128,0.0286,4.0])                                                                     |\n",
            "|(40,[1,4,5,7,9,11,12,13,16,17,18,20,21,23,24,25,28,29,30,31,35,37,39],[129.0,1.7132813E7,0.593,-6.325,3.0,0.473,10.0,1.0,1.0,0.00393700787401575,0.0118110236220472,1.0,0.0118110236220472,0.00393700787401575,0.00393700787401575,0.0078740157480315,1.0,0.00393700787401575,1272.0,0.128,1.0,0.0286,4.0])                                                                    |\n",
            "|[1.0,29.0,0.0,0.0,5.0593376E7,0.338,1.0,-6.419,1.0,12.0,0.0,0.5429999999999999,17.0,1.0,0.0,0.0,1.0,0.0185758513931889,0.0263157894736842,1.0,0.0,0.0185758513931889,0.00928792569659443,0.0170278637770898,0.0154798761609907,0.0123839009287926,0.0,0.0,0.0,0.0139318885448916,470.0,0.18,0.0154798761609907,0.0,0.0,0.0,0.0,0.102,0.0,4.0]                                  |\n",
            "|[1.0,30.0,0.0,0.0,5.0593376E7,0.338,0.0,-6.419,1.0,12.0,0.0,0.5429999999999999,17.0,1.0,0.0,0.0,1.0,0.0185758513931889,0.0263157894736842,1.0,0.0,0.0185758513931889,0.00928792569659443,0.0170278637770898,0.0154798761609907,0.0123839009287926,0.0,0.0,0.0,0.0139318885448916,470.0,0.18,0.0154798761609907,0.0,0.0,1.0,0.0,0.102,0.0,4.0]                                  |\n",
            "|(40,[1,4,5,6,7,9,11,12,13,18,20,21,22,23,24,25,29,30,31,32,37,38,39],[154.0,2.735526E7,0.578,1.0,-6.209,5.0,0.301,9.0,1.0,0.0069930069930069895,1.0,0.020979020979021,0.0069930069930069895,0.0104895104895105,0.013986013986014,0.0034965034965035,0.0034965034965035,1449.0,0.083,0.013986013986014,0.0454,1.0,4.0])                                                         |\n",
            "|(40,[1,4,5,7,9,11,12,13,18,20,21,22,23,24,25,29,30,31,32,35,37,38,39],[152.0,2.735526E7,0.578,-6.209,5.0,0.301,9.0,1.0,0.0069930069930069895,1.0,0.020979020979021,0.0069930069930069895,0.0104895104895105,0.013986013986014,0.0034965034965035,0.0034965034965035,1449.0,0.083,0.013986013986014,1.0,0.0454,1.0,4.0])                                                        |\n",
            "|(40,[1,3,4,5,7,9,11,12,13,18,20,21,22,23,24,25,29,30,31,32,37,38,39],[188.0,1.0,2.735526E7,0.578,-6.209,5.0,0.301,9.0,1.0,0.0069930069930069895,1.0,0.020979020979021,0.0069930069930069895,0.0104895104895105,0.013986013986014,0.0034965034965035,0.0034965034965035,1449.0,0.083,0.013986013986014,0.0454,1.0,4.0])                                                         |\n",
            "|(40,[1,4,5,6,7,9,10,11,12,16,17,18,20,21,22,23,24,25,29,30,31,32,37,38,39],[59.0,8604850.0,0.669,1.0,-5.445,1.0,1.0,0.541,1.0,1.0,0.00452488687782805,0.0316742081447964,1.0,0.0226244343891403,0.0180995475113122,0.0135746606334842,0.00904977375565611,0.00904977375565611,0.0135746606334842,582.0,0.0594,0.0135746606334842,0.136,1.0,4.0])                               |\n",
            "|[1.0,47.0,0.0,0.0,8604850.0,0.669,0.0,-5.445,0.0,1.0,1.0,0.541,1.0,0.0,0.0,0.0,1.0,0.00452488687782805,0.0316742081447964,0.0,1.0,0.0226244343891403,0.0180995475113122,0.0135746606334842,0.00904977375565611,0.00904977375565611,0.0,0.0,0.0,0.0135746606334842,582.0,0.0594,0.0135746606334842,0.0,0.0,1.0,0.0,0.136,1.0,4.0]                                               |\n",
            "|(40,[1,4,5,6,7,9,11,12,13,16,17,18,19,21,22,23,24,25,29,30,31,32,33,37,39],[62.0,2094628.0,0.821,1.0,-9.194,12.0,0.241,16.0,1.0,1.0,0.0260115606936416,0.0375722543352601,1.0,0.0260115606936416,0.0115606936416185,0.00578034682080925,0.00578034682080925,0.0115606936416185,0.0115606936416185,953.0,0.128,0.0115606936416185,1.0,0.118,4.0])                               |\n",
            "|(40,[1,4,5,7,9,11,12,13,16,17,18,19,21,22,23,24,25,29,30,31,32,33,35,37,39],[87.0,2094628.0,0.821,-9.194,12.0,0.241,16.0,1.0,1.0,0.0260115606936416,0.0375722543352601,1.0,0.0260115606936416,0.0115606936416185,0.00578034682080925,0.00578034682080925,0.0115606936416185,0.0115606936416185,953.0,0.128,0.0115606936416185,1.0,1.0,0.118,4.0])                              |\n",
            "|(40,[0,1,4,5,6,7,9,10,11,12,16,17,18,19,21,22,23,24,25,30,31,32,33,37,39],[1.0,22.0,2039736.0,0.733,1.0,-7.771,1.0,1.0,0.841,1.0,1.0,0.0018832391713747602,0.0112994350282486,1.0,0.0112994350282486,0.00376647834274953,0.00376647834274953,0.00376647834274953,0.0018832391713747602,974.0,0.345,0.00376647834274953,1.0,0.439,4.0])                                         |\n",
            "|(40,[0,1,4,5,7,9,10,11,12,16,17,18,19,21,22,23,24,25,30,31,32,33,35,37,39],[1.0,39.0,2039736.0,0.733,-7.771,1.0,1.0,0.841,1.0,1.0,0.0018832391713747602,0.0112994350282486,1.0,0.0112994350282486,0.00376647834274953,0.00376647834274953,0.00376647834274953,0.0018832391713747602,974.0,0.345,0.00376647834274953,1.0,1.0,0.439,4.0])                                        |\n",
            "|[1.0,33.0,0.0,0.0,5004777.0,0.611,1.0,-5.297999999999999,1.0,12.0,0.0,0.336,13.0,1.0,0.0,0.0,1.0,0.015180265654648997,0.0246679316888046,1.0,0.0,0.0208728652751423,0.0094876660341556,0.0170777988614801,0.0113851992409867,0.0189753320683112,0.0,0.0,0.0,0.00379506641366224,1286.0,0.34600000000000003,0.015180265654648997,0.0,0.0,0.0,0.0,0.0896,0.0,4.0]                |\n",
            "|(40,[1,4,5,7,8,9,11,12,13,16,17,18,19,21,22,23,24,25,29,30,31,32,35,37,39],[83.0,5004777.0,0.611,-5.297999999999999,1.0,12.0,0.336,13.0,1.0,1.0,0.015180265654648997,0.0246679316888046,1.0,0.0208728652751423,0.0094876660341556,0.0170777988614801,0.0113851992409867,0.0189753320683112,0.00379506641366224,1286.0,0.34600000000000003,0.015180265654648997,1.0,0.0896,4.0])|\n",
            "|(40,[1,4,5,6,7,9,10,11,12,14,16,17,18,20,21,22,23,24,25,29,30,31,32,37,39],[84.0,1.2829933E7,0.679,1.0,-9.754,1.0,1.0,0.151,1.0,1.0,1.0,0.0147783251231527,0.0443349753694581,1.0,0.0394088669950739,0.0197044334975369,0.0197044334975369,0.00985221674876847,0.0295566502463054,0.00985221674876847,197.0,0.23,0.0197044334975369,0.0882,4.0])                               |\n",
            "|(40,[1,4,5,7,9,10,11,12,14,16,17,18,20,21,22,23,24,25,29,30,31,32,35,37,39],[101.0,1.2829933E7,0.679,-9.754,1.0,1.0,0.151,1.0,1.0,1.0,0.0147783251231527,0.0443349753694581,1.0,0.0394088669950739,0.0197044334975369,0.0197044334975369,0.00985221674876847,0.0295566502463054,0.00985221674876847,197.0,0.23,0.0197044334975369,1.0,0.0882,4.0])                             |\n",
            "|[1.0,24.0,0.0,0.0,1.4303985E7,0.483,1.0,-7.8889999999999985,0.0,1.0,1.0,0.307,1.0,0.0,1.0,0.0,1.0,0.0037174721189591102,0.0260223048327138,0.0,1.0,0.0111524163568773,0.0111524163568773,0.0111524163568773,0.0111524163568773,0.0185873605947955,0.0,0.0,0.0,0.0037174721189591102,274.0,0.098,0.0074349442379182205,0.0,0.0,0.0,0.0,0.0738,1.0,4.0]                          |\n",
            "+-------------------------------------------------------------------------------------------------------------------------------------------------------------------------------------------------------------------------------------------------------------------------------------------------------------------------------------------------------------------------------+\n",
            "only showing top 20 rows\n",
            "\n"
          ]
        }
      ],
      "source": [
        "from ast import mod\n",
        "\n",
        "from pyspark.ml.classification import RandomForestClassifier, DecisionTreeClassifier, LogisticRegression\n",
        "from pyspark.ml.evaluation import MulticlassClassificationEvaluator\n",
        "from pyspark.ml.tuning import CrossValidator, ParamGridBuilder\n",
        "\n",
        "# Re-assemble filtered features\n",
        "feature_columns = [col for col, dtype in filtered_df.dtypes if dtype != 'string']\n",
        "\n",
        "indexer = StringIndexer(inputCol=\"PopularityCategory\", outputCol=\"label\")\n",
        "model1_df = indexer.fit(filtered_df).transform(filtered_df)\n",
        "\n",
        "for fname in filtered_fnames:\n",
        "  model1_df = model1_df.withColumn(fname, col(fname).cast(\"double\"))\n",
        "\n",
        "model1_df = model1_df.dropna()\n",
        "\n",
        "assembler = VectorAssembler(inputCols=filtered_fnames, outputCol=\"features\", handleInvalid = \"keep\")\n",
        "model1_df = assembler.transform(model1_df).select(\"features\", \"label\")\n",
        "\n",
        "model1_df.select(\"features\").show(truncate=False)\n",
        "\n",
        "# Split data into train and test sets\n",
        "train_df, test_df = model1_df.randomSplit([0.8, 0.2], seed=42)\n",
        "#big, small = model1_df.randomSplit([0.9, 0.1], seed=42)\n",
        "#train_df, test_df = small.randomSplit([0.8, 0.2], seed=42)\n",
        "\n",
        "# Initialize the classifiers\n",
        "rf_classifier = RandomForestClassifier(featuresCol=\"features\", labelCol=\"label\", seed=42)\n",
        "dt_classifier = DecisionTreeClassifier(featuresCol=\"features\", labelCol=\"label\", seed=42)\n",
        "lr_classifier = LogisticRegression(featuresCol=\"features\", labelCol=\"label\", maxIter=10)"
      ]
    },
    {
      "cell_type": "code",
      "execution_count": 133,
      "metadata": {
        "id": "awSFcxF-UEIF"
      },
      "outputs": [],
      "source": [
        "# Create parameter grids for each classifier\n",
        "rf_paramGrid = (ParamGridBuilder()\n",
        "                .addGrid(rf_classifier.numTrees, [50, 100])\n",
        "                .addGrid(rf_classifier.maxDepth, [5, 10])\n",
        "                .build())\n",
        "\n",
        "dt_paramGrid = (ParamGridBuilder()\n",
        "                .addGrid(dt_classifier.maxDepth, [5, 10, 15])\n",
        "                .addGrid(dt_classifier.minInstancesPerNode, [1, 2, 4])\n",
        "                .build())\n",
        "\n",
        "lr_paramGrid = (ParamGridBuilder()\n",
        "                .addGrid(lr_classifier.regParam, [0.01, 0.1, 1.0])\n",
        "                .addGrid(lr_classifier.elasticNetParam, [0.0, 0.5, 1.0])\n",
        "                .build())"
      ]
    },
    {
      "cell_type": "code",
      "source": [
        "# Evaluator\n",
        "evaluator = MulticlassClassificationEvaluator(labelCol=\"label\", predictionCol=\"prediction\", metricName=\"accuracy\")\n",
        "\n",
        "# Set up CrossValidators for each model\n",
        "rf_cv = CrossValidator(estimator=rf_classifier,\n",
        "                       estimatorParamMaps=rf_paramGrid,\n",
        "                       evaluator=evaluator,\n",
        "                       numFolds=3,\n",
        "                       parallelism=2)\n",
        "\n",
        "dt_cv = CrossValidator(estimator=dt_classifier,\n",
        "                       estimatorParamMaps=dt_paramGrid,\n",
        "                       evaluator=evaluator,\n",
        "                       numFolds=3,\n",
        "                       parallelism=2)\n",
        "\n",
        "lr_cv = CrossValidator(estimator=lr_classifier,\n",
        "                       estimatorParamMaps=lr_paramGrid,\n",
        "                       evaluator=evaluator,\n",
        "                       numFolds=3,\n",
        "                       parallelism=2)"
      ],
      "metadata": {
        "id": "201PQmP-4Cis"
      },
      "execution_count": 134,
      "outputs": []
    },
    {
      "cell_type": "code",
      "source": [
        "# Fit the models\n",
        "print(\"Fitting Random Forest model...\")\n",
        "rf_model = rf_cv.fit(train_df)\n",
        "print(\"Fitting Decision Tree model...\")\n",
        "dt_model = dt_cv.fit(train_df)\n",
        "print(\"Fitting Logistic Regression model...\")\n",
        "lr_model = lr_cv.fit(train_df)"
      ],
      "metadata": {
        "id": "U3q3xK6z38OK",
        "outputId": "591fd9c1-2881-4f71-e67d-aa201d96a3f1",
        "colab": {
          "base_uri": "https://localhost:8080/"
        }
      },
      "execution_count": 135,
      "outputs": [
        {
          "output_type": "stream",
          "name": "stdout",
          "text": [
            "Fitting Random Forest model...\n",
            "Fitting Decision Tree model...\n",
            "Fitting Logistic Regression model...\n"
          ]
        }
      ]
    },
    {
      "cell_type": "code",
      "source": [
        "# Make predictions on the test set\n",
        "rf_predictions = rf_model.transform(test_df)\n",
        "dt_predictions = dt_model.transform(test_df)\n",
        "lr_predictions = lr_model.transform(test_df)\n",
        "\n",
        "# Evaluate the models\n",
        "rf_accuracy = evaluator.evaluate(rf_predictions)\n",
        "dt_accuracy = evaluator.evaluate(dt_predictions)\n",
        "lr_accuracy = evaluator.evaluate(lr_predictions)\n",
        "\n",
        "print(f\"Random Forest Accuracy: {rf_accuracy}\")\n",
        "print(f\"Decision Tree Accuracy: {dt_accuracy}\")\n",
        "print(f\"Logistic Regression Accuracy: {lr_accuracy}\")"
      ],
      "metadata": {
        "id": "LbkwxPQ24G52",
        "outputId": "9bffd679-ccab-4ac8-d78e-545f1693d501",
        "colab": {
          "base_uri": "https://localhost:8080/"
        }
      },
      "execution_count": 136,
      "outputs": [
        {
          "output_type": "stream",
          "name": "stdout",
          "text": [
            "Random Forest Accuracy: 0.8570627802690582\n",
            "Decision Tree Accuracy: 0.8239910313901345\n",
            "Logistic Regression Accuracy: 0.8256726457399103\n"
          ]
        }
      ]
    },
    {
      "cell_type": "code",
      "source": [
        "# Determine the best model\n",
        "accuracies = {'Random Forest': rf_accuracy, 'Decision Tree': dt_accuracy, 'Logistic Regression': lr_accuracy}\n",
        "best_model_name = max(accuracies, key=accuracies.get)\n",
        "print(f\"The best model is: {best_model_name} with an accuracy of {accuracies[best_model_name]}\")\n",
        "\n",
        "# Access the best model and its parameters\n",
        "if best_model_name == 'Random Forest':\n",
        "    best_model = rf_model.bestModel\n",
        "    best_params = rf_model.bestModel.extractParamMap()\n",
        "elif best_model_name == 'Decision Tree':\n",
        "    best_model = dt_model.bestModel\n",
        "    best_params = dt_model.bestModel.extractParamMap()\n",
        "else:\n",
        "    best_model = lr_model.bestModel\n",
        "    best_params = lr_model.bestModel.extractParamMap()\n",
        "\n",
        "print(\"Best Model Parameters:\")\n",
        "for param, value in best_params.items():\n",
        "    print(f\"{param}: {value}\")"
      ],
      "metadata": {
        "id": "Z1zhncXX4Kc3",
        "outputId": "0c004db3-3a71-47b5-c86e-dd05ec222caf",
        "colab": {
          "base_uri": "https://localhost:8080/"
        }
      },
      "execution_count": 137,
      "outputs": [
        {
          "output_type": "stream",
          "name": "stdout",
          "text": [
            "The best model is: Random Forest with an accuracy of 0.8570627802690582\n",
            "Best Model Parameters:\n",
            "RandomForestClassifier_f763d3524bef__bootstrap: True\n",
            "RandomForestClassifier_f763d3524bef__cacheNodeIds: False\n",
            "RandomForestClassifier_f763d3524bef__checkpointInterval: 10\n",
            "RandomForestClassifier_f763d3524bef__featureSubsetStrategy: auto\n",
            "RandomForestClassifier_f763d3524bef__featuresCol: features\n",
            "RandomForestClassifier_f763d3524bef__impurity: gini\n",
            "RandomForestClassifier_f763d3524bef__labelCol: label\n",
            "RandomForestClassifier_f763d3524bef__leafCol: \n",
            "RandomForestClassifier_f763d3524bef__maxBins: 32\n",
            "RandomForestClassifier_f763d3524bef__maxDepth: 10\n",
            "RandomForestClassifier_f763d3524bef__maxMemoryInMB: 256\n",
            "RandomForestClassifier_f763d3524bef__minInfoGain: 0.0\n",
            "RandomForestClassifier_f763d3524bef__minInstancesPerNode: 1\n",
            "RandomForestClassifier_f763d3524bef__minWeightFractionPerNode: 0.0\n",
            "RandomForestClassifier_f763d3524bef__numTrees: 50\n",
            "RandomForestClassifier_f763d3524bef__predictionCol: prediction\n",
            "RandomForestClassifier_f763d3524bef__probabilityCol: probability\n",
            "RandomForestClassifier_f763d3524bef__rawPredictionCol: rawPrediction\n",
            "RandomForestClassifier_f763d3524bef__seed: 42\n",
            "RandomForestClassifier_f763d3524bef__subsamplingRate: 1.0\n"
          ]
        }
      ]
    },
    {
      "cell_type": "markdown",
      "metadata": {
        "id": "pgKjNaUFUEIF"
      },
      "source": [
        "# Model 2 (KNN Music Recommender)"
      ]
    },
    {
      "cell_type": "code",
      "execution_count": null,
      "metadata": {
        "id": "_lMikwbNUEIF"
      },
      "outputs": [],
      "source": [
        "from pyspark.ml.feature import VectorAssembler, StandardScaler\n",
        "from pyspark.sql import functions as F\n",
        "from pyspark.sql.types import FloatType\n",
        "from pyspark.sql import DataFrame\n",
        "\n",
        "# Step 1: Aggregate features by Uri, retaining Title and Artist\n",
        "model2_df = transformed_df.groupBy(\"Uri\").agg(\n",
        "    F.first(\"Title\").alias(\"Title\"),\n",
        "    F.first(\"Artist\").alias(\"Artist\"),\n",
        "    F.avg(\"danceability\").alias(\"danceability\"),\n",
        "    F.avg(\"energy\").alias(\"energy\"),\n",
        "    F.avg(\"loudness\").alias(\"loudness\"),\n",
        "    F.avg(\"acoustics\").alias(\"acoustics\"),\n",
        "    F.avg(\"instrumentalness\").alias(\"instrumentalness\"),\n",
        "    F.avg(\"liveliness\").alias(\"liveliness\"),\n",
        "    F.avg(\"valence\").alias(\"valence\"),\n",
        "    F.avg(\"tempo\").alias(\"tempo\")\n",
        ")\n",
        "\n",
        "audio_features = ['danceability', 'energy', 'loudness', 'acoustics',\n",
        "                  'instrumentalness', 'liveliness', 'valence', 'tempo']\n",
        "model2_df = model2_df.fillna(0, subset=audio_features)\n",
        "# Combine audio features into a single vector column\n",
        "assembler = VectorAssembler(inputCols=audio_features, outputCol=\"features\")\n",
        "data_with_features = assembler.transform(model2_df)  # Replace 'data' with your PySpark DataFrame\n",
        "\n"
      ]
    },
    {
      "cell_type": "code",
      "execution_count": null,
      "metadata": {
        "id": "CGVQv-FpUEIG"
      },
      "outputs": [],
      "source": [
        "# Step 2: Standardize the features\n",
        "scaler = StandardScaler(inputCol=\"features\", outputCol=\"scaled_features\")\n",
        "scaler_model = scaler.fit(data_with_features)\n",
        "data_scaled = scaler_model.transform(data_with_features)"
      ]
    },
    {
      "cell_type": "code",
      "execution_count": null,
      "metadata": {
        "id": "dWr26Oj1UEIG"
      },
      "outputs": [],
      "source": [
        "# Step 3: Define the recommendation function including Title and Artist in the output\n",
        "def get_recommendations(df: DataFrame, target_uri: str, n_recommendations: int = 5) -> DataFrame:\n",
        "    \"\"\"\n",
        "    Get song recommendations based on Euclidean distance to a target song by Uri.\n",
        "\n",
        "    Parameters:\n",
        "    df (DataFrame): The PySpark DataFrame containing scaled features.\n",
        "    target_uri (str): The Uri of the target song.\n",
        "    n_recommendations (int): Number of recommendations to retrieve.\n",
        "\n",
        "    Returns:\n",
        "    DataFrame: A PySpark DataFrame of recommended songs including Uri, Title, and Artist.\n",
        "    \"\"\"\n",
        "    # Extract the feature vector of the target song by Uri\n",
        "    target_song = df.where(F.col(\"Uri\") == target_uri).select(\"scaled_features\").first()\n",
        "\n",
        "    # Check if target_song exists\n",
        "    if not target_song:\n",
        "        raise ValueError(f\"Uri {target_uri} not found in the dataset.\")\n",
        "\n",
        "    target_vector = target_song[\"scaled_features\"]\n",
        "\n",
        "    # Define a UDF to calculate Euclidean distance\n",
        "    def euclidean_distance(v1, v2):\n",
        "        return float(v1.squared_distance(v2)) ** 0.5\n",
        "\n",
        "    distance_udf = F.udf(lambda v: euclidean_distance(target_vector, v), FloatType())\n",
        "\n",
        "    # Calculate distances and get the closest songs\n",
        "    df_with_distances = df.withColumn(\"distance\", distance_udf(F.col(\"scaled_features\")))\n",
        "    recommendations = (df_with_distances\n",
        "                       .filter(F.col(\"Uri\") != target_uri)  # Exclude the target song itself\n",
        "                       .select(\"Uri\", \"Title\", \"Artist\", \"distance\")  # Include Uri, Title, Artist\n",
        "                       .orderBy(\"distance\")\n",
        "                       .limit(n_recommendations))\n",
        "\n",
        "    return recommendations"
      ]
    },
    {
      "cell_type": "code",
      "execution_count": null,
      "metadata": {
        "id": "R0kERdHWUEIG",
        "outputId": "4281d3bf-dde2-4352-ad34-7a2824e34ee3"
      },
      "outputs": [
        {
          "name": "stdout",
          "output_type": "stream",
          "text": [
            "+--------------------+------------------+--------------------+----------+\n",
            "|                 Uri|             Title|              Artist|  distance|\n",
            "+--------------------+------------------+--------------------+----------+\n",
            "|https://open.spot...|        adan y eva|        Paulo Londra|0.04859169|\n",
            "|https://open.spot...|la jeepeta - remix|Nio Garcia - Anue...|0.43462214|\n",
            "|https://open.spot...|la jeepeta - remix|Nio Garcia - Anue...|0.44388047|\n",
            "|https://open.spot...|       fuego lento|          Drake Bell| 0.5159253|\n",
            "|https://open.spot...|     supuestamente|    Ozuna - Anuel AA|0.57871056|\n",
            "+--------------------+------------------+--------------------+----------+\n",
            "\n"
          ]
        }
      ],
      "source": [
        "# Example usage:\n",
        "recommendations_df = get_recommendations(data_scaled, target_uri=\"https://open.spotify.com/track/6FyRXC8tJUh863JCkyWqtk\", n_recommendations=5)\n",
        "recommendations_df.show()"
      ]
    }
  ],
  "metadata": {
    "kernelspec": {
      "display_name": "base",
      "language": "python",
      "name": "python3"
    },
    "language_info": {
      "codemirror_mode": {
        "name": "ipython",
        "version": 3
      },
      "file_extension": ".py",
      "mimetype": "text/x-python",
      "name": "python",
      "nbconvert_exporter": "python",
      "pygments_lexer": "ipython3",
      "version": "3.11.7"
    },
    "colab": {
      "provenance": []
    }
  },
  "nbformat": 4,
  "nbformat_minor": 0
}