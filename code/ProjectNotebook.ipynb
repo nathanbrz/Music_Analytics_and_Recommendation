{
 "cells": [
  {
   "cell_type": "markdown",
   "metadata": {},
   "source": [
    "# Introduction and Motivation\n",
    "\n",
    "In the era of digital media, music streaming platforms have transformed how we discover and enjoy music. Services like Spotify have millions of tracks available at our fingertips, making music recommendation systems essential for enhancing user experience. Recognizing the significance of these systems, our team chose to explore the “Spotify Tracks, Genre, Audio Features” dataset from Kaggle (https://www.kaggle.com/datasets/pepepython/spotify-huge-database-daily-charts-over-3-years/data) using PySpark to analyze trends and build a music recommendation model.\n",
    "\n",
    "Our motivation for selecting this dataset is rooted in a desire to engage with a more intriguing and relatable subject matter than the typical technical datasets we’ve encountered in previous classes. Music is a universal language, and understanding how recommendation systems work within this context is both exciting and relevant. Music recommendation models are increasingly important as the amount of data generated online continues to grow, impacting how users interact with streaming services.\n",
    "\n",
    "The primary objectives of our project are twofold:\n",
    "1. Data Analysis: We aim to understand trends within the music data by examining how different genres relate to specific audio feature metrics. For example, we want to investigate whether certain genres consistently exhibit higher danceability scores or how energy levels vary across genres.\n",
    "2. Model Building: Utilizing machine learning techniques, we plan to develop a music recommendation model. This model will leverage the insights gained from our data analysis to suggest tracks that align with user preferences based on audio features.\n",
    "\n",
    "Our project focuses on mainstream music, as the dataset predominantly features popular tracks. While we have considered algorithms like K-Nearest Neighbors for recommendation, we will determine the most suitable machine learning methods as we progress, ensuring they align with our dataset characteristics and project goals."
   ]
  },
  {
   "cell_type": "markdown",
   "metadata": {},
   "source": [
    "# Data Collection"
   ]
  },
  {
   "cell_type": "code",
   "execution_count": 51,
   "metadata": {},
   "outputs": [
    {
     "name": "stderr",
     "output_type": "stream",
     "text": [
      "[Stage 115:============================>                            (4 + 4) / 8]\r"
     ]
    },
    {
     "name": "stdout",
     "output_type": "stream",
     "text": [
      "+-----------+--------------------+------------------+---------------+--------------------+------------+-----------------+----------------+--------+--------------------+------------+------------+---------------+------------------+------------------+---+--------+----+-----------+-------------------+----------------+----------+-------+-------+-----------+--------------+---------+------------------+-------------------+--------------+-------------+-------+-----------+------+------+--------+---------+----------------+----+----+-------+-----+-----+----+-----+-----+-----+---+---+--------+---+------+---------+----+----+------------+---------+----------+--------+-------+----+-----+----+-----+------------+-------+----+----+-------+--------+-----+--------+--------+-------+----------+-------------------+------------+-------------------+-------------------+------------------+-------------+-------------------+------------------+-------------------+-----------+------------------+-------------+-----------------+-----------------+-------------------+--------------+-----------------+--------------+--------------+---------------+---------------+-----+--------------+-------------+--------------+---------+---------+------+-------+----+----+----+---------+----+------------------+-----------------+------------------+---------+---------+-------+-------+------+------+-----+--------+----------+-------+-------+-------+------+-------+------+---------+-------+-----+--------+------+-----------+-----------+------+----+-----------+------+--------+---------+-----+------+-----------+------+------+---+---+--------+-----------+-----------+--------------------+\n",
      "|   Country0|                 Uri|        Popularity|          Title|              Artist|Album/Single|            Genre|Artist_followers|Explicit|              Album9|Release_date|Track_number|Tracks_in_album|      danceability|            energy|key|loudness|mode|speechiness|          acoustics|instrumentalness|liveliness|valence|  tempo|duration_ms|time_signature|Genre_new|Days_since_release|Released_after_2017|Explicit_false|Explicit_true|album31|compilation|single|bolero|boy band|country36|dance/electronic|else|funk|hip hop|house|indie|jazz|k-pop|latin|metal|opm|pop|r&b/soul|rap|reggae|reggaeton|rock|trap|syuzhet_norm|bing_norm|afinn_norm|nrc_norm|syuzhet|bing|afinn| nrc|anger|anticipation|disgust|fear| joy|sadness|surprise|trust|negative|positive|n_words|anger_norm|  anticipation_norm|disgust_norm|          fear_norm|           joy_norm|      sadness_norm|surprise_norm|         trust_norm|     negative_norm|      positive_norm|anger_norm2|anticipation_norm2|disgust_norm2|       fear_norm2|        joy_norm2|      sadness_norm2|surprise_norm2|      trust_norm2|negative_norm2|positive_norm2|negative_bog_jr|positive_bog_jr|Bayes|Negative_Bayes|Neutral_Bayes|Positive_Bayes|LDA_Topic|Celebrate|Desire|Explore| Fun|Hope|Love|Nostalgia|Thug|bing_norm_negative|bing_norm_neutral|bing_norm_positive|Argentina|Australia|Austria|Belgium|Brazil|Canada|Chile|Colombia|Costa Rica|Denmark|Ecuador|Finland|France|Germany|Global|Indonesia|Ireland|Italy|Malaysia|Mexico|Netherlands|New Zealand|Norway|Peru|Philippines|Poland|Portugal|Singapore|Spain|Sweden|Switzerland|Taiwan|Turkey| UK|USA|Popu_max|Top10_dummy|Top50_dummy|             Cluster|\n",
      "+-----------+--------------------+------------------+---------------+--------------------+------------+-----------------+----------------+--------+--------------------+------------+------------+---------------+------------------+------------------+---+--------+----+-----------+-------------------+----------------+----------+-------+-------+-----------+--------------+---------+------------------+-------------------+--------------+-------------+-------+-----------+------+------+--------+---------+----------------+----+----+-------+-----+-----+----+-----+-----+-----+---+---+--------+---+------+---------+----+----+------------+---------+----------+--------+-------+----+-----+----+-----+------------+-------+----+----+-------+--------+-----+--------+--------+-------+----------+-------------------+------------+-------------------+-------------------+------------------+-------------+-------------------+------------------+-------------------+-----------+------------------+-------------+-----------------+-----------------+-------------------+--------------+-----------------+--------------+--------------+---------------+---------------+-----+--------------+-------------+--------------+---------+---------+------+-------+----+----+----+---------+----+------------------+-----------------+------------------+---------+---------+-------+-------+------+------+-----+--------+----------+-------+-------+-------+------+-------+------+---------+-------+-----+--------+------+-----------+-----------+------+----+-----------+------+--------+---------+-----+------+-----------+------+------+---+---+--------+-----------+-----------+--------------------+\n",
      "|     Global|https://open.spot...|          31833.95|     adan y eva|        Paulo Londra|      single|argentine hip hop|      11427104.0|   False|          Adan y Eva|  2018-11-05|           1|              1|             0.767|0.7090000000000001|  1|   -4.47|   1|      0.336|0.32299999999999995|             0.0|    0.0676|   0.72|171.993|     258639|             4|  hip hop|             740.0|                1.0|           1.0|            0|      0|          0|     1|     0|       0|        0|               0|   0|   0|      1|    0|    0|   0|    0|    0|    0|  0|  0|       0|  0|     0|        0|   0|   0|        NULL|     NULL|      NULL|    NULL|   NULL|NULL| NULL|NULL| NULL|        NULL|   NULL|NULL|NULL|   NULL|    NULL| NULL|    NULL|    NULL|   NULL|      NULL|               NULL|        NULL|               NULL|               NULL|              NULL|         NULL|               NULL|              NULL|               NULL|       NULL|              NULL|         NULL|             NULL|             NULL|               NULL|          NULL|             NULL|          NULL|          NULL|           NULL|           NULL| NULL|          NULL|         NULL|          NULL|     NULL|     NULL|  NULL|   NULL|NULL|NULL|NULL|     NULL|NULL|               0.0|                0|                 0|        0|        0|      0|      0|     0|     0|    0|       0|         0|      0|      0|      0|     0|      0|     1|        0|      0|    0|       0|     0|          0|          0|     0|   0|          0|     0|       0|        0|    0|     0|          0|     0|     0|  0|  0|      10|        1.0|        1.0|              global|\n",
      "|        USA|https://open.spot...|               8.0|     adan y eva|        Paulo Londra|      single|argentine hip hop|      11427104.0|   False|          Adan y Eva|  2018-11-05|           1|              1|             0.767|0.7090000000000001|  1|   -4.47|   1|      0.336|0.32299999999999995|             0.0|    0.0676|   0.72|171.993|     258639|             4|  hip hop|             740.0|                1.0|           1.0|            0|      0|          0|     1|     0|       0|        0|               0|   0|   0|      1|    0|    0|   0|    0|    0|    0|  0|  0|       0|  0|     0|        0|   0|   0|        NULL|     NULL|      NULL|    NULL|   NULL|NULL| NULL|NULL| NULL|        NULL|   NULL|NULL|NULL|   NULL|    NULL| NULL|    NULL|    NULL|   NULL|      NULL|               NULL|        NULL|               NULL|               NULL|              NULL|         NULL|               NULL|              NULL|               NULL|       NULL|              NULL|         NULL|             NULL|             NULL|               NULL|          NULL|             NULL|          NULL|          NULL|           NULL|           NULL| NULL|          NULL|         NULL|          NULL|     NULL|     NULL|  NULL|   NULL|NULL|NULL|NULL|     NULL|NULL|               0.0|                0|                 0|        0|        0|      0|      0|     0|     0|    0|       0|         0|      0|      0|      0|     0|      0|     0|        0|      0|    0|       0|     0|          0|          0|     0|   0|          0|     0|       0|        0|    0|     0|          0|     0|     0|  0|  1|     191|        0.0|        0.0|english speaking ...|\n",
      "|  Argentina|https://open.spot...|           76924.4|     adan y eva|        Paulo Londra|      single|argentine hip hop|      11427104.0|   False|          Adan y Eva|  2018-11-05|           1|              1|             0.767|0.7090000000000001|  1|   -4.47|   1|      0.336|0.32299999999999995|             0.0|    0.0676|   0.72|171.993|     258639|             4|  hip hop|             740.0|                1.0|           1.0|            0|      0|          0|     1|     0|       0|        0|               0|   0|   0|      1|    0|    0|   0|    0|    0|    0|  0|  0|       0|  0|     0|        0|   0|   0|        NULL|     NULL|      NULL|    NULL|   NULL|NULL| NULL|NULL| NULL|        NULL|   NULL|NULL|NULL|   NULL|    NULL| NULL|    NULL|    NULL|   NULL|      NULL|               NULL|        NULL|               NULL|               NULL|              NULL|         NULL|               NULL|              NULL|               NULL|       NULL|              NULL|         NULL|             NULL|             NULL|               NULL|          NULL|             NULL|          NULL|          NULL|           NULL|           NULL| NULL|          NULL|         NULL|          NULL|     NULL|     NULL|  NULL|   NULL|NULL|NULL|NULL|     NULL|NULL|               0.0|                0|                 0|        1|        0|      0|      0|     0|     0|    0|       0|         0|      0|      0|      0|     0|      0|     0|        0|      0|    0|       0|     0|          0|          0|     0|   0|          0|     0|       0|        0|    0|     0|          0|     0|     0|  0|  0|       1|        1.0|        1.0|    spanish speaking|\n",
      "|    Belgium|https://open.spot...| 849.6000000000001|     adan y eva|        Paulo Londra|      single|argentine hip hop|      11427104.0|   False|          Adan y Eva|  2018-11-05|           1|              1|             0.767|0.7090000000000001|  1|   -4.47|   1|      0.336|0.32299999999999995|             0.0|    0.0676|   0.72|171.993|     258639|             4|  hip hop|             740.0|                1.0|           1.0|            0|      0|          0|     1|     0|       0|        0|               0|   0|   0|      1|    0|    0|   0|    0|    0|    0|  0|  0|       0|  0|     0|        0|   0|   0|        NULL|     NULL|      NULL|    NULL|   NULL|NULL| NULL|NULL| NULL|        NULL|   NULL|NULL|NULL|   NULL|    NULL| NULL|    NULL|    NULL|   NULL|      NULL|               NULL|        NULL|               NULL|               NULL|              NULL|         NULL|               NULL|              NULL|               NULL|       NULL|              NULL|         NULL|             NULL|             NULL|               NULL|          NULL|             NULL|          NULL|          NULL|           NULL|           NULL| NULL|          NULL|         NULL|          NULL|     NULL|     NULL|  NULL|   NULL|NULL|NULL|NULL|     NULL|NULL|               0.0|                0|                 0|        0|        0|      0|      1|     0|     0|    0|       0|         0|      0|      0|      0|     0|      0|     0|        0|      0|    0|       0|     0|          0|          0|     0|   0|          0|     0|       0|        0|    0|     0|          0|     0|     0|  0|  0|     126|        0.0|        0.0|english speaking ...|\n",
      "|Switzerland|https://open.spot...|           20739.1|     adan y eva|        Paulo Londra|      single|argentine hip hop|      11427104.0|   False|          Adan y Eva|  2018-11-05|           1|              1|             0.767|0.7090000000000001|  1|   -4.47|   1|      0.336|0.32299999999999995|             0.0|    0.0676|   0.72|171.993|     258639|             4|  hip hop|             740.0|                1.0|           1.0|            0|      0|          0|     1|     0|       0|        0|               0|   0|   0|      1|    0|    0|   0|    0|    0|    0|  0|  0|       0|  0|     0|        0|   0|   0|        NULL|     NULL|      NULL|    NULL|   NULL|NULL| NULL|NULL| NULL|        NULL|   NULL|NULL|NULL|   NULL|    NULL| NULL|    NULL|    NULL|   NULL|      NULL|               NULL|        NULL|               NULL|               NULL|              NULL|         NULL|               NULL|              NULL|               NULL|       NULL|              NULL|         NULL|             NULL|             NULL|               NULL|          NULL|             NULL|          NULL|          NULL|           NULL|           NULL| NULL|          NULL|         NULL|          NULL|     NULL|     NULL|  NULL|   NULL|NULL|NULL|NULL|     NULL|NULL|               0.0|                0|                 0|        0|        0|      0|      0|     0|     0|    0|       0|         0|      0|      0|      0|     0|      0|     0|        0|      0|    0|       0|     0|          0|          0|     0|   0|          0|     0|       0|        0|    0|     0|          1|     0|     0|  0|  0|      21|        0.0|        1.0|english speaking ...|\n",
      "|      Chile|https://open.spot...| 60264.19999999997|     adan y eva|        Paulo Londra|      single|argentine hip hop|      11427104.0|   False|          Adan y Eva|  2018-11-05|           1|              1|             0.767|0.7090000000000001|  1|   -4.47|   1|      0.336|0.32299999999999995|             0.0|    0.0676|   0.72|171.993|     258639|             4|  hip hop|             740.0|                1.0|           1.0|            0|      0|          0|     1|     0|       0|        0|               0|   0|   0|      1|    0|    0|   0|    0|    0|    0|  0|  0|       0|  0|     0|        0|   0|   0|        NULL|     NULL|      NULL|    NULL|   NULL|NULL| NULL|NULL| NULL|        NULL|   NULL|NULL|NULL|   NULL|    NULL| NULL|    NULL|    NULL|   NULL|      NULL|               NULL|        NULL|               NULL|               NULL|              NULL|         NULL|               NULL|              NULL|               NULL|       NULL|              NULL|         NULL|             NULL|             NULL|               NULL|          NULL|             NULL|          NULL|          NULL|           NULL|           NULL| NULL|          NULL|         NULL|          NULL|     NULL|     NULL|  NULL|   NULL|NULL|NULL|NULL|     NULL|NULL|               0.0|                0|                 0|        0|        0|      0|      0|     0|     0|    1|       0|         0|      0|      0|      0|     0|      0|     0|        0|      0|    0|       0|     0|          0|          0|     0|   0|          0|     0|       0|        0|    0|     0|          0|     0|     0|  0|  0|       1|        1.0|        1.0|    spanish speaking|\n",
      "|   Colombia|https://open.spot...| 60131.15000000014|     adan y eva|        Paulo Londra|      single|argentine hip hop|      11427104.0|   False|          Adan y Eva|  2018-11-05|           1|              1|             0.767|0.7090000000000001|  1|   -4.47|   1|      0.336|0.32299999999999995|             0.0|    0.0676|   0.72|171.993|     258639|             4|  hip hop|             740.0|                1.0|           1.0|            0|      0|          0|     1|     0|       0|        0|               0|   0|   0|      1|    0|    0|   0|    0|    0|    0|  0|  0|       0|  0|     0|        0|   0|   0|        NULL|     NULL|      NULL|    NULL|   NULL|NULL| NULL|NULL| NULL|        NULL|   NULL|NULL|NULL|   NULL|    NULL| NULL|    NULL|    NULL|   NULL|      NULL|               NULL|        NULL|               NULL|               NULL|              NULL|         NULL|               NULL|              NULL|               NULL|       NULL|              NULL|         NULL|             NULL|             NULL|               NULL|          NULL|             NULL|          NULL|          NULL|           NULL|           NULL| NULL|          NULL|         NULL|          NULL|     NULL|     NULL|  NULL|   NULL|NULL|NULL|NULL|     NULL|NULL|               0.0|                0|                 0|        0|        0|      0|      0|     0|     0|    0|       1|         0|      0|      0|      0|     0|      0|     0|        0|      0|    0|       0|     0|          0|          0|     0|   0|          0|     0|       0|        0|    0|     0|          0|     0|     0|  0|  0|       2|        1.0|        1.0|    spanish speaking|\n",
      "| Costa Rica|https://open.spot...| 64081.30000000009|     adan y eva|        Paulo Londra|      single|argentine hip hop|      11427104.0|   False|          Adan y Eva|  2018-11-05|           1|              1|             0.767|0.7090000000000001|  1|   -4.47|   1|      0.336|0.32299999999999995|             0.0|    0.0676|   0.72|171.993|     258639|             4|  hip hop|             740.0|                1.0|           1.0|            0|      0|          0|     1|     0|       0|        0|               0|   0|   0|      1|    0|    0|   0|    0|    0|    0|  0|  0|       0|  0|     0|        0|   0|   0|        NULL|     NULL|      NULL|    NULL|   NULL|NULL| NULL|NULL| NULL|        NULL|   NULL|NULL|NULL|   NULL|    NULL| NULL|    NULL|    NULL|   NULL|      NULL|               NULL|        NULL|               NULL|               NULL|              NULL|         NULL|               NULL|              NULL|               NULL|       NULL|              NULL|         NULL|             NULL|             NULL|               NULL|          NULL|             NULL|          NULL|          NULL|           NULL|           NULL| NULL|          NULL|         NULL|          NULL|     NULL|     NULL|  NULL|   NULL|NULL|NULL|NULL|     NULL|NULL|               0.0|                0|                 0|        0|        0|      0|      0|     0|     0|    0|       0|         1|      0|      0|      0|     0|      0|     0|        0|      0|    0|       0|     0|          0|          0|     0|   0|          0|     0|       0|        0|    0|     0|          0|     0|     0|  0|  0|       1|        1.0|        1.0|    spanish speaking|\n",
      "|    Germany|https://open.spot...|             208.0|     adan y eva|        Paulo Londra|      single|argentine hip hop|      11427104.0|   False|          Adan y Eva|  2018-11-05|           1|              1|             0.767|0.7090000000000001|  1|   -4.47|   1|      0.336|0.32299999999999995|             0.0|    0.0676|   0.72|171.993|     258639|             4|  hip hop|             740.0|                1.0|           1.0|            0|      0|          0|     1|     0|       0|        0|               0|   0|   0|      1|    0|    0|   0|    0|    0|    0|  0|  0|       0|  0|     0|        0|   0|   0|        NULL|     NULL|      NULL|    NULL|   NULL|NULL| NULL|NULL| NULL|        NULL|   NULL|NULL|NULL|   NULL|    NULL| NULL|    NULL|    NULL|   NULL|      NULL|               NULL|        NULL|               NULL|               NULL|              NULL|         NULL|               NULL|              NULL|               NULL|       NULL|              NULL|         NULL|             NULL|             NULL|               NULL|          NULL|             NULL|          NULL|          NULL|           NULL|           NULL| NULL|          NULL|         NULL|          NULL|     NULL|     NULL|  NULL|   NULL|NULL|NULL|NULL|     NULL|NULL|               0.0|                0|                 0|        0|        0|      0|      0|     0|     0|    0|       0|         0|      0|      0|      0|     0|      1|     0|        0|      0|    0|       0|     0|          0|          0|     0|   0|          0|     0|       0|        0|    0|     0|          0|     0|     0|  0|  0|     180|        0.0|        0.0|english speaking ...|\n",
      "|    Ecuador|https://open.spot...|           75636.9|     adan y eva|        Paulo Londra|      single|argentine hip hop|      11427104.0|   False|          Adan y Eva|  2018-11-05|           1|              1|             0.767|0.7090000000000001|  1|   -4.47|   1|      0.336|0.32299999999999995|             0.0|    0.0676|   0.72|171.993|     258639|             4|  hip hop|             740.0|                1.0|           1.0|            0|      0|          0|     1|     0|       0|        0|               0|   0|   0|      1|    0|    0|   0|    0|    0|    0|  0|  0|       0|  0|     0|        0|   0|   0|        NULL|     NULL|      NULL|    NULL|   NULL|NULL| NULL|NULL| NULL|        NULL|   NULL|NULL|NULL|   NULL|    NULL| NULL|    NULL|    NULL|   NULL|      NULL|               NULL|        NULL|               NULL|               NULL|              NULL|         NULL|               NULL|              NULL|               NULL|       NULL|              NULL|         NULL|             NULL|             NULL|               NULL|          NULL|             NULL|          NULL|          NULL|           NULL|           NULL| NULL|          NULL|         NULL|          NULL|     NULL|     NULL|  NULL|   NULL|NULL|NULL|NULL|     NULL|NULL|               0.0|                0|                 0|        0|        0|      0|      0|     0|     0|    0|       0|         0|      0|      1|      0|     0|      0|     0|        0|      0|    0|       0|     0|          0|          0|     0|   0|          0|     0|       0|        0|    0|     0|          0|     0|     0|  0|  0|       1|        1.0|        1.0|    spanish speaking|\n",
      "|      Spain|https://open.spot...| 69318.34999999998|     adan y eva|        Paulo Londra|      single|argentine hip hop|      11427104.0|   False|          Adan y Eva|  2018-11-05|           1|              1|             0.767|0.7090000000000001|  1|   -4.47|   1|      0.336|0.32299999999999995|             0.0|    0.0676|   0.72|171.993|     258639|             4|  hip hop|             740.0|                1.0|           1.0|            0|      0|          0|     1|     0|       0|        0|               0|   0|   0|      1|    0|    0|   0|    0|    0|    0|  0|  0|       0|  0|     0|        0|   0|   0|        NULL|     NULL|      NULL|    NULL|   NULL|NULL| NULL|NULL| NULL|        NULL|   NULL|NULL|NULL|   NULL|    NULL| NULL|    NULL|    NULL|   NULL|      NULL|               NULL|        NULL|               NULL|               NULL|              NULL|         NULL|               NULL|              NULL|               NULL|       NULL|              NULL|         NULL|             NULL|             NULL|               NULL|          NULL|             NULL|          NULL|          NULL|           NULL|           NULL| NULL|          NULL|         NULL|          NULL|     NULL|     NULL|  NULL|   NULL|NULL|NULL|NULL|     NULL|NULL|               0.0|                0|                 0|        0|        0|      0|      0|     0|     0|    0|       0|         0|      0|      0|      0|     0|      0|     0|        0|      0|    0|       0|     0|          0|          0|     0|   0|          0|     0|       0|        0|    1|     0|          0|     0|     0|  0|  0|       1|        1.0|        1.0|    spanish speaking|\n",
      "|      Italy|https://open.spot...|25361.250000000004|     adan y eva|        Paulo Londra|      single|argentine hip hop|      11427104.0|   False|          Adan y Eva|  2018-11-05|           1|              1|             0.767|0.7090000000000001|  1|   -4.47|   1|      0.336|0.32299999999999995|             0.0|    0.0676|   0.72|171.993|     258639|             4|  hip hop|             740.0|                1.0|           1.0|            0|      0|          0|     1|     0|       0|        0|               0|   0|   0|      1|    0|    0|   0|    0|    0|    0|  0|  0|       0|  0|     0|        0|   0|   0|        NULL|     NULL|      NULL|    NULL|   NULL|NULL| NULL|NULL| NULL|        NULL|   NULL|NULL|NULL|   NULL|    NULL| NULL|    NULL|    NULL|   NULL|      NULL|               NULL|        NULL|               NULL|               NULL|              NULL|         NULL|               NULL|              NULL|               NULL|       NULL|              NULL|         NULL|             NULL|             NULL|               NULL|          NULL|             NULL|          NULL|          NULL|           NULL|           NULL| NULL|          NULL|         NULL|          NULL|     NULL|     NULL|  NULL|   NULL|NULL|NULL|NULL|     NULL|NULL|               0.0|                0|                 0|        0|        0|      0|      0|     0|     0|    0|       0|         0|      0|      0|      0|     0|      0|     0|        0|      0|    1|       0|     0|          0|          0|     0|   0|          0|     0|       0|        0|    0|     0|          0|     0|     0|  0|  0|      11|        0.0|        1.0|southern europe a...|\n",
      "|     Mexico|https://open.spot...| 56380.40000000006|     adan y eva|        Paulo Londra|      single|argentine hip hop|      11427104.0|   False|          Adan y Eva|  2018-11-05|           1|              1|             0.767|0.7090000000000001|  1|   -4.47|   1|      0.336|0.32299999999999995|             0.0|    0.0676|   0.72|171.993|     258639|             4|  hip hop|             740.0|                1.0|           1.0|            0|      0|          0|     1|     0|       0|        0|               0|   0|   0|      1|    0|    0|   0|    0|    0|    0|  0|  0|       0|  0|     0|        0|   0|   0|        NULL|     NULL|      NULL|    NULL|   NULL|NULL| NULL|NULL| NULL|        NULL|   NULL|NULL|NULL|   NULL|    NULL| NULL|    NULL|    NULL|   NULL|      NULL|               NULL|        NULL|               NULL|               NULL|              NULL|         NULL|               NULL|              NULL|               NULL|       NULL|              NULL|         NULL|             NULL|             NULL|               NULL|          NULL|             NULL|          NULL|          NULL|           NULL|           NULL| NULL|          NULL|         NULL|          NULL|     NULL|     NULL|  NULL|   NULL|NULL|NULL|NULL|     NULL|NULL|               0.0|                0|                 0|        0|        0|      0|      0|     0|     0|    0|       0|         0|      0|      0|      0|     0|      0|     0|        0|      0|    0|       0|     1|          0|          0|     0|   0|          0|     0|       0|        0|    0|     0|          0|     0|     0|  0|  0|       2|        1.0|        1.0|    spanish speaking|\n",
      "|       Peru|https://open.spot...| 68141.79999999992|     adan y eva|        Paulo Londra|      single|argentine hip hop|      11427104.0|   False|          Adan y Eva|  2018-11-05|           1|              1|             0.767|0.7090000000000001|  1|   -4.47|   1|      0.336|0.32299999999999995|             0.0|    0.0676|   0.72|171.993|     258639|             4|  hip hop|             740.0|                1.0|           1.0|            0|      0|          0|     1|     0|       0|        0|               0|   0|   0|      1|    0|    0|   0|    0|    0|    0|  0|  0|       0|  0|     0|        0|   0|   0|        NULL|     NULL|      NULL|    NULL|   NULL|NULL| NULL|NULL| NULL|        NULL|   NULL|NULL|NULL|   NULL|    NULL| NULL|    NULL|    NULL|   NULL|      NULL|               NULL|        NULL|               NULL|               NULL|              NULL|         NULL|               NULL|              NULL|               NULL|       NULL|              NULL|         NULL|             NULL|             NULL|               NULL|          NULL|             NULL|          NULL|          NULL|           NULL|           NULL| NULL|          NULL|         NULL|          NULL|     NULL|     NULL|  NULL|   NULL|NULL|NULL|NULL|     NULL|NULL|               0.0|                0|                 0|        0|        0|      0|      0|     0|     0|    0|       0|         0|      0|      0|      0|     0|      0|     0|        0|      0|    0|       0|     0|          0|          0|     0|   1|          0|     0|       0|        0|    0|     0|          0|     0|     0|  0|  0|       1|        1.0|        1.0|    spanish speaking|\n",
      "|   Portugal|https://open.spot...|11281.650000000005|     adan y eva|        Paulo Londra|      single|argentine hip hop|      11427104.0|   False|          Adan y Eva|  2018-11-05|           1|              1|             0.767|0.7090000000000001|  1|   -4.47|   1|      0.336|0.32299999999999995|             0.0|    0.0676|   0.72|171.993|     258639|             4|  hip hop|             740.0|                1.0|           1.0|            0|      0|          0|     1|     0|       0|        0|               0|   0|   0|      1|    0|    0|   0|    0|    0|    0|  0|  0|       0|  0|     0|        0|   0|   0|        NULL|     NULL|      NULL|    NULL|   NULL|NULL| NULL|NULL| NULL|        NULL|   NULL|NULL|NULL|   NULL|    NULL| NULL|    NULL|    NULL|   NULL|      NULL|               NULL|        NULL|               NULL|               NULL|              NULL|         NULL|               NULL|              NULL|               NULL|       NULL|              NULL|         NULL|             NULL|             NULL|               NULL|          NULL|             NULL|          NULL|          NULL|           NULL|           NULL| NULL|          NULL|         NULL|          NULL|     NULL|     NULL|  NULL|   NULL|NULL|NULL|NULL|     NULL|NULL|               0.0|                0|                 0|        0|        0|      0|      0|     0|     0|    0|       0|         0|      0|      0|      0|     0|      0|     0|        0|      0|    0|       0|     0|          0|          0|     0|   0|          0|     0|       1|        0|    0|     0|          0|     0|     0|  0|  0|      60|        0.0|        0.0|southern europe a...|\n",
      "|     Taiwan|https://open.spot...|               8.8|     adan y eva|        Paulo Londra|      single|argentine hip hop|      11427104.0|   False|          Adan y Eva|  2018-11-05|           1|              1|             0.767|0.7090000000000001|  1|   -4.47|   1|      0.336|0.32299999999999995|             0.0|    0.0676|   0.72|171.993|     258639|             4|  hip hop|             740.0|                1.0|           1.0|            0|      0|          0|     1|     0|       0|        0|               0|   0|   0|      1|    0|    0|   0|    0|    0|    0|  0|  0|       0|  0|     0|        0|   0|   0|        NULL|     NULL|      NULL|    NULL|   NULL|NULL| NULL|NULL| NULL|        NULL|   NULL|NULL|NULL|   NULL|    NULL| NULL|    NULL|    NULL|   NULL|      NULL|               NULL|        NULL|               NULL|               NULL|              NULL|         NULL|               NULL|              NULL|               NULL|       NULL|              NULL|         NULL|             NULL|             NULL|               NULL|          NULL|             NULL|          NULL|          NULL|           NULL|           NULL| NULL|          NULL|         NULL|          NULL|     NULL|     NULL|  NULL|   NULL|NULL|NULL|NULL|     NULL|NULL|               0.0|                0|                 0|        0|        0|      0|      0|     0|     0|    0|       0|         0|      0|      0|      0|     0|      0|     0|        0|      0|    0|       0|     0|          0|          0|     0|   0|          0|     0|       0|        0|    0|     0|          0|     1|     0|  0|  0|     190|        0.0|        0.0|english speaking ...|\n",
      "|     Global|https://open.spot...|             418.0|it wont kill ya|The Chainsmokers ...|       album|        dance pop|      16931568.0|   False|Memories...Do Not...|  2017-04-07|           7|             12|0.5720000000000001|              0.53|  6|  -8.521|   0|     0.0654|             0.0647|        0.000169|     0.127|   0.12|170.138|     217613|             4|      pop|            1314.0|                1.0|           1.0|            0|      1|          0|     0|     0|       0|        0|               0|   0|   0|      0|    0|    0|   0|    0|    0|    0|  0|  1|       0|  0|     0|        0|   0|   0|        -1.0|     -1.0|      -1.0|    -1.0|   -2.0|-1.0| -7.0|-3.0|  0.0|         1.0|    0.0| 1.0| 1.0|    2.0|     0.0|  1.0|     4.0|     1.0|  274.0|       0.0|0.00364963503649635|         0.0|0.00364963503649635|0.00364963503649635|0.0072992700729927|          0.0|0.00364963503649635|0.0145985401459854|0.00364963503649635|        0.0| 0.166666666666667|          0.0|0.166666666666667|0.166666666666667|0.33333333333333304|           0.0|0.166666666666667|           0.8|           0.2|            0.0|            0.0| -1.0|           1.0|          0.0|           0.0|   Desire|      0.0|   1.0|    0.0| 0.0| 0.0| 0.0|      0.0| 0.0|               1.0|                0|                 0|        0|        0|      0|      0|     0|     0|    0|       0|         0|      0|      0|      0|     0|      0|     1|        0|      0|    0|       0|     0|          0|          0|     0|   0|          0|     0|       0|        0|    0|     0|          0|     0|     0|  0|  0|      72|        0.0|        0.0|              global|\n",
      "|        USA|https://open.spot...| 581.1999999999998|it wont kill ya|The Chainsmokers ...|       album|        dance pop|      16931568.0|   False|Memories...Do Not...|  2017-04-07|           7|             12|0.5720000000000001|              0.53|  6|  -8.521|   0|     0.0654|             0.0647|        0.000169|     0.127|   0.12|170.138|     217613|             4|      pop|            1314.0|                1.0|           1.0|            0|      1|          0|     0|     0|       0|        0|               0|   0|   0|      0|    0|    0|   0|    0|    0|    0|  0|  1|       0|  0|     0|        0|   0|   0|        -1.0|     -1.0|      -1.0|    -1.0|   -2.0|-1.0| -7.0|-3.0|  0.0|         1.0|    0.0| 1.0| 1.0|    2.0|     0.0|  1.0|     4.0|     1.0|  274.0|       0.0|0.00364963503649635|         0.0|0.00364963503649635|0.00364963503649635|0.0072992700729927|          0.0|0.00364963503649635|0.0145985401459854|0.00364963503649635|        0.0| 0.166666666666667|          0.0|0.166666666666667|0.166666666666667|0.33333333333333304|           0.0|0.166666666666667|           0.8|           0.2|            0.0|            0.0| -1.0|           1.0|          0.0|           0.0|   Desire|      0.0|   1.0|    0.0| 0.0| 0.0| 0.0|      0.0| 0.0|               1.0|                0|                 0|        0|        0|      0|      0|     0|     0|    0|       0|         0|      0|      0|      0|     0|      0|     0|        0|      0|    0|       0|     0|          0|          0|     0|   0|          0|     0|       0|        0|    0|     0|          0|     0|     0|  0|  1|      55|        0.0|        0.0|english speaking ...|\n",
      "|         UK|https://open.spot...|             120.8|it wont kill ya|The Chainsmokers ...|       album|        dance pop|      16931568.0|   False|Memories...Do Not...|  2017-04-07|           7|             12|0.5720000000000001|              0.53|  6|  -8.521|   0|     0.0654|             0.0647|        0.000169|     0.127|   0.12|170.138|     217613|             4|      pop|            1314.0|                1.0|           1.0|            0|      1|          0|     0|     0|       0|        0|               0|   0|   0|      0|    0|    0|   0|    0|    0|    0|  0|  1|       0|  0|     0|        0|   0|   0|        -1.0|     -1.0|      -1.0|    -1.0|   -2.0|-1.0| -7.0|-3.0|  0.0|         1.0|    0.0| 1.0| 1.0|    2.0|     0.0|  1.0|     4.0|     1.0|  274.0|       0.0|0.00364963503649635|         0.0|0.00364963503649635|0.00364963503649635|0.0072992700729927|          0.0|0.00364963503649635|0.0145985401459854|0.00364963503649635|        0.0| 0.166666666666667|          0.0|0.166666666666667|0.166666666666667|0.33333333333333304|           0.0|0.166666666666667|           0.8|           0.2|            0.0|            0.0| -1.0|           1.0|          0.0|           0.0|   Desire|      0.0|   1.0|    0.0| 0.0| 0.0| 0.0|      0.0| 0.0|               1.0|                0|                 0|        0|        0|      0|      0|     0|     0|    0|       0|         0|      0|      0|      0|     0|      0|     0|        0|      0|    0|       0|     0|          0|          0|     0|   0|          0|     0|       0|        0|    0|     0|          0|     0|     0|  1|  0|     109|        0.0|        0.0|english speaking ...|\n",
      "|    Austria|https://open.spot...|             404.0|it wont kill ya|The Chainsmokers ...|       album|        dance pop|      16931568.0|   False|Memories...Do Not...|  2017-04-07|           7|             12|0.5720000000000001|              0.53|  6|  -8.521|   0|     0.0654|             0.0647|        0.000169|     0.127|   0.12|170.138|     217613|             4|      pop|            1314.0|                1.0|           1.0|            0|      1|          0|     0|     0|       0|        0|               0|   0|   0|      0|    0|    0|   0|    0|    0|    0|  0|  1|       0|  0|     0|        0|   0|   0|        -1.0|     -1.0|      -1.0|    -1.0|   -2.0|-1.0| -7.0|-3.0|  0.0|         1.0|    0.0| 1.0| 1.0|    2.0|     0.0|  1.0|     4.0|     1.0|  274.0|       0.0|0.00364963503649635|         0.0|0.00364963503649635|0.00364963503649635|0.0072992700729927|          0.0|0.00364963503649635|0.0145985401459854|0.00364963503649635|        0.0| 0.166666666666667|          0.0|0.166666666666667|0.166666666666667|0.33333333333333304|           0.0|0.166666666666667|           0.8|           0.2|            0.0|            0.0| -1.0|           1.0|          0.0|           0.0|   Desire|      0.0|   1.0|    0.0| 0.0| 0.0| 0.0|      0.0| 0.0|               1.0|                0|                 0|        0|        0|      1|      0|     0|     0|    0|       0|         0|      0|      0|      0|     0|      0|     0|        0|      0|    0|       0|     0|          0|          0|     0|   0|          0|     0|       0|        0|    0|     0|          0|     0|     0|  0|  0|      62|        0.0|        0.0|english speaking ...|\n",
      "+-----------+--------------------+------------------+---------------+--------------------+------------+-----------------+----------------+--------+--------------------+------------+------------+---------------+------------------+------------------+---+--------+----+-----------+-------------------+----------------+----------+-------+-------+-----------+--------------+---------+------------------+-------------------+--------------+-------------+-------+-----------+------+------+--------+---------+----------------+----+----+-------+-----+-----+----+-----+-----+-----+---+---+--------+---+------+---------+----+----+------------+---------+----------+--------+-------+----+-----+----+-----+------------+-------+----+----+-------+--------+-----+--------+--------+-------+----------+-------------------+------------+-------------------+-------------------+------------------+-------------+-------------------+------------------+-------------------+-----------+------------------+-------------+-----------------+-----------------+-------------------+--------------+-----------------+--------------+--------------+---------------+---------------+-----+--------------+-------------+--------------+---------+---------+------+-------+----+----+----+---------+----+------------------+-----------------+------------------+---------+---------+-------+-------+------+------+-----+--------+----------+-------+-------+-------+------+-------+------+---------+-------+-----+--------+------+-----------+-----------+------+----+-----------+------+--------+---------+-----+------+-----------+------+------+---+---+--------+-----------+-----------+--------------------+\n",
      "only showing top 20 rows\n",
      "\n"
     ]
    },
    {
     "name": "stderr",
     "output_type": "stream",
     "text": [
      "24/11/14 15:33:33 WARN CSVHeaderChecker: CSV header does not conform to the schema.\n",
      " Header: Country, Uri, Popularity, Title, Artist, Album/Single, Genre, Artist_followers, Explicit, Album, Release_date, Track_number, Tracks_in_album, danceability, energy, key, loudness, mode, speechiness, acoustics, instrumentalness, liveliness, valence, tempo, duration_ms, time_signature, Genre_new, Days_since_release, Released_after_2017, Explicit_false, Explicit_true, album, compilation, single, bolero, boy band, country, dance/electronic, else, funk, hip hop, house, indie, jazz, k-pop, latin, metal, opm, pop, r&b/soul, rap, reggae, reggaeton, rock, trap, syuzhet_norm, bing_norm, afinn_norm, nrc_norm, syuzhet, bing, afinn, nrc, anger, anticipation, disgust, fear, joy, sadness, surprise, trust, negative, positive, n_words, anger_norm, anticipation_norm, disgust_norm, fear_norm, joy_norm, sadness_norm, surprise_norm, trust_norm, negative_norm, positive_norm, anger_norm2, anticipation_norm2, disgust_norm2, fear_norm2, joy_norm2, sadness_norm2, surprise_norm2, trust_norm2, negative_norm2, positive_norm2, negative_bog_jr, positive_bog_jr, Bayes, Negative_Bayes, Neutral_Bayes, Positive_Bayes, LDA_Topic, Celebrate, Desire, Explore, Fun, Hope, Love, Nostalgia, Thug, bing_norm_negative, bing_norm_neutral, bing_norm_positive, Argentina, Australia, Austria, Belgium, Brazil, Canada, Chile, Colombia, Costa Rica, Denmark, Ecuador, Finland, France, Germany, Global, Indonesia, Ireland, Italy, Malaysia, Mexico, Netherlands, New Zealand, Norway, Peru, Philippines, Poland, Portugal, Singapore, Spain, Sweden, Switzerland, Taiwan, Turkey, UK, USA, Popu_max, Top10_dummy, Top50_dummy, Cluster\n",
      " Schema: Country0, Uri, Popularity, Title, Artist, Album/Single, Genre, Artist_followers, Explicit, Album9, Release_date, Track_number, Tracks_in_album, danceability, energy, key, loudness, mode, speechiness, acoustics, instrumentalness, liveliness, valence, tempo, duration_ms, time_signature, Genre_new, Days_since_release, Released_after_2017, Explicit_false, Explicit_true, album31, compilation, single, bolero, boy band, country36, dance/electronic, else, funk, hip hop, house, indie, jazz, k-pop, latin, metal, opm, pop, r&b/soul, rap, reggae, reggaeton, rock, trap, syuzhet_norm, bing_norm, afinn_norm, nrc_norm, syuzhet, bing, afinn, nrc, anger, anticipation, disgust, fear, joy, sadness, surprise, trust, negative, positive, n_words, anger_norm, anticipation_norm, disgust_norm, fear_norm, joy_norm, sadness_norm, surprise_norm, trust_norm, negative_norm, positive_norm, anger_norm2, anticipation_norm2, disgust_norm2, fear_norm2, joy_norm2, sadness_norm2, surprise_norm2, trust_norm2, negative_norm2, positive_norm2, negative_bog_jr, positive_bog_jr, Bayes, Negative_Bayes, Neutral_Bayes, Positive_Bayes, LDA_Topic, Celebrate, Desire, Explore, Fun, Hope, Love, Nostalgia, Thug, bing_norm_negative, bing_norm_neutral, bing_norm_positive, Argentina, Australia, Austria, Belgium, Brazil, Canada, Chile, Colombia, Costa Rica, Denmark, Ecuador, Finland, France, Germany, Global, Indonesia, Ireland, Italy, Malaysia, Mexico, Netherlands, New Zealand, Norway, Peru, Philippines, Poland, Portugal, Singapore, Spain, Sweden, Switzerland, Taiwan, Turkey, UK, USA, Popu_max, Top10_dummy, Top50_dummy, Cluster\n",
      "Expected: Country0 but found: Country\n",
      "CSV file: file:///Users/nate/Desktop/FALL24%202/ENSF612/Project/Music_Analytics_and_Recommendation/Music_Database.csv\n"
     ]
    }
   ],
   "source": [
    "from pyspark.sql import SparkSession\n",
    "\n",
    "# Initialize a Spark session\n",
    "# Start a new Spark session\n",
    "spark = SparkSession.builder \\\n",
    "    .appName(\"MusicDataAnalysisProject\") \\\n",
    "    .config(\"spark.driver.memory\", \"4g\") \\\n",
    "    .getOrCreate()\n",
    "\n",
    "# Path to your CSV file\n",
    "csv_path = \"../Music_Database.csv\"\n",
    "\n",
    "music_df = spark.read.option(\"header\", \"true\").csv(csv_path, inferSchema=True)\n",
    "music_df = music_df.withColumnRenamed(\"Country\", \"Country0\")\n",
    "\n",
    "# Show the first few rows to verify\n",
    "music_df.show()\n"
   ]
  },
  {
   "cell_type": "markdown",
   "metadata": {},
   "source": [
    "# Data Inspection and Validation"
   ]
  },
  {
   "cell_type": "markdown",
   "metadata": {},
   "source": [
    "Numerical columns are String in the schema, so we'll convert them to numeric types later on (Data Transformation)."
   ]
  },
  {
   "cell_type": "code",
   "execution_count": 52,
   "metadata": {},
   "outputs": [
    {
     "name": "stdout",
     "output_type": "stream",
     "text": [
      "root\n",
      " |-- Country0: string (nullable = true)\n",
      " |-- Uri: string (nullable = true)\n",
      " |-- Popularity: double (nullable = true)\n",
      " |-- Title: string (nullable = true)\n",
      " |-- Artist: string (nullable = true)\n",
      " |-- Album/Single: string (nullable = true)\n",
      " |-- Genre: string (nullable = true)\n",
      " |-- Artist_followers: string (nullable = true)\n",
      " |-- Explicit: string (nullable = true)\n",
      " |-- Album9: string (nullable = true)\n",
      " |-- Release_date: string (nullable = true)\n",
      " |-- Track_number: string (nullable = true)\n",
      " |-- Tracks_in_album: string (nullable = true)\n",
      " |-- danceability: string (nullable = true)\n",
      " |-- energy: string (nullable = true)\n",
      " |-- key: string (nullable = true)\n",
      " |-- loudness: string (nullable = true)\n",
      " |-- mode: string (nullable = true)\n",
      " |-- speechiness: string (nullable = true)\n",
      " |-- acoustics: string (nullable = true)\n",
      " |-- instrumentalness: string (nullable = true)\n",
      " |-- liveliness: string (nullable = true)\n",
      " |-- valence: string (nullable = true)\n",
      " |-- tempo: string (nullable = true)\n",
      " |-- duration_ms: string (nullable = true)\n",
      " |-- time_signature: string (nullable = true)\n",
      " |-- Genre_new: string (nullable = true)\n",
      " |-- Days_since_release: string (nullable = true)\n",
      " |-- Released_after_2017: double (nullable = true)\n",
      " |-- Explicit_false: double (nullable = true)\n",
      " |-- Explicit_true: integer (nullable = true)\n",
      " |-- album31: integer (nullable = true)\n",
      " |-- compilation: integer (nullable = true)\n",
      " |-- single: integer (nullable = true)\n",
      " |-- bolero: integer (nullable = true)\n",
      " |-- boy band: integer (nullable = true)\n",
      " |-- country36: integer (nullable = true)\n",
      " |-- dance/electronic: integer (nullable = true)\n",
      " |-- else: integer (nullable = true)\n",
      " |-- funk: integer (nullable = true)\n",
      " |-- hip hop: integer (nullable = true)\n",
      " |-- house: integer (nullable = true)\n",
      " |-- indie: integer (nullable = true)\n",
      " |-- jazz: integer (nullable = true)\n",
      " |-- k-pop: integer (nullable = true)\n",
      " |-- latin: integer (nullable = true)\n",
      " |-- metal: integer (nullable = true)\n",
      " |-- opm: integer (nullable = true)\n",
      " |-- pop: integer (nullable = true)\n",
      " |-- r&b/soul: integer (nullable = true)\n",
      " |-- rap: integer (nullable = true)\n",
      " |-- reggae: integer (nullable = true)\n",
      " |-- reggaeton: integer (nullable = true)\n",
      " |-- rock: integer (nullable = true)\n",
      " |-- trap: integer (nullable = true)\n",
      " |-- syuzhet_norm: double (nullable = true)\n",
      " |-- bing_norm: double (nullable = true)\n",
      " |-- afinn_norm: double (nullable = true)\n",
      " |-- nrc_norm: double (nullable = true)\n",
      " |-- syuzhet: double (nullable = true)\n",
      " |-- bing: double (nullable = true)\n",
      " |-- afinn: double (nullable = true)\n",
      " |-- nrc: double (nullable = true)\n",
      " |-- anger: double (nullable = true)\n",
      " |-- anticipation: double (nullable = true)\n",
      " |-- disgust: double (nullable = true)\n",
      " |-- fear: double (nullable = true)\n",
      " |-- joy: double (nullable = true)\n",
      " |-- sadness: double (nullable = true)\n",
      " |-- surprise: double (nullable = true)\n",
      " |-- trust: double (nullable = true)\n",
      " |-- negative: double (nullable = true)\n",
      " |-- positive: double (nullable = true)\n",
      " |-- n_words: double (nullable = true)\n",
      " |-- anger_norm: double (nullable = true)\n",
      " |-- anticipation_norm: double (nullable = true)\n",
      " |-- disgust_norm: double (nullable = true)\n",
      " |-- fear_norm: double (nullable = true)\n",
      " |-- joy_norm: double (nullable = true)\n",
      " |-- sadness_norm: double (nullable = true)\n",
      " |-- surprise_norm: double (nullable = true)\n",
      " |-- trust_norm: double (nullable = true)\n",
      " |-- negative_norm: double (nullable = true)\n",
      " |-- positive_norm: double (nullable = true)\n",
      " |-- anger_norm2: double (nullable = true)\n",
      " |-- anticipation_norm2: double (nullable = true)\n",
      " |-- disgust_norm2: double (nullable = true)\n",
      " |-- fear_norm2: double (nullable = true)\n",
      " |-- joy_norm2: double (nullable = true)\n",
      " |-- sadness_norm2: double (nullable = true)\n",
      " |-- surprise_norm2: double (nullable = true)\n",
      " |-- trust_norm2: double (nullable = true)\n",
      " |-- negative_norm2: double (nullable = true)\n",
      " |-- positive_norm2: double (nullable = true)\n",
      " |-- negative_bog_jr: double (nullable = true)\n",
      " |-- positive_bog_jr: double (nullable = true)\n",
      " |-- Bayes: double (nullable = true)\n",
      " |-- Negative_Bayes: double (nullable = true)\n",
      " |-- Neutral_Bayes: double (nullable = true)\n",
      " |-- Positive_Bayes: double (nullable = true)\n",
      " |-- LDA_Topic: string (nullable = true)\n",
      " |-- Celebrate: string (nullable = true)\n",
      " |-- Desire: double (nullable = true)\n",
      " |-- Explore: double (nullable = true)\n",
      " |-- Fun: double (nullable = true)\n",
      " |-- Hope: double (nullable = true)\n",
      " |-- Love: double (nullable = true)\n",
      " |-- Nostalgia: double (nullable = true)\n",
      " |-- Thug: double (nullable = true)\n",
      " |-- bing_norm_negative: double (nullable = true)\n",
      " |-- bing_norm_neutral: integer (nullable = true)\n",
      " |-- bing_norm_positive: integer (nullable = true)\n",
      " |-- Argentina: integer (nullable = true)\n",
      " |-- Australia: integer (nullable = true)\n",
      " |-- Austria: integer (nullable = true)\n",
      " |-- Belgium: integer (nullable = true)\n",
      " |-- Brazil: integer (nullable = true)\n",
      " |-- Canada: integer (nullable = true)\n",
      " |-- Chile: integer (nullable = true)\n",
      " |-- Colombia: integer (nullable = true)\n",
      " |-- Costa Rica: integer (nullable = true)\n",
      " |-- Denmark: integer (nullable = true)\n",
      " |-- Ecuador: integer (nullable = true)\n",
      " |-- Finland: integer (nullable = true)\n",
      " |-- France: integer (nullable = true)\n",
      " |-- Germany: integer (nullable = true)\n",
      " |-- Global: integer (nullable = true)\n",
      " |-- Indonesia: integer (nullable = true)\n",
      " |-- Ireland: integer (nullable = true)\n",
      " |-- Italy: integer (nullable = true)\n",
      " |-- Malaysia: integer (nullable = true)\n",
      " |-- Mexico: integer (nullable = true)\n",
      " |-- Netherlands: integer (nullable = true)\n",
      " |-- New Zealand: integer (nullable = true)\n",
      " |-- Norway: integer (nullable = true)\n",
      " |-- Peru: integer (nullable = true)\n",
      " |-- Philippines: integer (nullable = true)\n",
      " |-- Poland: integer (nullable = true)\n",
      " |-- Portugal: integer (nullable = true)\n",
      " |-- Singapore: integer (nullable = true)\n",
      " |-- Spain: integer (nullable = true)\n",
      " |-- Sweden: integer (nullable = true)\n",
      " |-- Switzerland: integer (nullable = true)\n",
      " |-- Taiwan: integer (nullable = true)\n",
      " |-- Turkey: integer (nullable = true)\n",
      " |-- UK: integer (nullable = true)\n",
      " |-- USA: integer (nullable = true)\n",
      " |-- Popu_max: integer (nullable = true)\n",
      " |-- Top10_dummy: double (nullable = true)\n",
      " |-- Top50_dummy: double (nullable = true)\n",
      " |-- Cluster: string (nullable = true)\n",
      "\n"
     ]
    }
   ],
   "source": [
    "# Print the schema of the DataFrame\n",
    "music_df.printSchema()"
   ]
  },
  {
   "cell_type": "markdown",
   "metadata": {},
   "source": [
    "Check for null and duplicates in the dataset. Also, check the distribution of popularity scores because later we will categoprize the data by low, medium, and high popularity levels."
   ]
  },
  {
   "cell_type": "code",
   "execution_count": 53,
   "metadata": {},
   "outputs": [
    {
     "name": "stderr",
     "output_type": "stream",
     "text": [
      "24/11/14 15:33:34 WARN CSVHeaderChecker: CSV header does not conform to the schema.\n",
      " Header: Country, Uri, Popularity, Title, Artist, Album/Single, Genre, Artist_followers, Explicit, Album, Release_date, Track_number, Tracks_in_album, danceability, energy, key, loudness, mode, speechiness, acoustics, instrumentalness, liveliness, valence, tempo, duration_ms, time_signature, Genre_new, Days_since_release, Released_after_2017, Explicit_false, Explicit_true, album, compilation, single, bolero, boy band, country, dance/electronic, else, funk, hip hop, house, indie, jazz, k-pop, latin, metal, opm, pop, r&b/soul, rap, reggae, reggaeton, rock, trap, syuzhet_norm, bing_norm, afinn_norm, nrc_norm, syuzhet, bing, afinn, nrc, anger, anticipation, disgust, fear, joy, sadness, surprise, trust, negative, positive, n_words, anger_norm, anticipation_norm, disgust_norm, fear_norm, joy_norm, sadness_norm, surprise_norm, trust_norm, negative_norm, positive_norm, anger_norm2, anticipation_norm2, disgust_norm2, fear_norm2, joy_norm2, sadness_norm2, surprise_norm2, trust_norm2, negative_norm2, positive_norm2, negative_bog_jr, positive_bog_jr, Bayes, Negative_Bayes, Neutral_Bayes, Positive_Bayes, LDA_Topic, Celebrate, Desire, Explore, Fun, Hope, Love, Nostalgia, Thug, bing_norm_negative, bing_norm_neutral, bing_norm_positive, Argentina, Australia, Austria, Belgium, Brazil, Canada, Chile, Colombia, Costa Rica, Denmark, Ecuador, Finland, France, Germany, Global, Indonesia, Ireland, Italy, Malaysia, Mexico, Netherlands, New Zealand, Norway, Peru, Philippines, Poland, Portugal, Singapore, Spain, Sweden, Switzerland, Taiwan, Turkey, UK, USA, Popu_max, Top10_dummy, Top50_dummy, Cluster\n",
      " Schema: Country0, Uri, Popularity, Title, Artist, Album/Single, Genre, Artist_followers, Explicit, Album9, Release_date, Track_number, Tracks_in_album, danceability, energy, key, loudness, mode, speechiness, acoustics, instrumentalness, liveliness, valence, tempo, duration_ms, time_signature, Genre_new, Days_since_release, Released_after_2017, Explicit_false, Explicit_true, album31, compilation, single, bolero, boy band, country36, dance/electronic, else, funk, hip hop, house, indie, jazz, k-pop, latin, metal, opm, pop, r&b/soul, rap, reggae, reggaeton, rock, trap, syuzhet_norm, bing_norm, afinn_norm, nrc_norm, syuzhet, bing, afinn, nrc, anger, anticipation, disgust, fear, joy, sadness, surprise, trust, negative, positive, n_words, anger_norm, anticipation_norm, disgust_norm, fear_norm, joy_norm, sadness_norm, surprise_norm, trust_norm, negative_norm, positive_norm, anger_norm2, anticipation_norm2, disgust_norm2, fear_norm2, joy_norm2, sadness_norm2, surprise_norm2, trust_norm2, negative_norm2, positive_norm2, negative_bog_jr, positive_bog_jr, Bayes, Negative_Bayes, Neutral_Bayes, Positive_Bayes, LDA_Topic, Celebrate, Desire, Explore, Fun, Hope, Love, Nostalgia, Thug, bing_norm_negative, bing_norm_neutral, bing_norm_positive, Argentina, Australia, Austria, Belgium, Brazil, Canada, Chile, Colombia, Costa Rica, Denmark, Ecuador, Finland, France, Germany, Global, Indonesia, Ireland, Italy, Malaysia, Mexico, Netherlands, New Zealand, Norway, Peru, Philippines, Poland, Portugal, Singapore, Spain, Sweden, Switzerland, Taiwan, Turkey, UK, USA, Popu_max, Top10_dummy, Top50_dummy, Cluster\n",
      "Expected: Country0 but found: Country\n",
      "CSV file: file:///Users/nate/Desktop/FALL24%202/ENSF612/Project/Music_Analytics_and_Recommendation/Music_Database.csv\n",
      "                                                                                \r"
     ]
    },
    {
     "name": "stdout",
     "output_type": "stream",
     "text": [
      "+--------+---+----------+-----+------+------------+-----+----------------+--------+------+------------+------------+---------------+------------+------+---+--------+----+-----------+---------+----------------+----------+-------+-----+-----------+--------------+---------+------------------+-------------------+--------------+-------------+-------+-----------+------+------+--------+---------+----------------+----+----+-------+-----+-----+----+-----+-----+-----+---+---+--------+---+------+---------+----+----+------------+---------+----------+--------+-------+-----+-----+-----+-----+------------+-------+-----+-----+-------+--------+-----+--------+--------+-------+----------+-----------------+------------+---------+--------+------------+-------------+----------+-------------+-------------+-----------+------------------+-------------+----------+---------+-------------+--------------+-----------+--------------+--------------+---------------+---------------+-----+--------------+-------------+--------------+---------+---------+------+-------+-----+-----+-----+---------+-----+------------------+-----------------+------------------+---------+---------+-------+-------+------+------+-----+--------+----------+-------+-------+-------+------+-------+------+---------+-------+-----+--------+------+-----------+-----------+------+----+-----------+------+--------+---------+-----+------+-----------+------+------+---+---+--------+-----------+-----------+-------+\n",
      "|Country0|Uri|Popularity|Title|Artist|Album/Single|Genre|Artist_followers|Explicit|Album9|Release_date|Track_number|Tracks_in_album|danceability|energy|key|loudness|mode|speechiness|acoustics|instrumentalness|liveliness|valence|tempo|duration_ms|time_signature|Genre_new|Days_since_release|Released_after_2017|Explicit_false|Explicit_true|album31|compilation|single|bolero|boy band|country36|dance/electronic|else|funk|hip hop|house|indie|jazz|k-pop|latin|metal|opm|pop|r&b/soul|rap|reggae|reggaeton|rock|trap|syuzhet_norm|bing_norm|afinn_norm|nrc_norm|syuzhet| bing|afinn|  nrc|anger|anticipation|disgust| fear|  joy|sadness|surprise|trust|negative|positive|n_words|anger_norm|anticipation_norm|disgust_norm|fear_norm|joy_norm|sadness_norm|surprise_norm|trust_norm|negative_norm|positive_norm|anger_norm2|anticipation_norm2|disgust_norm2|fear_norm2|joy_norm2|sadness_norm2|surprise_norm2|trust_norm2|negative_norm2|positive_norm2|negative_bog_jr|positive_bog_jr|Bayes|Negative_Bayes|Neutral_Bayes|Positive_Bayes|LDA_Topic|Celebrate|Desire|Explore|  Fun| Hope| Love|Nostalgia| Thug|bing_norm_negative|bing_norm_neutral|bing_norm_positive|Argentina|Australia|Austria|Belgium|Brazil|Canada|Chile|Colombia|Costa Rica|Denmark|Ecuador|Finland|France|Germany|Global|Indonesia|Ireland|Italy|Malaysia|Mexico|Netherlands|New Zealand|Norway|Peru|Philippines|Poland|Portugal|Singapore|Spain|Sweden|Switzerland|Taiwan|Turkey| UK|USA|Popu_max|Top10_dummy|Top50_dummy|Cluster|\n",
      "+--------+---+----------+-----+------+------------+-----+----------------+--------+------+------------+------------+---------------+------------+------+---+--------+----+-----------+---------+----------------+----------+-------+-----+-----------+--------------+---------+------------------+-------------------+--------------+-------------+-------+-----------+------+------+--------+---------+----------------+----+----+-------+-----+-----+----+-----+-----+-----+---+---+--------+---+------+---------+----+----+------------+---------+----------+--------+-------+-----+-----+-----+-----+------------+-------+-----+-----+-------+--------+-----+--------+--------+-------+----------+-----------------+------------+---------+--------+------------+-------------+----------+-------------+-------------+-----------+------------------+-------------+----------+---------+-------------+--------------+-----------+--------------+--------------+---------------+---------------+-----+--------------+-------------+--------------+---------+---------+------+-------+-----+-----+-----+---------+-----+------------------+-----------------+------------------+---------+---------+-------+-------+------+------+-----+--------+----------+-------+-------+-------+------+-------+------+---------+-------+-----+--------+------+-----------+-----------+------+----+-----------+------+--------+---------+-----+------+-----------+------+------+---+---+--------+-----------+-----------+-------+\n",
      "|       0|  0|         0|    0|     0|           0|    0|              41|       0|     0|           0|           0|              0|           0|     0|  0|       0|   0|          0|        0|               0|         0|      0|    0|          0|             0|        0|              3222|               3222|             0|            0|      0|          0|     0|     0|       0|        0|               0|   0|   0|      0|    0|    0|   0|    0|    0|    0|  0|  0|       0|  0|     0|        0|   0|   0|       98759|    98767|     98767|   98767|  98767|98767|98767|98767|98767|       98767|  98767|98767|98767|  98767|   98767|98767|   98767|   98767|  98767|     98767|            98767|       98767|    98767|   98767|       98767|        98767|     98767|        98767|        98767|      99241|             99241|        99241|     99241|    99241|        99241|         99241|      99241|         99184|         99184|          98767|          98767|98767|         98767|        98767|         98767|    98767|    98767| 98767|  98767|98767|98767|98767|    98767|98767|                 8|                0|                 0|        0|        0|      0|      0|     0|     0|    0|       0|         0|      0|      0|      0|     0|      0|     0|        0|      0|    0|       0|     0|          0|          0|     0|   0|          0|     0|       0|        0|    0|     0|          0|     0|     0|  0|  0|       0|          0|          0|      0|\n",
      "+--------+---+----------+-----+------+------------+-----+----------------+--------+------+------------+------------+---------------+------------+------+---+--------+----+-----------+---------+----------------+----------+-------+-----+-----------+--------------+---------+------------------+-------------------+--------------+-------------+-------+-----------+------+------+--------+---------+----------------+----+----+-------+-----+-----+----+-----+-----+-----+---+---+--------+---+------+---------+----+----+------------+---------+----------+--------+-------+-----+-----+-----+-----+------------+-------+-----+-----+-------+--------+-----+--------+--------+-------+----------+-----------------+------------+---------+--------+------------+-------------+----------+-------------+-------------+-----------+------------------+-------------+----------+---------+-------------+--------------+-----------+--------------+--------------+---------------+---------------+-----+--------------+-------------+--------------+---------+---------+------+-------+-----+-----+-----+---------+-----+------------------+-----------------+------------------+---------+---------+-------+-------+------+------+-----+--------+----------+-------+-------+-------+------+-------+------+---------+-------+-----+--------+------+-----------+-----------+------+----+-----------+------+--------+---------+-----+------+-----------+------+------+---+---+--------+-----------+-----------+-------+\n",
      "\n"
     ]
    },
    {
     "name": "stderr",
     "output_type": "stream",
     "text": [
      "24/11/14 15:33:37 WARN CSVHeaderChecker: CSV header does not conform to the schema.\n",
      " Header: Country, Uri, Popularity, Title, Artist, Album/Single, Genre, Artist_followers, Explicit, Album, Release_date, Track_number, Tracks_in_album, danceability, energy, key, loudness, mode, speechiness, acoustics, instrumentalness, liveliness, valence, tempo, duration_ms, time_signature, Genre_new, Days_since_release, Released_after_2017, Explicit_false, Explicit_true, album, compilation, single, bolero, boy band, country, dance/electronic, else, funk, hip hop, house, indie, jazz, k-pop, latin, metal, opm, pop, r&b/soul, rap, reggae, reggaeton, rock, trap, syuzhet_norm, bing_norm, afinn_norm, nrc_norm, syuzhet, bing, afinn, nrc, anger, anticipation, disgust, fear, joy, sadness, surprise, trust, negative, positive, n_words, anger_norm, anticipation_norm, disgust_norm, fear_norm, joy_norm, sadness_norm, surprise_norm, trust_norm, negative_norm, positive_norm, anger_norm2, anticipation_norm2, disgust_norm2, fear_norm2, joy_norm2, sadness_norm2, surprise_norm2, trust_norm2, negative_norm2, positive_norm2, negative_bog_jr, positive_bog_jr, Bayes, Negative_Bayes, Neutral_Bayes, Positive_Bayes, LDA_Topic, Celebrate, Desire, Explore, Fun, Hope, Love, Nostalgia, Thug, bing_norm_negative, bing_norm_neutral, bing_norm_positive, Argentina, Australia, Austria, Belgium, Brazil, Canada, Chile, Colombia, Costa Rica, Denmark, Ecuador, Finland, France, Germany, Global, Indonesia, Ireland, Italy, Malaysia, Mexico, Netherlands, New Zealand, Norway, Peru, Philippines, Poland, Portugal, Singapore, Spain, Sweden, Switzerland, Taiwan, Turkey, UK, USA, Popu_max, Top10_dummy, Top50_dummy, Cluster\n",
      " Schema: Country0, Uri, Popularity, Title, Artist, Album/Single, Genre, Artist_followers, Explicit, Album9, Release_date, Track_number, Tracks_in_album, danceability, energy, key, loudness, mode, speechiness, acoustics, instrumentalness, liveliness, valence, tempo, duration_ms, time_signature, Genre_new, Days_since_release, Released_after_2017, Explicit_false, Explicit_true, album31, compilation, single, bolero, boy band, country36, dance/electronic, else, funk, hip hop, house, indie, jazz, k-pop, latin, metal, opm, pop, r&b/soul, rap, reggae, reggaeton, rock, trap, syuzhet_norm, bing_norm, afinn_norm, nrc_norm, syuzhet, bing, afinn, nrc, anger, anticipation, disgust, fear, joy, sadness, surprise, trust, negative, positive, n_words, anger_norm, anticipation_norm, disgust_norm, fear_norm, joy_norm, sadness_norm, surprise_norm, trust_norm, negative_norm, positive_norm, anger_norm2, anticipation_norm2, disgust_norm2, fear_norm2, joy_norm2, sadness_norm2, surprise_norm2, trust_norm2, negative_norm2, positive_norm2, negative_bog_jr, positive_bog_jr, Bayes, Negative_Bayes, Neutral_Bayes, Positive_Bayes, LDA_Topic, Celebrate, Desire, Explore, Fun, Hope, Love, Nostalgia, Thug, bing_norm_negative, bing_norm_neutral, bing_norm_positive, Argentina, Australia, Austria, Belgium, Brazil, Canada, Chile, Colombia, Costa Rica, Denmark, Ecuador, Finland, France, Germany, Global, Indonesia, Ireland, Italy, Malaysia, Mexico, Netherlands, New Zealand, Norway, Peru, Philippines, Poland, Portugal, Singapore, Spain, Sweden, Switzerland, Taiwan, Turkey, UK, USA, Popu_max, Top10_dummy, Top50_dummy, Cluster\n",
      "Expected: Country0 but found: Country\n",
      "CSV file: file:///Users/nate/Desktop/FALL24%202/ENSF612/Project/Music_Analytics_and_Recommendation/Music_Database.csv\n",
      "                                                                                \r"
     ]
    },
    {
     "name": "stdout",
     "output_type": "stream",
     "text": [
      "Number of duplicate rows: 0\n",
      "+-------+------------------+\n",
      "|summary|        Popularity|\n",
      "+-------+------------------+\n",
      "|  count|            170633|\n",
      "|   mean| 5417.616264145855|\n",
      "| stddev|13115.854525897726|\n",
      "|    min|               0.8|\n",
      "|    max|233766.89999999988|\n",
      "+-------+------------------+\n",
      "\n"
     ]
    },
    {
     "name": "stderr",
     "output_type": "stream",
     "text": [
      "                                                                                \r"
     ]
    }
   ],
   "source": [
    "from pyspark.sql.functions import col, sum, count, when\n",
    "# Count null values in each column\n",
    "null_counts = music_df.select([count(when(col(c).isNull(), c)).alias(c) for c in music_df.columns])\n",
    "null_counts.show()\n",
    "\n",
    "# Check for duplicates\n",
    "duplicate_count = music_df.count() - music_df.dropDuplicates().count()\n",
    "print(f\"Number of duplicate rows: {duplicate_count}\")\n",
    "\n",
    "# Check popularity range for validity (e.g., ensure no extreme outliers)\n",
    "music_df.select(\"Popularity\").describe().show()\n"
   ]
  },
  {
   "cell_type": "markdown",
   "metadata": {},
   "source": [
    "# Data Filtering"
   ]
  },
  {
   "cell_type": "code",
   "execution_count": 54,
   "metadata": {},
   "outputs": [
    {
     "name": "stderr",
     "output_type": "stream",
     "text": [
      "24/11/14 15:33:43 WARN CSVHeaderChecker: CSV header does not conform to the schema.\n",
      " Header: Country\n",
      " Schema: Country0\n",
      "Expected: Country0 but found: Country\n",
      "CSV file: file:///Users/nate/Desktop/FALL24%202/ENSF612/Project/Music_Analytics_and_Recommendation/Music_Database.csv\n"
     ]
    },
    {
     "name": "stdout",
     "output_type": "stream",
     "text": [
      "Number of rows: 15113\n"
     ]
    },
    {
     "name": "stderr",
     "output_type": "stream",
     "text": [
      "                                                                                \r"
     ]
    }
   ],
   "source": [
    "# Further refine by North America\n",
    "filtered_df = music_df.filter((music_df.Country0 == \"USA\") | (music_df.Country0 == \"Canada\") | (music_df.Country0 == \"Mexico\"))\n",
    "\n",
    "print(f\"Number of rows: {filtered_df.count()}\")\n"
   ]
  },
  {
   "cell_type": "markdown",
   "metadata": {},
   "source": [
    "# Data Transformation"
   ]
  },
  {
   "cell_type": "code",
   "execution_count": 55,
   "metadata": {},
   "outputs": [
    {
     "name": "stdout",
     "output_type": "stream",
     "text": [
      "root\n",
      " |-- Country0: string (nullable = true)\n",
      " |-- Uri: string (nullable = true)\n",
      " |-- Popularity: double (nullable = true)\n",
      " |-- Title: string (nullable = true)\n",
      " |-- Artist: string (nullable = true)\n",
      " |-- Album/Single: string (nullable = true)\n",
      " |-- Genre: string (nullable = true)\n",
      " |-- Artist_followers: string (nullable = true)\n",
      " |-- Explicit: string (nullable = true)\n",
      " |-- Album9: string (nullable = true)\n",
      " |-- Release_date: string (nullable = true)\n",
      " |-- Track_number: string (nullable = true)\n",
      " |-- Tracks_in_album: string (nullable = true)\n",
      " |-- danceability: string (nullable = true)\n",
      " |-- energy: string (nullable = true)\n",
      " |-- key: string (nullable = true)\n",
      " |-- loudness: string (nullable = true)\n",
      " |-- mode: string (nullable = true)\n",
      " |-- speechiness: string (nullable = true)\n",
      " |-- acoustics: string (nullable = true)\n",
      " |-- instrumentalness: string (nullable = true)\n",
      " |-- liveliness: string (nullable = true)\n",
      " |-- valence: string (nullable = true)\n",
      " |-- tempo: string (nullable = true)\n",
      " |-- duration_ms: string (nullable = true)\n",
      " |-- time_signature: string (nullable = true)\n",
      " |-- Genre_new: string (nullable = true)\n",
      " |-- Days_since_release: string (nullable = true)\n",
      " |-- Released_after_2017: double (nullable = true)\n",
      " |-- Explicit_false: double (nullable = true)\n",
      " |-- Explicit_true: integer (nullable = true)\n",
      " |-- album31: integer (nullable = true)\n",
      " |-- compilation: integer (nullable = true)\n",
      " |-- single: integer (nullable = true)\n",
      " |-- bolero: integer (nullable = true)\n",
      " |-- boy band: integer (nullable = true)\n",
      " |-- country36: integer (nullable = true)\n",
      " |-- dance/electronic: integer (nullable = true)\n",
      " |-- else: integer (nullable = true)\n",
      " |-- funk: integer (nullable = true)\n",
      " |-- hip hop: integer (nullable = true)\n",
      " |-- house: integer (nullable = true)\n",
      " |-- indie: integer (nullable = true)\n",
      " |-- jazz: integer (nullable = true)\n",
      " |-- k-pop: integer (nullable = true)\n",
      " |-- latin: integer (nullable = true)\n",
      " |-- metal: integer (nullable = true)\n",
      " |-- opm: integer (nullable = true)\n",
      " |-- pop: integer (nullable = true)\n",
      " |-- r&b/soul: integer (nullable = true)\n",
      " |-- rap: integer (nullable = true)\n",
      " |-- reggae: integer (nullable = true)\n",
      " |-- reggaeton: integer (nullable = true)\n",
      " |-- rock: integer (nullable = true)\n",
      " |-- trap: integer (nullable = true)\n",
      " |-- syuzhet_norm: double (nullable = true)\n",
      " |-- bing_norm: double (nullable = true)\n",
      " |-- afinn_norm: double (nullable = true)\n",
      " |-- nrc_norm: double (nullable = true)\n",
      " |-- syuzhet: double (nullable = true)\n",
      " |-- bing: double (nullable = true)\n",
      " |-- afinn: double (nullable = true)\n",
      " |-- nrc: double (nullable = true)\n",
      " |-- anger: double (nullable = true)\n",
      " |-- anticipation: double (nullable = true)\n",
      " |-- disgust: double (nullable = true)\n",
      " |-- fear: double (nullable = true)\n",
      " |-- joy: double (nullable = true)\n",
      " |-- sadness: double (nullable = true)\n",
      " |-- surprise: double (nullable = true)\n",
      " |-- trust: double (nullable = true)\n",
      " |-- negative: double (nullable = true)\n",
      " |-- positive: double (nullable = true)\n",
      " |-- n_words: double (nullable = true)\n",
      " |-- anger_norm: double (nullable = true)\n",
      " |-- anticipation_norm: double (nullable = true)\n",
      " |-- disgust_norm: double (nullable = true)\n",
      " |-- fear_norm: double (nullable = true)\n",
      " |-- joy_norm: double (nullable = true)\n",
      " |-- sadness_norm: double (nullable = true)\n",
      " |-- surprise_norm: double (nullable = true)\n",
      " |-- trust_norm: double (nullable = true)\n",
      " |-- negative_norm: double (nullable = true)\n",
      " |-- positive_norm: double (nullable = true)\n",
      " |-- anger_norm2: double (nullable = true)\n",
      " |-- anticipation_norm2: double (nullable = true)\n",
      " |-- disgust_norm2: double (nullable = true)\n",
      " |-- fear_norm2: double (nullable = true)\n",
      " |-- joy_norm2: double (nullable = true)\n",
      " |-- sadness_norm2: double (nullable = true)\n",
      " |-- surprise_norm2: double (nullable = true)\n",
      " |-- trust_norm2: double (nullable = true)\n",
      " |-- negative_norm2: double (nullable = true)\n",
      " |-- positive_norm2: double (nullable = true)\n",
      " |-- negative_bog_jr: double (nullable = true)\n",
      " |-- positive_bog_jr: double (nullable = true)\n",
      " |-- Bayes: double (nullable = true)\n",
      " |-- Negative_Bayes: double (nullable = true)\n",
      " |-- Neutral_Bayes: double (nullable = true)\n",
      " |-- Positive_Bayes: double (nullable = true)\n",
      " |-- LDA_Topic: string (nullable = true)\n",
      " |-- Celebrate: string (nullable = true)\n",
      " |-- Desire: double (nullable = true)\n",
      " |-- Explore: double (nullable = true)\n",
      " |-- Fun: double (nullable = true)\n",
      " |-- Hope: double (nullable = true)\n",
      " |-- Love: double (nullable = true)\n",
      " |-- Nostalgia: double (nullable = true)\n",
      " |-- Thug: double (nullable = true)\n",
      " |-- bing_norm_negative: double (nullable = true)\n",
      " |-- bing_norm_neutral: integer (nullable = true)\n",
      " |-- bing_norm_positive: integer (nullable = true)\n",
      " |-- Argentina: integer (nullable = true)\n",
      " |-- Australia: integer (nullable = true)\n",
      " |-- Austria: integer (nullable = true)\n",
      " |-- Belgium: integer (nullable = true)\n",
      " |-- Brazil: integer (nullable = true)\n",
      " |-- Canada: integer (nullable = true)\n",
      " |-- Chile: integer (nullable = true)\n",
      " |-- Colombia: integer (nullable = true)\n",
      " |-- Costa Rica: integer (nullable = true)\n",
      " |-- Denmark: integer (nullable = true)\n",
      " |-- Ecuador: integer (nullable = true)\n",
      " |-- Finland: integer (nullable = true)\n",
      " |-- France: integer (nullable = true)\n",
      " |-- Germany: integer (nullable = true)\n",
      " |-- Global: integer (nullable = true)\n",
      " |-- Indonesia: integer (nullable = true)\n",
      " |-- Ireland: integer (nullable = true)\n",
      " |-- Italy: integer (nullable = true)\n",
      " |-- Malaysia: integer (nullable = true)\n",
      " |-- Mexico: integer (nullable = true)\n",
      " |-- Netherlands: integer (nullable = true)\n",
      " |-- New Zealand: integer (nullable = true)\n",
      " |-- Norway: integer (nullable = true)\n",
      " |-- Peru: integer (nullable = true)\n",
      " |-- Philippines: integer (nullable = true)\n",
      " |-- Poland: integer (nullable = true)\n",
      " |-- Portugal: integer (nullable = true)\n",
      " |-- Singapore: integer (nullable = true)\n",
      " |-- Spain: integer (nullable = true)\n",
      " |-- Sweden: integer (nullable = true)\n",
      " |-- Switzerland: integer (nullable = true)\n",
      " |-- Taiwan: integer (nullable = true)\n",
      " |-- Turkey: integer (nullable = true)\n",
      " |-- UK: integer (nullable = true)\n",
      " |-- USA: integer (nullable = true)\n",
      " |-- Popu_max: integer (nullable = true)\n",
      " |-- Top10_dummy: double (nullable = true)\n",
      " |-- Top50_dummy: double (nullable = true)\n",
      " |-- Cluster: string (nullable = true)\n",
      "\n"
     ]
    }
   ],
   "source": [
    "from pyspark.sql.functions import col\n",
    "\n",
    "# List of columns to cast to integer or double as appropriate\n",
    "int_columns = [\"Track_number\", \"Tracks_in_album\", \"time_signature\", \"Argentina\", \"Australia\", \"Austria\", \n",
    "               \"Belgium\", \"Brazil\", \"Canada\", \"Chile\", \"Colombia\", \"Costa Rica\", \"Denmark\", \"Ecuador\", \n",
    "               \"Finland\", \"France\", \"Germany\", \"Global\", \"Indonesia\", \"Ireland\", \"Italy\", \"Malaysia\", \n",
    "               \"Mexico\", \"Netherlands\", \"New Zealand\", \"Norway\", \"Peru\", \"Philippines\", \"Poland\", \n",
    "               \"Portugal\", \"Singapore\", \"Spain\", \"Sweden\", \"Switzerland\", \"Taiwan\", \"Turkey\", \"UK\", \"USA\"]\n",
    "\n",
    "double_columns = [\"Popularity\", \"Artist_followers\", \"danceability\", \"energy\", \"key\", \"loudness\", \n",
    "                  \"mode\", \"speechiness\", \"acoustics\", \"instrumentalness\", \"liveliness\", \"valence\", \n",
    "                  \"tempo\", \"duration_ms\", \"Days_since_release\", \"syuzhet_norm\", \"bing_norm\", \"afinn_norm\", \n",
    "                  \"nrc_norm\", \"syuzhet\", \"bing\", \"afinn\", \"nrc\", \"anger\", \"anticipation\", \"disgust\", \"fear\", \n",
    "                  \"joy\", \"sadness\", \"surprise\", \"trust\", \"negative\", \"positive\", \"n_words\", \"anger_norm\", \n",
    "                  \"anticipation_norm\", \"disgust_norm\", \"fear_norm\", \"joy_norm\", \"sadness_norm\", \"surprise_norm\", \n",
    "                  \"trust_norm\", \"negative_norm\", \"positive_norm\", \"anger_norm2\", \"anticipation_norm2\", \n",
    "                  \"disgust_norm2\", \"fear_norm2\", \"joy_norm2\", \"sadness_norm2\", \"surprise_norm2\", \"trust_norm2\", \n",
    "                  \"negative_norm2\", \"positive_norm2\", \"negative_bog_jr\", \"positive_bog_jr\", \"Bayes\", \n",
    "                  \"Negative_Bayes\", \"Neutral_Bayes\", \"Positive_Bayes\", \"Desire\", \"Explore\", \"Fun\", \n",
    "                  \"Hope\", \"Love\", \"Nostalgia\", \"Thug\", \"bing_norm_negative\"]\n",
    "\n",
    "# Cast columns to integer\n",
    "for column in int_columns:\n",
    "    transformed_df = filtered_df.withColumn(column, col(column).cast(\"int\"))\n",
    "\n",
    "# Cast columns to double\n",
    "for column in double_columns:\n",
    "    transformed_df = filtered_df.withColumn(column, col(column).cast(\"double\"))\n",
    "\n",
    "# Verify the updated schema\n",
    "transformed_df.printSchema()\n"
   ]
  },
  {
   "cell_type": "code",
   "execution_count": 56,
   "metadata": {},
   "outputs": [],
   "source": [
    "# Define popularity categories\n",
    "transformed_df = transformed_df.withColumn(\n",
    "    \"PopularityCategory\",\n",
    "    when(transformed_df.Popularity < 5000, \"Low\")\n",
    "    .when((transformed_df.Popularity >= 5000) & (transformed_df.Popularity < 18000), \"Medium\")\n",
    "    .otherwise(\"High\")\n",
    ")"
   ]
  },
  {
   "cell_type": "markdown",
   "metadata": {},
   "source": [
    "# Model 1 (Popularity Predictor)"
   ]
  },
  {
   "cell_type": "code",
   "execution_count": 77,
   "metadata": {},
   "outputs": [
    {
     "name": "stderr",
     "output_type": "stream",
     "text": [
      "24/11/14 15:43:55 WARN CSVHeaderChecker: CSV header does not conform to the schema.\n",
      " Header: Country, Popularity\n",
      " Schema: Country0, Popularity\n",
      "Expected: Country0 but found: Country\n",
      "CSV file: file:///Users/nate/Desktop/FALL24%202/ENSF612/Project/Music_Analytics_and_Recommendation/Music_Database.csv\n",
      "                                                                                \r"
     ]
    }
   ],
   "source": [
    "# Convert popularity category we made prior to an indexed label\n",
    "from pyspark.ml.feature import StringIndexer\n",
    "\n",
    "indexer = StringIndexer(inputCol=\"PopularityCategory\", outputCol=\"label\")\n",
    "model1_df = indexer.fit(transformed_df).transform(transformed_df)"
   ]
  },
  {
   "cell_type": "code",
   "execution_count": 78,
   "metadata": {},
   "outputs": [
    {
     "name": "stdout",
     "output_type": "stream",
     "text": [
      "+-----------------------------------------------------------------------------------------------------------------------------------------------------------------------------------------------------------------------------------------------------------------------------------------------------------------------------------------------------------------------------------------------------------------------------------------------------------------------------------------------------------------------------------------------------------------------------------------------------------------------------------------------------------------------------+\n",
      "|features                                                                                                                                                                                                                                                                                                                                                                                                                                                                                                                                                                                                                                                                     |\n",
      "+-----------------------------------------------------------------------------------------------------------------------------------------------------------------------------------------------------------------------------------------------------------------------------------------------------------------------------------------------------------------------------------------------------------------------------------------------------------------------------------------------------------------------------------------------------------------------------------------------------------------------------------------------------------------------------+\n",
      "|[581.1999999999998,1.6931568E7,0.5720000000000001,0.53,6.0,-8.521,0.0,0.0654,0.0647,1.69E-4,0.127,0.12,170.138,217613.0,1314.0,-1.0,-1.0,-1.0,-1.0,-2.0,-1.0,-7.0,-3.0,0.0,1.0,0.0,1.0,1.0,2.0,0.0,1.0,4.0,1.0,274.0,0.0,0.00364963503649635,0.0,0.00364963503649635,0.00364963503649635,0.0072992700729927,0.0,0.00364963503649635,0.0145985401459854,0.00364963503649635,0.0,0.166666666666667,0.0,0.166666666666667,0.166666666666667,0.33333333333333304,0.0,0.166666666666667,0.8,0.2,0.0,0.0,-1.0,1.0,0.0,0.0,1.0,0.0,0.0,0.0,0.0,0.0,0.0,1.0]                                                                                                                         |\n",
      "|[635.8000000000002,1.6931568E7,0.5720000000000001,0.53,6.0,-8.521,0.0,0.0654,0.0647,1.69E-4,0.127,0.12,170.138,217613.0,1314.0,-1.0,-1.0,-1.0,-1.0,-2.0,-1.0,-7.0,-3.0,0.0,1.0,0.0,1.0,1.0,2.0,0.0,1.0,4.0,1.0,274.0,0.0,0.00364963503649635,0.0,0.00364963503649635,0.00364963503649635,0.0072992700729927,0.0,0.00364963503649635,0.0145985401459854,0.00364963503649635,0.0,0.166666666666667,0.0,0.166666666666667,0.166666666666667,0.33333333333333304,0.0,0.166666666666667,0.8,0.2,0.0,0.0,-1.0,1.0,0.0,0.0,1.0,0.0,0.0,0.0,0.0,0.0,0.0,1.0]                                                                                                                         |\n",
      "|(68,[0,1,2,3,4,5,7,8,10,11,12,13,14,15,17,19,21,23,24,28,29,30,31,32,33,34,35,39,40,41,42,43,44,45,49,50,51,52,53,55,56,57,63],[62.40000000000001,1.7132813E7,0.593,0.7120000000000001,2.0,-6.325,0.0286,0.00184,0.128,0.473,124.013,231307.0,1272.0,1.0,-1.0,1.1,-3.0,1.0,1.0,2.0,1.0,1.0,3.0,3.0,254.0,0.00393700787401575,0.00393700787401575,0.0078740157480315,0.00393700787401575,0.00393700787401575,0.0118110236220472,0.0118110236220472,0.166666666666667,0.166666666666667,0.33333333333333304,0.166666666666667,0.166666666666667,0.5,0.5,10.0,-1.0,1.0,1.0])                                                                                                    |\n",
      "|(68,[0,1,2,3,4,5,7,8,10,11,12,13,14,15,17,19,21,23,24,28,29,30,31,32,33,34,35,39,40,41,42,43,44,45,49,50,51,52,53,55,56,57,63],[57.6,1.7132813E7,0.593,0.7120000000000001,2.0,-6.325,0.0286,0.00184,0.128,0.473,124.013,231307.0,1272.0,1.0,-1.0,1.1,-3.0,1.0,1.0,2.0,1.0,1.0,3.0,3.0,254.0,0.00393700787401575,0.00393700787401575,0.0078740157480315,0.00393700787401575,0.00393700787401575,0.0118110236220472,0.0118110236220472,0.166666666666667,0.166666666666667,0.33333333333333304,0.166666666666667,0.166666666666667,0.5,0.5,10.0,-1.0,1.0,1.0])                                                                                                                 |\n",
      "|[317.8,5.0593376E7,0.338,0.7290000000000001,6.0,-6.419,0.0,0.102,0.758,3.24E-5,0.18,0.5429999999999999,184.174,283816.0,470.0,-1.0,-1.0,-1.0,-1.0,-1.15,-4.0,-26.0,-5.0,12.0,10.0,7.0,6.0,10.0,8.0,9.0,11.0,17.0,12.0,646.0,0.0185758513931889,0.0154798761609907,0.0108359133126935,0.00928792569659443,0.0154798761609907,0.0123839009287926,0.0139318885448916,0.0170278637770898,0.0263157894736842,0.0185758513931889,0.164383561643836,0.136986301369863,0.0958904109589041,0.0821917808219178,0.136986301369863,0.10958904109588999,0.123287671232877,0.150684931506849,0.586206896551724,0.413793103448276,7.0,19.0,-1.0,1.0,0.0,0.0,0.0,0.0,0.0,1.0,0.0,0.0,0.0,1.0]|\n",
      "|[730.1,5.0593376E7,0.338,0.7290000000000001,6.0,-6.419,0.0,0.102,0.758,3.24E-5,0.18,0.5429999999999999,184.174,283816.0,470.0,-1.0,-1.0,-1.0,-1.0,-1.15,-4.0,-26.0,-5.0,12.0,10.0,7.0,6.0,10.0,8.0,9.0,11.0,17.0,12.0,646.0,0.0185758513931889,0.0154798761609907,0.0108359133126935,0.00928792569659443,0.0154798761609907,0.0123839009287926,0.0139318885448916,0.0170278637770898,0.0263157894736842,0.0185758513931889,0.164383561643836,0.136986301369863,0.0958904109589041,0.0821917808219178,0.136986301369863,0.10958904109588999,0.123287671232877,0.150684931506849,0.586206896551724,0.413793103448276,7.0,19.0,-1.0,1.0,0.0,0.0,0.0,0.0,0.0,1.0,0.0,0.0,0.0,1.0]|\n",
      "|[523.9999999999999,2.735526E7,0.578,0.574,2.0,-6.209,1.0,0.0454,0.196,0.0,0.083,0.301,174.15200000000004,261240.0,1449.0,1.0,1.0,1.0,1.0,3.55,2.0,2.0,4.0,0.0,4.0,0.0,2.0,4.0,1.0,1.0,3.0,2.0,6.0,286.0,0.0,0.013986013986014,0.0,0.0069930069930069895,0.013986013986014,0.0034965034965035,0.0034965034965035,0.0104895104895105,0.0069930069930069895,0.020979020979021,0.0,0.266666666666667,0.0,0.133333333333333,0.266666666666667,0.0666666666666667,0.0666666666666667,0.2,0.25,0.75,0.0,4.0,1.0,0.0,0.0,1.0,1.0,0.0,0.0,0.0,0.0,0.0,0.0,0.0]                                                                                                                        |\n",
      "|[1039.2000000000003,2.735526E7,0.578,0.574,2.0,-6.209,1.0,0.0454,0.196,0.0,0.083,0.301,174.15200000000004,261240.0,1449.0,1.0,1.0,1.0,1.0,3.55,2.0,2.0,4.0,0.0,4.0,0.0,2.0,4.0,1.0,1.0,3.0,2.0,6.0,286.0,0.0,0.013986013986014,0.0,0.0069930069930069895,0.013986013986014,0.0034965034965035,0.0034965034965035,0.0104895104895105,0.0069930069930069895,0.020979020979021,0.0,0.266666666666667,0.0,0.133333333333333,0.266666666666667,0.0666666666666667,0.0666666666666667,0.2,0.25,0.75,0.0,4.0,1.0,0.0,0.0,1.0,1.0,0.0,0.0,0.0,0.0,0.0,0.0,0.0]                                                                                                                       |\n",
      "|[14.400000000000002,2.735526E7,0.578,0.574,2.0,-6.209,1.0,0.0454,0.196,0.0,0.083,0.301,174.15200000000004,261240.0,1449.0,1.0,1.0,1.0,1.0,3.55,2.0,2.0,4.0,0.0,4.0,0.0,2.0,4.0,1.0,1.0,3.0,2.0,6.0,286.0,0.0,0.013986013986014,0.0,0.0069930069930069895,0.013986013986014,0.0034965034965035,0.0034965034965035,0.0104895104895105,0.0069930069930069895,0.020979020979021,0.0,0.266666666666667,0.0,0.133333333333333,0.266666666666667,0.0666666666666667,0.0666666666666667,0.2,0.25,0.75,0.0,4.0,1.0,0.0,0.0,1.0,1.0,0.0,0.0,0.0,0.0,0.0,0.0,0.0]                                                                                                                       |\n",
      "|[3623.799999999999,8604850.0,0.669,0.8009999999999999,8.0,-5.445,1.0,0.136,0.268,0.0,0.0594,0.541,109.919,201072.0,582.0,1.0,1.0,1.0,-1.0,2.8,1.0,7.0,-2.0,1.0,2.0,1.0,4.0,3.0,2.0,3.0,3.0,7.0,5.0,221.0,0.00452488687782805,0.00904977375565611,0.00452488687782805,0.0180995475113122,0.0135746606334842,0.00904977375565611,0.0135746606334842,0.0135746606334842,0.0316742081447964,0.0226244343891403,0.0526315789473684,0.10526315789473699,0.0526315789473684,0.21052631578947398,0.157894736842105,0.10526315789473699,0.157894736842105,0.157894736842105,0.583333333333333,0.4166666666666671,0.0,6.0,1.0,0.0,0.0,1.0,0.0,0.0,0.0,1.0,0.0,0.0,0.0,0.0]             |\n",
      "|[6339.85,8604850.0,0.669,0.8009999999999999,8.0,-5.445,1.0,0.136,0.268,0.0,0.0594,0.541,109.919,201072.0,582.0,1.0,1.0,1.0,-1.0,2.8,1.0,7.0,-2.0,1.0,2.0,1.0,4.0,3.0,2.0,3.0,3.0,7.0,5.0,221.0,0.00452488687782805,0.00904977375565611,0.00452488687782805,0.0180995475113122,0.0135746606334842,0.00904977375565611,0.0135746606334842,0.0135746606334842,0.0316742081447964,0.0226244343891403,0.0526315789473684,0.10526315789473699,0.0526315789473684,0.21052631578947398,0.157894736842105,0.10526315789473699,0.157894736842105,0.157894736842105,0.583333333333333,0.4166666666666671,0.0,6.0,1.0,0.0,0.0,1.0,0.0,0.0,0.0,1.0,0.0,0.0,0.0,0.0]                       |\n",
      "|[10629.949999999997,2094628.0,0.821,0.434,10.0,-9.194,0.0,0.118,0.434,0.0,0.128,0.241,120.012,187173.0,953.0,-1.0,-1.0,-1.0,-1.0,-2.25,-6.0,-24.0,-4.0,9.0,2.0,8.0,4.0,4.0,4.0,4.0,2.0,13.0,9.0,346.0,0.0260115606936416,0.00578034682080925,0.023121387283237003,0.0115606936416185,0.0115606936416185,0.0115606936416185,0.0115606936416185,0.00578034682080925,0.0375722543352601,0.0260115606936416,0.24324324324324306,0.0540540540540541,0.216216216216216,0.108108108108108,0.108108108108108,0.108108108108108,0.108108108108108,0.0540540540540541,0.590909090909091,0.409090909090909,6.0,8.0,0.0,0.0,1.0,0.0,0.0,0.0,0.0,0.0,0.0,0.0,1.0,1.0]                     |\n",
      "|[3113.55,2094628.0,0.821,0.434,10.0,-9.194,0.0,0.118,0.434,0.0,0.128,0.241,120.012,187173.0,953.0,-1.0,-1.0,-1.0,-1.0,-2.25,-6.0,-24.0,-4.0,9.0,2.0,8.0,4.0,4.0,4.0,4.0,2.0,13.0,9.0,346.0,0.0260115606936416,0.00578034682080925,0.023121387283237003,0.0115606936416185,0.0115606936416185,0.0115606936416185,0.0115606936416185,0.00578034682080925,0.0375722543352601,0.0260115606936416,0.24324324324324306,0.0540540540540541,0.216216216216216,0.108108108108108,0.108108108108108,0.108108108108108,0.108108108108108,0.0540540540540541,0.590909090909091,0.409090909090909,6.0,8.0,0.0,0.0,1.0,0.0,0.0,0.0,0.0,0.0,0.0,0.0,1.0,1.0]                                |\n",
      "|[2960.8500000000013,2039736.0,0.733,0.6779999999999999,6.0,-7.771,1.0,0.439,0.121,0.0,0.345,0.841,175.984,144149.0,974.0,1.0,0.0,1.0,0.0,1.35,0.0,1.0,0.0,1.0,2.0,2.0,2.0,2.0,1.0,0.0,2.0,6.0,6.0,531.0,0.0018832391713747602,0.00376647834274953,0.00376647834274953,0.00376647834274953,0.00376647834274953,0.0018832391713747602,0.0,0.00376647834274953,0.0112994350282486,0.0112994350282486,0.0833333333333333,0.166666666666667,0.166666666666667,0.166666666666667,0.166666666666667,0.0833333333333333,0.0,0.166666666666667,0.5,0.5,1.0,10.0,1.0,0.0,0.0,1.0,0.0,0.0,0.0,0.0,0.0,0.0,1.0,0.0]                                                                      |\n",
      "|[1735.7499999999998,2039736.0,0.733,0.6779999999999999,6.0,-7.771,1.0,0.439,0.121,0.0,0.345,0.841,175.984,144149.0,974.0,1.0,0.0,1.0,0.0,1.35,0.0,1.0,0.0,1.0,2.0,2.0,2.0,2.0,1.0,0.0,2.0,6.0,6.0,531.0,0.0018832391713747602,0.00376647834274953,0.00376647834274953,0.00376647834274953,0.00376647834274953,0.0018832391713747602,0.0,0.00376647834274953,0.0112994350282486,0.0112994350282486,0.0833333333333333,0.166666666666667,0.166666666666667,0.166666666666667,0.166666666666667,0.0833333333333333,0.0,0.166666666666667,0.5,0.5,1.0,10.0,1.0,0.0,0.0,1.0,0.0,0.0,0.0,0.0,0.0,0.0,1.0,0.0]                                                                      |\n",
      "|[4001.65,5004777.0,0.611,0.867,1.0,-5.297999999999999,1.0,0.0896,0.11,1.05E-4,0.34600000000000003,0.336,140.032,331267.0,1286.0,-1.0,-1.0,-1.0,-1.0,-1.55,-2.0,-7.0,-2.0,8.0,6.0,6.0,5.0,8.0,10.0,2.0,9.0,13.0,11.0,527.0,0.015180265654648997,0.0113851992409867,0.0113851992409867,0.0094876660341556,0.015180265654648997,0.0189753320683112,0.00379506641366224,0.0170777988614801,0.0246679316888046,0.0208728652751423,0.148148148148148,0.111111111111111,0.111111111111111,0.0925925925925926,0.148148148148148,0.185185185185185,0.037037037037037,0.166666666666667,0.5416666666666671,0.4583333333333329,2.0,15.0,1.0,0.0,0.0,1.0,0.0,0.0,0.0,1.0,0.0,0.0,0.0,1.0]|\n",
      "|[848.25,5004777.0,0.611,0.867,1.0,-5.297999999999999,1.0,0.0896,0.11,1.05E-4,0.34600000000000003,0.336,140.032,331267.0,1286.0,-1.0,-1.0,-1.0,-1.0,-1.55,-2.0,-7.0,-2.0,8.0,6.0,6.0,5.0,8.0,10.0,2.0,9.0,13.0,11.0,527.0,0.015180265654648997,0.0113851992409867,0.0113851992409867,0.0094876660341556,0.015180265654648997,0.0189753320683112,0.00379506641366224,0.0170777988614801,0.0246679316888046,0.0208728652751423,0.148148148148148,0.111111111111111,0.111111111111111,0.0925925925925926,0.148148148148148,0.185185185185185,0.037037037037037,0.166666666666667,0.5416666666666671,0.4583333333333329,2.0,15.0,1.0,0.0,0.0,1.0,0.0,0.0,0.0,1.0,0.0,0.0,0.0,1.0] |\n",
      "|[126.65,1.2829933E7,0.679,0.408,4.0,-9.754,0.0,0.0882,0.133,0.00455,0.23,0.151,129.079,206080.0,197.0,-1.0,-1.0,-1.0,-1.0,-0.45,-1.0,-5.0,-1.0,3.0,2.0,3.0,4.0,4.0,6.0,2.0,4.0,9.0,8.0,203.0,0.0147783251231527,0.00985221674876847,0.0147783251231527,0.0197044334975369,0.0197044334975369,0.0295566502463054,0.00985221674876847,0.0197044334975369,0.0443349753694581,0.0394088669950739,0.107142857142857,0.0714285714285714,0.107142857142857,0.14285714285714302,0.14285714285714302,0.214285714285714,0.0714285714285714,0.14285714285714302,0.529411764705882,0.47058823529411803,1.0,9.0,-1.0,1.0,0.0,0.0,0.0,1.0,0.0,0.0,0.0,0.0,0.0,1.0]                         |\n",
      "|[116.2,1.2829933E7,0.679,0.408,4.0,-9.754,0.0,0.0882,0.133,0.00455,0.23,0.151,129.079,206080.0,197.0,-1.0,-1.0,-1.0,-1.0,-0.45,-1.0,-5.0,-1.0,3.0,2.0,3.0,4.0,4.0,6.0,2.0,4.0,9.0,8.0,203.0,0.0147783251231527,0.00985221674876847,0.0147783251231527,0.0197044334975369,0.0197044334975369,0.0295566502463054,0.00985221674876847,0.0197044334975369,0.0443349753694581,0.0394088669950739,0.107142857142857,0.0714285714285714,0.107142857142857,0.14285714285714302,0.14285714285714302,0.214285714285714,0.0714285714285714,0.14285714285714302,0.529411764705882,0.47058823529411803,1.0,9.0,-1.0,1.0,0.0,0.0,0.0,1.0,0.0,0.0,0.0,0.0,0.0,1.0]                          |\n",
      "|[4477.55,1.4303985E7,0.483,0.361,0.0,-7.8889999999999985,1.0,0.0738,0.8320000000000001,4.66E-6,0.098,0.307,171.649,193795.0,274.0,-1.0,1.0,0.0,-1.0,-0.15,1.0,0.0,-4.0,1.0,3.0,1.0,3.0,2.0,5.0,1.0,3.0,7.0,3.0,269.0,0.0037174721189591102,0.0111524163568773,0.0037174721189591102,0.0111524163568773,0.0074349442379182205,0.0185873605947955,0.0037174721189591102,0.0111524163568773,0.0260223048327138,0.0111524163568773,0.0526315789473684,0.157894736842105,0.0526315789473684,0.157894736842105,0.10526315789473699,0.263157894736842,0.0526315789473684,0.157894736842105,0.7,0.3,4.0,2.0,-1.0,1.0,0.0,0.0,0.0,1.0,0.0,0.0,0.0,0.0,0.0,0.0]                        |\n",
      "+-----------------------------------------------------------------------------------------------------------------------------------------------------------------------------------------------------------------------------------------------------------------------------------------------------------------------------------------------------------------------------------------------------------------------------------------------------------------------------------------------------------------------------------------------------------------------------------------------------------------------------------------------------------------------------+\n",
      "only showing top 20 rows\n",
      "\n"
     ]
    },
    {
     "name": "stderr",
     "output_type": "stream",
     "text": [
      "24/11/14 15:44:07 WARN CSVHeaderChecker: CSV header does not conform to the schema.\n",
      " Header: Country, Uri, Popularity, Title, Artist, Album/Single, Genre, Artist_followers, Explicit, Album, Release_date, Track_number, Tracks_in_album, danceability, energy, key, loudness, mode, speechiness, acoustics, instrumentalness, liveliness, valence, tempo, duration_ms, time_signature, Genre_new, Days_since_release, Released_after_2017, Explicit_false, Explicit_true, album, compilation, single, bolero, boy band, country, dance/electronic, else, funk, hip hop, house, indie, jazz, k-pop, latin, metal, opm, pop, r&b/soul, rap, reggae, reggaeton, rock, trap, syuzhet_norm, bing_norm, afinn_norm, nrc_norm, syuzhet, bing, afinn, nrc, anger, anticipation, disgust, fear, joy, sadness, surprise, trust, negative, positive, n_words, anger_norm, anticipation_norm, disgust_norm, fear_norm, joy_norm, sadness_norm, surprise_norm, trust_norm, negative_norm, positive_norm, anger_norm2, anticipation_norm2, disgust_norm2, fear_norm2, joy_norm2, sadness_norm2, surprise_norm2, trust_norm2, negative_norm2, positive_norm2, negative_bog_jr, positive_bog_jr, Bayes, Negative_Bayes, Neutral_Bayes, Positive_Bayes, LDA_Topic, Celebrate, Desire, Explore, Fun, Hope, Love, Nostalgia, Thug, bing_norm_negative, bing_norm_neutral, bing_norm_positive, Argentina, Australia, Austria, Belgium, Brazil, Canada, Chile, Colombia, Costa Rica, Denmark, Ecuador, Finland, France, Germany, Global, Indonesia, Ireland, Italy, Malaysia, Mexico, Netherlands, New Zealand, Norway, Peru, Philippines, Poland, Portugal, Singapore, Spain, Sweden, Switzerland, Taiwan, Turkey, UK, USA, Popu_max, Top10_dummy, Top50_dummy, Cluster\n",
      " Schema: Country0, Uri, Popularity, Title, Artist, Album/Single, Genre, Artist_followers, Explicit, Album9, Release_date, Track_number, Tracks_in_album, danceability, energy, key, loudness, mode, speechiness, acoustics, instrumentalness, liveliness, valence, tempo, duration_ms, time_signature, Genre_new, Days_since_release, Released_after_2017, Explicit_false, Explicit_true, album31, compilation, single, bolero, boy band, country36, dance/electronic, else, funk, hip hop, house, indie, jazz, k-pop, latin, metal, opm, pop, r&b/soul, rap, reggae, reggaeton, rock, trap, syuzhet_norm, bing_norm, afinn_norm, nrc_norm, syuzhet, bing, afinn, nrc, anger, anticipation, disgust, fear, joy, sadness, surprise, trust, negative, positive, n_words, anger_norm, anticipation_norm, disgust_norm, fear_norm, joy_norm, sadness_norm, surprise_norm, trust_norm, negative_norm, positive_norm, anger_norm2, anticipation_norm2, disgust_norm2, fear_norm2, joy_norm2, sadness_norm2, surprise_norm2, trust_norm2, negative_norm2, positive_norm2, negative_bog_jr, positive_bog_jr, Bayes, Negative_Bayes, Neutral_Bayes, Positive_Bayes, LDA_Topic, Celebrate, Desire, Explore, Fun, Hope, Love, Nostalgia, Thug, bing_norm_negative, bing_norm_neutral, bing_norm_positive, Argentina, Australia, Austria, Belgium, Brazil, Canada, Chile, Colombia, Costa Rica, Denmark, Ecuador, Finland, France, Germany, Global, Indonesia, Ireland, Italy, Malaysia, Mexico, Netherlands, New Zealand, Norway, Peru, Philippines, Poland, Portugal, Singapore, Spain, Sweden, Switzerland, Taiwan, Turkey, UK, USA, Popu_max, Top10_dummy, Top50_dummy, Cluster\n",
      "Expected: Country0 but found: Country\n",
      "CSV file: file:///Users/nate/Desktop/FALL24%202/ENSF612/Project/Music_Analytics_and_Recommendation/Music_Database.csv\n"
     ]
    }
   ],
   "source": [
    "# Selected features including danceability, energy, etc.\n",
    "feature_columns = [\"Popularity\", \"Artist_followers\", \"danceability\", \"energy\", \"key\", \"loudness\", \n",
    "                  \"mode\", \"speechiness\", \"acoustics\", \"instrumentalness\", \"liveliness\", \"valence\", \n",
    "                  \"tempo\", \"duration_ms\", \"Days_since_release\", \"syuzhet_norm\", \"bing_norm\", \"afinn_norm\", \n",
    "                  \"nrc_norm\", \"syuzhet\", \"bing\", \"afinn\", \"nrc\", \"anger\", \"anticipation\", \"disgust\", \"fear\", \n",
    "                  \"joy\", \"sadness\", \"surprise\", \"trust\", \"negative\", \"positive\", \"n_words\", \"anger_norm\", \n",
    "                  \"anticipation_norm\", \"disgust_norm\", \"fear_norm\", \"joy_norm\", \"sadness_norm\", \"surprise_norm\", \n",
    "                  \"trust_norm\", \"negative_norm\", \"positive_norm\", \"anger_norm2\", \"anticipation_norm2\", \n",
    "                  \"disgust_norm2\", \"fear_norm2\", \"joy_norm2\", \"sadness_norm2\", \"surprise_norm2\", \"trust_norm2\", \n",
    "                  \"negative_norm2\", \"positive_norm2\", \"negative_bog_jr\", \"positive_bog_jr\", \"Bayes\", \n",
    "                  \"Negative_Bayes\", \"Neutral_Bayes\", \"Positive_Bayes\", \"Desire\", \"Explore\", \"Fun\", \n",
    "                  \"Hope\", \"Love\", \"Nostalgia\", \"Thug\", \"bing_norm_negative\"]\n",
    "\n",
    "# Ensure each feature is cast to double\n",
    "for feature in feature_columns:\n",
    "    model1_df = model1_df.withColumn(feature, col(feature).cast(\"double\"))\n",
    "\n",
    "# Fill null values in each feature column with 0\n",
    "model1_df = model1_df.dropna()\n",
    "\n",
    "# Assemble features\n",
    "from pyspark.ml.feature import VectorAssembler\n",
    "\n",
    "assembler = VectorAssembler(inputCols=feature_columns, outputCol=\"features\", handleInvalid = \"keep\")\n",
    "model1_df = assembler.transform(model1_df).select(\"features\", \"label\")\n",
    "model1_df.select(\"features\").show(truncate=False)\n"
   ]
  },
  {
   "cell_type": "code",
   "execution_count": 79,
   "metadata": {},
   "outputs": [
    {
     "name": "stderr",
     "output_type": "stream",
     "text": [
      "24/11/14 15:44:07 WARN CSVHeaderChecker: CSV header does not conform to the schema.\n",
      " Header: Country, Uri, Popularity, Title, Artist, Album/Single, Genre, Artist_followers, Explicit, Album, Release_date, Track_number, Tracks_in_album, danceability, energy, key, loudness, mode, speechiness, acoustics, instrumentalness, liveliness, valence, tempo, duration_ms, time_signature, Genre_new, Days_since_release, Released_after_2017, Explicit_false, Explicit_true, album, compilation, single, bolero, boy band, country, dance/electronic, else, funk, hip hop, house, indie, jazz, k-pop, latin, metal, opm, pop, r&b/soul, rap, reggae, reggaeton, rock, trap, syuzhet_norm, bing_norm, afinn_norm, nrc_norm, syuzhet, bing, afinn, nrc, anger, anticipation, disgust, fear, joy, sadness, surprise, trust, negative, positive, n_words, anger_norm, anticipation_norm, disgust_norm, fear_norm, joy_norm, sadness_norm, surprise_norm, trust_norm, negative_norm, positive_norm, anger_norm2, anticipation_norm2, disgust_norm2, fear_norm2, joy_norm2, sadness_norm2, surprise_norm2, trust_norm2, negative_norm2, positive_norm2, negative_bog_jr, positive_bog_jr, Bayes, Negative_Bayes, Neutral_Bayes, Positive_Bayes, LDA_Topic, Celebrate, Desire, Explore, Fun, Hope, Love, Nostalgia, Thug, bing_norm_negative, bing_norm_neutral, bing_norm_positive, Argentina, Australia, Austria, Belgium, Brazil, Canada, Chile, Colombia, Costa Rica, Denmark, Ecuador, Finland, France, Germany, Global, Indonesia, Ireland, Italy, Malaysia, Mexico, Netherlands, New Zealand, Norway, Peru, Philippines, Poland, Portugal, Singapore, Spain, Sweden, Switzerland, Taiwan, Turkey, UK, USA, Popu_max, Top10_dummy, Top50_dummy, Cluster\n",
      " Schema: Country0, Uri, Popularity, Title, Artist, Album/Single, Genre, Artist_followers, Explicit, Album9, Release_date, Track_number, Tracks_in_album, danceability, energy, key, loudness, mode, speechiness, acoustics, instrumentalness, liveliness, valence, tempo, duration_ms, time_signature, Genre_new, Days_since_release, Released_after_2017, Explicit_false, Explicit_true, album31, compilation, single, bolero, boy band, country36, dance/electronic, else, funk, hip hop, house, indie, jazz, k-pop, latin, metal, opm, pop, r&b/soul, rap, reggae, reggaeton, rock, trap, syuzhet_norm, bing_norm, afinn_norm, nrc_norm, syuzhet, bing, afinn, nrc, anger, anticipation, disgust, fear, joy, sadness, surprise, trust, negative, positive, n_words, anger_norm, anticipation_norm, disgust_norm, fear_norm, joy_norm, sadness_norm, surprise_norm, trust_norm, negative_norm, positive_norm, anger_norm2, anticipation_norm2, disgust_norm2, fear_norm2, joy_norm2, sadness_norm2, surprise_norm2, trust_norm2, negative_norm2, positive_norm2, negative_bog_jr, positive_bog_jr, Bayes, Negative_Bayes, Neutral_Bayes, Positive_Bayes, LDA_Topic, Celebrate, Desire, Explore, Fun, Hope, Love, Nostalgia, Thug, bing_norm_negative, bing_norm_neutral, bing_norm_positive, Argentina, Australia, Austria, Belgium, Brazil, Canada, Chile, Colombia, Costa Rica, Denmark, Ecuador, Finland, France, Germany, Global, Indonesia, Ireland, Italy, Malaysia, Mexico, Netherlands, New Zealand, Norway, Peru, Philippines, Poland, Portugal, Singapore, Spain, Sweden, Switzerland, Taiwan, Turkey, UK, USA, Popu_max, Top10_dummy, Top50_dummy, Cluster\n",
      "Expected: Country0 but found: Country\n",
      "CSV file: file:///Users/nate/Desktop/FALL24%202/ENSF612/Project/Music_Analytics_and_Recommendation/Music_Database.csv\n",
      "24/11/14 15:44:08 WARN CSVHeaderChecker: CSV header does not conform to the schema.\n",
      " Header: Country, Uri, Popularity, Title, Artist, Album/Single, Genre, Artist_followers, Explicit, Album, Release_date, Track_number, Tracks_in_album, danceability, energy, key, loudness, mode, speechiness, acoustics, instrumentalness, liveliness, valence, tempo, duration_ms, time_signature, Genre_new, Days_since_release, Released_after_2017, Explicit_false, Explicit_true, album, compilation, single, bolero, boy band, country, dance/electronic, else, funk, hip hop, house, indie, jazz, k-pop, latin, metal, opm, pop, r&b/soul, rap, reggae, reggaeton, rock, trap, syuzhet_norm, bing_norm, afinn_norm, nrc_norm, syuzhet, bing, afinn, nrc, anger, anticipation, disgust, fear, joy, sadness, surprise, trust, negative, positive, n_words, anger_norm, anticipation_norm, disgust_norm, fear_norm, joy_norm, sadness_norm, surprise_norm, trust_norm, negative_norm, positive_norm, anger_norm2, anticipation_norm2, disgust_norm2, fear_norm2, joy_norm2, sadness_norm2, surprise_norm2, trust_norm2, negative_norm2, positive_norm2, negative_bog_jr, positive_bog_jr, Bayes, Negative_Bayes, Neutral_Bayes, Positive_Bayes, LDA_Topic, Celebrate, Desire, Explore, Fun, Hope, Love, Nostalgia, Thug, bing_norm_negative, bing_norm_neutral, bing_norm_positive, Argentina, Australia, Austria, Belgium, Brazil, Canada, Chile, Colombia, Costa Rica, Denmark, Ecuador, Finland, France, Germany, Global, Indonesia, Ireland, Italy, Malaysia, Mexico, Netherlands, New Zealand, Norway, Peru, Philippines, Poland, Portugal, Singapore, Spain, Sweden, Switzerland, Taiwan, Turkey, UK, USA, Popu_max, Top10_dummy, Top50_dummy, Cluster\n",
      " Schema: Country0, Uri, Popularity, Title, Artist, Album/Single, Genre, Artist_followers, Explicit, Album9, Release_date, Track_number, Tracks_in_album, danceability, energy, key, loudness, mode, speechiness, acoustics, instrumentalness, liveliness, valence, tempo, duration_ms, time_signature, Genre_new, Days_since_release, Released_after_2017, Explicit_false, Explicit_true, album31, compilation, single, bolero, boy band, country36, dance/electronic, else, funk, hip hop, house, indie, jazz, k-pop, latin, metal, opm, pop, r&b/soul, rap, reggae, reggaeton, rock, trap, syuzhet_norm, bing_norm, afinn_norm, nrc_norm, syuzhet, bing, afinn, nrc, anger, anticipation, disgust, fear, joy, sadness, surprise, trust, negative, positive, n_words, anger_norm, anticipation_norm, disgust_norm, fear_norm, joy_norm, sadness_norm, surprise_norm, trust_norm, negative_norm, positive_norm, anger_norm2, anticipation_norm2, disgust_norm2, fear_norm2, joy_norm2, sadness_norm2, surprise_norm2, trust_norm2, negative_norm2, positive_norm2, negative_bog_jr, positive_bog_jr, Bayes, Negative_Bayes, Neutral_Bayes, Positive_Bayes, LDA_Topic, Celebrate, Desire, Explore, Fun, Hope, Love, Nostalgia, Thug, bing_norm_negative, bing_norm_neutral, bing_norm_positive, Argentina, Australia, Austria, Belgium, Brazil, Canada, Chile, Colombia, Costa Rica, Denmark, Ecuador, Finland, France, Germany, Global, Indonesia, Ireland, Italy, Malaysia, Mexico, Netherlands, New Zealand, Norway, Peru, Philippines, Poland, Portugal, Singapore, Spain, Sweden, Switzerland, Taiwan, Turkey, UK, USA, Popu_max, Top10_dummy, Top50_dummy, Cluster\n",
      "Expected: Country0 but found: Country\n",
      "CSV file: file:///Users/nate/Desktop/FALL24%202/ENSF612/Project/Music_Analytics_and_Recommendation/Music_Database.csv\n",
      "24/11/14 15:44:10 WARN CSVHeaderChecker: CSV header does not conform to the schema.\n",
      " Header: Country, Uri, Popularity, Title, Artist, Album/Single, Genre, Artist_followers, Explicit, Album, Release_date, Track_number, Tracks_in_album, danceability, energy, key, loudness, mode, speechiness, acoustics, instrumentalness, liveliness, valence, tempo, duration_ms, time_signature, Genre_new, Days_since_release, Released_after_2017, Explicit_false, Explicit_true, album, compilation, single, bolero, boy band, country, dance/electronic, else, funk, hip hop, house, indie, jazz, k-pop, latin, metal, opm, pop, r&b/soul, rap, reggae, reggaeton, rock, trap, syuzhet_norm, bing_norm, afinn_norm, nrc_norm, syuzhet, bing, afinn, nrc, anger, anticipation, disgust, fear, joy, sadness, surprise, trust, negative, positive, n_words, anger_norm, anticipation_norm, disgust_norm, fear_norm, joy_norm, sadness_norm, surprise_norm, trust_norm, negative_norm, positive_norm, anger_norm2, anticipation_norm2, disgust_norm2, fear_norm2, joy_norm2, sadness_norm2, surprise_norm2, trust_norm2, negative_norm2, positive_norm2, negative_bog_jr, positive_bog_jr, Bayes, Negative_Bayes, Neutral_Bayes, Positive_Bayes, LDA_Topic, Celebrate, Desire, Explore, Fun, Hope, Love, Nostalgia, Thug, bing_norm_negative, bing_norm_neutral, bing_norm_positive, Argentina, Australia, Austria, Belgium, Brazil, Canada, Chile, Colombia, Costa Rica, Denmark, Ecuador, Finland, France, Germany, Global, Indonesia, Ireland, Italy, Malaysia, Mexico, Netherlands, New Zealand, Norway, Peru, Philippines, Poland, Portugal, Singapore, Spain, Sweden, Switzerland, Taiwan, Turkey, UK, USA, Popu_max, Top10_dummy, Top50_dummy, Cluster\n",
      " Schema: Country0, Uri, Popularity, Title, Artist, Album/Single, Genre, Artist_followers, Explicit, Album9, Release_date, Track_number, Tracks_in_album, danceability, energy, key, loudness, mode, speechiness, acoustics, instrumentalness, liveliness, valence, tempo, duration_ms, time_signature, Genre_new, Days_since_release, Released_after_2017, Explicit_false, Explicit_true, album31, compilation, single, bolero, boy band, country36, dance/electronic, else, funk, hip hop, house, indie, jazz, k-pop, latin, metal, opm, pop, r&b/soul, rap, reggae, reggaeton, rock, trap, syuzhet_norm, bing_norm, afinn_norm, nrc_norm, syuzhet, bing, afinn, nrc, anger, anticipation, disgust, fear, joy, sadness, surprise, trust, negative, positive, n_words, anger_norm, anticipation_norm, disgust_norm, fear_norm, joy_norm, sadness_norm, surprise_norm, trust_norm, negative_norm, positive_norm, anger_norm2, anticipation_norm2, disgust_norm2, fear_norm2, joy_norm2, sadness_norm2, surprise_norm2, trust_norm2, negative_norm2, positive_norm2, negative_bog_jr, positive_bog_jr, Bayes, Negative_Bayes, Neutral_Bayes, Positive_Bayes, LDA_Topic, Celebrate, Desire, Explore, Fun, Hope, Love, Nostalgia, Thug, bing_norm_negative, bing_norm_neutral, bing_norm_positive, Argentina, Australia, Austria, Belgium, Brazil, Canada, Chile, Colombia, Costa Rica, Denmark, Ecuador, Finland, France, Germany, Global, Indonesia, Ireland, Italy, Malaysia, Mexico, Netherlands, New Zealand, Norway, Peru, Philippines, Poland, Portugal, Singapore, Spain, Sweden, Switzerland, Taiwan, Turkey, UK, USA, Popu_max, Top10_dummy, Top50_dummy, Cluster\n",
      "Expected: Country0 but found: Country\n",
      "CSV file: file:///Users/nate/Desktop/FALL24%202/ENSF612/Project/Music_Analytics_and_Recommendation/Music_Database.csv\n",
      "24/11/14 15:44:12 WARN CSVHeaderChecker: CSV header does not conform to the schema.\n",
      " Header: Country, Uri, Popularity, Title, Artist, Album/Single, Genre, Artist_followers, Explicit, Album, Release_date, Track_number, Tracks_in_album, danceability, energy, key, loudness, mode, speechiness, acoustics, instrumentalness, liveliness, valence, tempo, duration_ms, time_signature, Genre_new, Days_since_release, Released_after_2017, Explicit_false, Explicit_true, album, compilation, single, bolero, boy band, country, dance/electronic, else, funk, hip hop, house, indie, jazz, k-pop, latin, metal, opm, pop, r&b/soul, rap, reggae, reggaeton, rock, trap, syuzhet_norm, bing_norm, afinn_norm, nrc_norm, syuzhet, bing, afinn, nrc, anger, anticipation, disgust, fear, joy, sadness, surprise, trust, negative, positive, n_words, anger_norm, anticipation_norm, disgust_norm, fear_norm, joy_norm, sadness_norm, surprise_norm, trust_norm, negative_norm, positive_norm, anger_norm2, anticipation_norm2, disgust_norm2, fear_norm2, joy_norm2, sadness_norm2, surprise_norm2, trust_norm2, negative_norm2, positive_norm2, negative_bog_jr, positive_bog_jr, Bayes, Negative_Bayes, Neutral_Bayes, Positive_Bayes, LDA_Topic, Celebrate, Desire, Explore, Fun, Hope, Love, Nostalgia, Thug, bing_norm_negative, bing_norm_neutral, bing_norm_positive, Argentina, Australia, Austria, Belgium, Brazil, Canada, Chile, Colombia, Costa Rica, Denmark, Ecuador, Finland, France, Germany, Global, Indonesia, Ireland, Italy, Malaysia, Mexico, Netherlands, New Zealand, Norway, Peru, Philippines, Poland, Portugal, Singapore, Spain, Sweden, Switzerland, Taiwan, Turkey, UK, USA, Popu_max, Top10_dummy, Top50_dummy, Cluster\n",
      " Schema: Country0, Uri, Popularity, Title, Artist, Album/Single, Genre, Artist_followers, Explicit, Album9, Release_date, Track_number, Tracks_in_album, danceability, energy, key, loudness, mode, speechiness, acoustics, instrumentalness, liveliness, valence, tempo, duration_ms, time_signature, Genre_new, Days_since_release, Released_after_2017, Explicit_false, Explicit_true, album31, compilation, single, bolero, boy band, country36, dance/electronic, else, funk, hip hop, house, indie, jazz, k-pop, latin, metal, opm, pop, r&b/soul, rap, reggae, reggaeton, rock, trap, syuzhet_norm, bing_norm, afinn_norm, nrc_norm, syuzhet, bing, afinn, nrc, anger, anticipation, disgust, fear, joy, sadness, surprise, trust, negative, positive, n_words, anger_norm, anticipation_norm, disgust_norm, fear_norm, joy_norm, sadness_norm, surprise_norm, trust_norm, negative_norm, positive_norm, anger_norm2, anticipation_norm2, disgust_norm2, fear_norm2, joy_norm2, sadness_norm2, surprise_norm2, trust_norm2, negative_norm2, positive_norm2, negative_bog_jr, positive_bog_jr, Bayes, Negative_Bayes, Neutral_Bayes, Positive_Bayes, LDA_Topic, Celebrate, Desire, Explore, Fun, Hope, Love, Nostalgia, Thug, bing_norm_negative, bing_norm_neutral, bing_norm_positive, Argentina, Australia, Austria, Belgium, Brazil, Canada, Chile, Colombia, Costa Rica, Denmark, Ecuador, Finland, France, Germany, Global, Indonesia, Ireland, Italy, Malaysia, Mexico, Netherlands, New Zealand, Norway, Peru, Philippines, Poland, Portugal, Singapore, Spain, Sweden, Switzerland, Taiwan, Turkey, UK, USA, Popu_max, Top10_dummy, Top50_dummy, Cluster\n",
      "Expected: Country0 but found: Country\n",
      "CSV file: file:///Users/nate/Desktop/FALL24%202/ENSF612/Project/Music_Analytics_and_Recommendation/Music_Database.csv\n",
      "24/11/14 15:44:18 WARN DAGScheduler: Broadcasting large task binary with size 1497.6 KiB\n",
      "24/11/14 15:44:19 WARN DAGScheduler: Broadcasting large task binary with size 2.2 MiB\n",
      "24/11/14 15:44:21 WARN DAGScheduler: Broadcasting large task binary with size 3.2 MiB\n",
      "24/11/14 15:44:23 WARN DAGScheduler: Broadcasting large task binary with size 4.3 MiB\n",
      "                                                                                \r"
     ]
    }
   ],
   "source": [
    "from pyspark.ml.classification import RandomForestClassifier\n",
    "from pyspark.ml.evaluation import MulticlassClassificationEvaluator\n",
    "\n",
    "# Split data into train and test sets\n",
    "train_df, test_df = model1_df.randomSplit([0.8, 0.2], seed=42)\n",
    "\n",
    "# Initialize and train the Random Forest classifier\n",
    "rf_classifier = RandomForestClassifier(featuresCol=\"features\", labelCol=\"label\", numTrees=100, maxDepth=10)\n",
    "rf_model = rf_classifier.fit(train_df)\n",
    "\n",
    "# Make predictions\n",
    "predictions = rf_model.transform(test_df)\n"
   ]
  },
  {
   "cell_type": "code",
   "execution_count": 80,
   "metadata": {},
   "outputs": [
    {
     "name": "stderr",
     "output_type": "stream",
     "text": [
      "24/11/14 15:44:26 WARN DAGScheduler: Broadcasting large task binary with size 2.9 MiB\n",
      "24/11/14 15:44:27 WARN CSVHeaderChecker: CSV header does not conform to the schema.\n",
      " Header: Country, Uri, Popularity, Title, Artist, Album/Single, Genre, Artist_followers, Explicit, Album, Release_date, Track_number, Tracks_in_album, danceability, energy, key, loudness, mode, speechiness, acoustics, instrumentalness, liveliness, valence, tempo, duration_ms, time_signature, Genre_new, Days_since_release, Released_after_2017, Explicit_false, Explicit_true, album, compilation, single, bolero, boy band, country, dance/electronic, else, funk, hip hop, house, indie, jazz, k-pop, latin, metal, opm, pop, r&b/soul, rap, reggae, reggaeton, rock, trap, syuzhet_norm, bing_norm, afinn_norm, nrc_norm, syuzhet, bing, afinn, nrc, anger, anticipation, disgust, fear, joy, sadness, surprise, trust, negative, positive, n_words, anger_norm, anticipation_norm, disgust_norm, fear_norm, joy_norm, sadness_norm, surprise_norm, trust_norm, negative_norm, positive_norm, anger_norm2, anticipation_norm2, disgust_norm2, fear_norm2, joy_norm2, sadness_norm2, surprise_norm2, trust_norm2, negative_norm2, positive_norm2, negative_bog_jr, positive_bog_jr, Bayes, Negative_Bayes, Neutral_Bayes, Positive_Bayes, LDA_Topic, Celebrate, Desire, Explore, Fun, Hope, Love, Nostalgia, Thug, bing_norm_negative, bing_norm_neutral, bing_norm_positive, Argentina, Australia, Austria, Belgium, Brazil, Canada, Chile, Colombia, Costa Rica, Denmark, Ecuador, Finland, France, Germany, Global, Indonesia, Ireland, Italy, Malaysia, Mexico, Netherlands, New Zealand, Norway, Peru, Philippines, Poland, Portugal, Singapore, Spain, Sweden, Switzerland, Taiwan, Turkey, UK, USA, Popu_max, Top10_dummy, Top50_dummy, Cluster\n",
      " Schema: Country0, Uri, Popularity, Title, Artist, Album/Single, Genre, Artist_followers, Explicit, Album9, Release_date, Track_number, Tracks_in_album, danceability, energy, key, loudness, mode, speechiness, acoustics, instrumentalness, liveliness, valence, tempo, duration_ms, time_signature, Genre_new, Days_since_release, Released_after_2017, Explicit_false, Explicit_true, album31, compilation, single, bolero, boy band, country36, dance/electronic, else, funk, hip hop, house, indie, jazz, k-pop, latin, metal, opm, pop, r&b/soul, rap, reggae, reggaeton, rock, trap, syuzhet_norm, bing_norm, afinn_norm, nrc_norm, syuzhet, bing, afinn, nrc, anger, anticipation, disgust, fear, joy, sadness, surprise, trust, negative, positive, n_words, anger_norm, anticipation_norm, disgust_norm, fear_norm, joy_norm, sadness_norm, surprise_norm, trust_norm, negative_norm, positive_norm, anger_norm2, anticipation_norm2, disgust_norm2, fear_norm2, joy_norm2, sadness_norm2, surprise_norm2, trust_norm2, negative_norm2, positive_norm2, negative_bog_jr, positive_bog_jr, Bayes, Negative_Bayes, Neutral_Bayes, Positive_Bayes, LDA_Topic, Celebrate, Desire, Explore, Fun, Hope, Love, Nostalgia, Thug, bing_norm_negative, bing_norm_neutral, bing_norm_positive, Argentina, Australia, Austria, Belgium, Brazil, Canada, Chile, Colombia, Costa Rica, Denmark, Ecuador, Finland, France, Germany, Global, Indonesia, Ireland, Italy, Malaysia, Mexico, Netherlands, New Zealand, Norway, Peru, Philippines, Poland, Portugal, Singapore, Spain, Sweden, Switzerland, Taiwan, Turkey, UK, USA, Popu_max, Top10_dummy, Top50_dummy, Cluster\n",
      "Expected: Country0 but found: Country\n",
      "CSV file: file:///Users/nate/Desktop/FALL24%202/ENSF612/Project/Music_Analytics_and_Recommendation/Music_Database.csv\n",
      "                                                                                \r"
     ]
    },
    {
     "name": "stdout",
     "output_type": "stream",
     "text": [
      "Accuracy of the classifier: 0.9675767918088737\n"
     ]
    },
    {
     "name": "stderr",
     "output_type": "stream",
     "text": [
      "24/11/14 15:44:29 WARN DAGScheduler: Broadcasting large task binary with size 2.9 MiB\n",
      "24/11/14 15:44:29 WARN CSVHeaderChecker: CSV header does not conform to the schema.\n",
      " Header: Country, Uri, Popularity, Title, Artist, Album/Single, Genre, Artist_followers, Explicit, Album, Release_date, Track_number, Tracks_in_album, danceability, energy, key, loudness, mode, speechiness, acoustics, instrumentalness, liveliness, valence, tempo, duration_ms, time_signature, Genre_new, Days_since_release, Released_after_2017, Explicit_false, Explicit_true, album, compilation, single, bolero, boy band, country, dance/electronic, else, funk, hip hop, house, indie, jazz, k-pop, latin, metal, opm, pop, r&b/soul, rap, reggae, reggaeton, rock, trap, syuzhet_norm, bing_norm, afinn_norm, nrc_norm, syuzhet, bing, afinn, nrc, anger, anticipation, disgust, fear, joy, sadness, surprise, trust, negative, positive, n_words, anger_norm, anticipation_norm, disgust_norm, fear_norm, joy_norm, sadness_norm, surprise_norm, trust_norm, negative_norm, positive_norm, anger_norm2, anticipation_norm2, disgust_norm2, fear_norm2, joy_norm2, sadness_norm2, surprise_norm2, trust_norm2, negative_norm2, positive_norm2, negative_bog_jr, positive_bog_jr, Bayes, Negative_Bayes, Neutral_Bayes, Positive_Bayes, LDA_Topic, Celebrate, Desire, Explore, Fun, Hope, Love, Nostalgia, Thug, bing_norm_negative, bing_norm_neutral, bing_norm_positive, Argentina, Australia, Austria, Belgium, Brazil, Canada, Chile, Colombia, Costa Rica, Denmark, Ecuador, Finland, France, Germany, Global, Indonesia, Ireland, Italy, Malaysia, Mexico, Netherlands, New Zealand, Norway, Peru, Philippines, Poland, Portugal, Singapore, Spain, Sweden, Switzerland, Taiwan, Turkey, UK, USA, Popu_max, Top10_dummy, Top50_dummy, Cluster\n",
      " Schema: Country0, Uri, Popularity, Title, Artist, Album/Single, Genre, Artist_followers, Explicit, Album9, Release_date, Track_number, Tracks_in_album, danceability, energy, key, loudness, mode, speechiness, acoustics, instrumentalness, liveliness, valence, tempo, duration_ms, time_signature, Genre_new, Days_since_release, Released_after_2017, Explicit_false, Explicit_true, album31, compilation, single, bolero, boy band, country36, dance/electronic, else, funk, hip hop, house, indie, jazz, k-pop, latin, metal, opm, pop, r&b/soul, rap, reggae, reggaeton, rock, trap, syuzhet_norm, bing_norm, afinn_norm, nrc_norm, syuzhet, bing, afinn, nrc, anger, anticipation, disgust, fear, joy, sadness, surprise, trust, negative, positive, n_words, anger_norm, anticipation_norm, disgust_norm, fear_norm, joy_norm, sadness_norm, surprise_norm, trust_norm, negative_norm, positive_norm, anger_norm2, anticipation_norm2, disgust_norm2, fear_norm2, joy_norm2, sadness_norm2, surprise_norm2, trust_norm2, negative_norm2, positive_norm2, negative_bog_jr, positive_bog_jr, Bayes, Negative_Bayes, Neutral_Bayes, Positive_Bayes, LDA_Topic, Celebrate, Desire, Explore, Fun, Hope, Love, Nostalgia, Thug, bing_norm_negative, bing_norm_neutral, bing_norm_positive, Argentina, Australia, Austria, Belgium, Brazil, Canada, Chile, Colombia, Costa Rica, Denmark, Ecuador, Finland, France, Germany, Global, Indonesia, Ireland, Italy, Malaysia, Mexico, Netherlands, New Zealand, Norway, Peru, Philippines, Poland, Portugal, Singapore, Spain, Sweden, Switzerland, Taiwan, Turkey, UK, USA, Popu_max, Top10_dummy, Top50_dummy, Cluster\n",
      "Expected: Country0 but found: Country\n",
      "CSV file: file:///Users/nate/Desktop/FALL24%202/ENSF612/Project/Music_Analytics_and_Recommendation/Music_Database.csv\n"
     ]
    },
    {
     "name": "stdout",
     "output_type": "stream",
     "text": [
      "+----------+-----+--------------------+\n",
      "|prediction|label|            features|\n",
      "+----------+-----+--------------------+\n",
      "|       0.0|  0.0|(68,[0,1,2,3,4,5,...|\n",
      "|       0.0|  0.0|(68,[0,1,2,3,4,5,...|\n",
      "|       2.0|  2.0|(68,[0,1,2,3,4,5,...|\n",
      "|       0.0|  0.0|(68,[0,1,2,3,4,5,...|\n",
      "|       0.0|  0.0|(68,[0,1,2,3,4,5,...|\n",
      "+----------+-----+--------------------+\n",
      "only showing top 5 rows\n",
      "\n"
     ]
    }
   ],
   "source": [
    "# Evaluate the model\n",
    "evaluator = MulticlassClassificationEvaluator(labelCol=\"label\", predictionCol=\"prediction\", metricName=\"accuracy\")\n",
    "accuracy = evaluator.evaluate(predictions)\n",
    "print(f\"Accuracy of the classifier: {accuracy}\")\n",
    "\n",
    "# Display a sample of predictions\n",
    "predictions.select(\"prediction\", \"label\", \"features\").show(5)\n"
   ]
  },
  {
   "cell_type": "markdown",
   "metadata": {},
   "source": [
    "# Model 2 (KNN Music Recommender)"
   ]
  },
  {
   "cell_type": "code",
   "execution_count": 81,
   "metadata": {},
   "outputs": [],
   "source": [
    "from pyspark.ml.feature import VectorAssembler, StandardScaler\n",
    "from pyspark.sql import functions as F\n",
    "from pyspark.sql.types import FloatType\n",
    "from pyspark.sql import DataFrame\n",
    "\n",
    "# Step 1: Aggregate features by Uri, retaining Title and Artist\n",
    "model2_df = transformed_df.groupBy(\"Uri\").agg(\n",
    "    F.first(\"Title\").alias(\"Title\"),\n",
    "    F.first(\"Artist\").alias(\"Artist\"),\n",
    "    F.avg(\"danceability\").alias(\"danceability\"),\n",
    "    F.avg(\"energy\").alias(\"energy\"),\n",
    "    F.avg(\"loudness\").alias(\"loudness\"),\n",
    "    F.avg(\"acoustics\").alias(\"acoustics\"),\n",
    "    F.avg(\"instrumentalness\").alias(\"instrumentalness\"),\n",
    "    F.avg(\"liveliness\").alias(\"liveliness\"),\n",
    "    F.avg(\"valence\").alias(\"valence\"),\n",
    "    F.avg(\"tempo\").alias(\"tempo\")\n",
    ")\n",
    "\n",
    "audio_features = ['danceability', 'energy', 'loudness', 'acoustics', \n",
    "                  'instrumentalness', 'liveliness', 'valence', 'tempo']\n",
    "model2_df = model2_df.fillna(0, subset=audio_features)\n",
    "# Combine audio features into a single vector column\n",
    "assembler = VectorAssembler(inputCols=audio_features, outputCol=\"features\")\n",
    "data_with_features = assembler.transform(model2_df)  # Replace 'data' with your PySpark DataFrame\n",
    "\n"
   ]
  },
  {
   "cell_type": "code",
   "execution_count": 82,
   "metadata": {},
   "outputs": [
    {
     "name": "stderr",
     "output_type": "stream",
     "text": [
      "24/11/14 15:46:47 WARN CSVHeaderChecker: CSV header does not conform to the schema.\n",
      " Header: Country, Uri, danceability, energy, loudness, acoustics, instrumentalness, liveliness, valence, tempo\n",
      " Schema: Country0, Uri, danceability, energy, loudness, acoustics, instrumentalness, liveliness, valence, tempo\n",
      "Expected: Country0 but found: Country\n",
      "CSV file: file:///Users/nate/Desktop/FALL24%202/ENSF612/Project/Music_Analytics_and_Recommendation/Music_Database.csv\n",
      "                                                                                \r"
     ]
    }
   ],
   "source": [
    "# Step 2: Standardize the features\n",
    "scaler = StandardScaler(inputCol=\"features\", outputCol=\"scaled_features\")\n",
    "scaler_model = scaler.fit(data_with_features)\n",
    "data_scaled = scaler_model.transform(data_with_features)"
   ]
  },
  {
   "cell_type": "code",
   "execution_count": 83,
   "metadata": {},
   "outputs": [],
   "source": [
    "# Step 3: Define the recommendation function including Title and Artist in the output\n",
    "def get_recommendations(df: DataFrame, target_uri: str, n_recommendations: int = 5) -> DataFrame:\n",
    "    \"\"\"\n",
    "    Get song recommendations based on Euclidean distance to a target song by Uri.\n",
    "\n",
    "    Parameters:\n",
    "    df (DataFrame): The PySpark DataFrame containing scaled features.\n",
    "    target_uri (str): The Uri of the target song.\n",
    "    n_recommendations (int): Number of recommendations to retrieve.\n",
    "\n",
    "    Returns:\n",
    "    DataFrame: A PySpark DataFrame of recommended songs including Uri, Title, and Artist.\n",
    "    \"\"\"\n",
    "    # Extract the feature vector of the target song by Uri\n",
    "    target_song = df.where(F.col(\"Uri\") == target_uri).select(\"scaled_features\").first()\n",
    "    \n",
    "    # Check if target_song exists\n",
    "    if not target_song:\n",
    "        raise ValueError(f\"Uri {target_uri} not found in the dataset.\")\n",
    "    \n",
    "    target_vector = target_song[\"scaled_features\"]\n",
    "\n",
    "    # Define a UDF to calculate Euclidean distance\n",
    "    def euclidean_distance(v1, v2):\n",
    "        return float(v1.squared_distance(v2)) ** 0.5\n",
    "\n",
    "    distance_udf = F.udf(lambda v: euclidean_distance(target_vector, v), FloatType())\n",
    "\n",
    "    # Calculate distances and get the closest songs\n",
    "    df_with_distances = df.withColumn(\"distance\", distance_udf(F.col(\"scaled_features\")))\n",
    "    recommendations = (df_with_distances\n",
    "                       .filter(F.col(\"Uri\") != target_uri)  # Exclude the target song itself\n",
    "                       .select(\"Uri\", \"Title\", \"Artist\", \"distance\")  # Include Uri, Title, Artist\n",
    "                       .orderBy(\"distance\")\n",
    "                       .limit(n_recommendations))\n",
    "    \n",
    "    return recommendations"
   ]
  },
  {
   "cell_type": "code",
   "execution_count": 84,
   "metadata": {},
   "outputs": [
    {
     "name": "stderr",
     "output_type": "stream",
     "text": [
      "24/11/14 15:47:06 WARN CSVHeaderChecker: CSV header does not conform to the schema.\n",
      " Header: Country, Uri, danceability, energy, loudness, acoustics, instrumentalness, liveliness, valence, tempo\n",
      " Schema: Country0, Uri, danceability, energy, loudness, acoustics, instrumentalness, liveliness, valence, tempo\n",
      "Expected: Country0 but found: Country\n",
      "CSV file: file:///Users/nate/Desktop/FALL24%202/ENSF612/Project/Music_Analytics_and_Recommendation/Music_Database.csv\n",
      "24/11/14 15:47:08 WARN CSVHeaderChecker: CSV header does not conform to the schema.\n",
      " Header: Country, Uri, Title, Artist, danceability, energy, loudness, acoustics, instrumentalness, liveliness, valence, tempo\n",
      " Schema: Country0, Uri, Title, Artist, danceability, energy, loudness, acoustics, instrumentalness, liveliness, valence, tempo\n",
      "Expected: Country0 but found: Country\n",
      "CSV file: file:///Users/nate/Desktop/FALL24%202/ENSF612/Project/Music_Analytics_and_Recommendation/Music_Database.csv\n",
      "/Users/nate/opt/anaconda3/envs/myenv/lib/python3.12/site-packages/pyspark/python/lib/pyspark.zip/pyspark/daemon.py:154: DeprecationWarning: This process (pid=33314) is multi-threaded, use of fork() may lead to deadlocks in the child.\n"
     ]
    },
    {
     "name": "stdout",
     "output_type": "stream",
     "text": [
      "+--------------------+------------------+--------------------+----------+\n",
      "|                 Uri|             Title|              Artist|  distance|\n",
      "+--------------------+------------------+--------------------+----------+\n",
      "|https://open.spot...|        adan y eva|        Paulo Londra|0.04859169|\n",
      "|https://open.spot...|la jeepeta - remix|Nio Garcia - Anue...|0.43462214|\n",
      "|https://open.spot...|la jeepeta - remix|Nio Garcia - Anue...|0.44388047|\n",
      "|https://open.spot...|       fuego lento|          Drake Bell| 0.5159253|\n",
      "|https://open.spot...|     supuestamente|    Ozuna - Anuel AA|0.57871056|\n",
      "+--------------------+------------------+--------------------+----------+\n",
      "\n"
     ]
    },
    {
     "name": "stderr",
     "output_type": "stream",
     "text": [
      "                                                                                \r"
     ]
    }
   ],
   "source": [
    "# Example usage:\n",
    "recommendations_df = get_recommendations(data_scaled, target_uri=\"https://open.spotify.com/track/6FyRXC8tJUh863JCkyWqtk\", n_recommendations=5)\n",
    "recommendations_df.show()"
   ]
  }
 ],
 "metadata": {
  "kernelspec": {
   "display_name": "myenv",
   "language": "python",
   "name": "python3"
  },
  "language_info": {
   "codemirror_mode": {
    "name": "ipython",
    "version": 3
   },
   "file_extension": ".py",
   "mimetype": "text/x-python",
   "name": "python",
   "nbconvert_exporter": "python",
   "pygments_lexer": "ipython3",
   "version": "3.12.3"
  }
 },
 "nbformat": 4,
 "nbformat_minor": 2
}
